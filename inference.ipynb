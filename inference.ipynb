{
  "nbformat": 4,
  "nbformat_minor": 0,
  "metadata": {
    "kernelspec": {
      "display_name": "Python 3",
      "language": "python",
      "name": "python3"
    },
    "language_info": {
      "codemirror_mode": {
        "name": "ipython",
        "version": 2
      },
      "file_extension": ".py",
      "mimetype": "text/x-python",
      "name": "python",
      "nbconvert_exporter": "python",
      "pygments_lexer": "ipython2",
      "version": "2.7.6"
    },
    "colab": {
      "name": "inference.ipynb",
      "provenance": [],
      "toc_visible": true,
      "include_colab_link": true
    }
  },
  "cells": [
    {
      "cell_type": "markdown",
      "metadata": {
        "id": "view-in-github",
        "colab_type": "text"
      },
      "source": [
        "<a href=\"https://colab.research.google.com/github/Arye182/Deep_Learning_Monet_Competition_Kaggle/blob/master/inference.ipynb\" target=\"_parent\"><img src=\"https://colab.research.google.com/assets/colab-badge.svg\" alt=\"Open In Colab\"/></a>"
      ]
    },
    {
      "cell_type": "code",
      "metadata": {
        "collapsed": true,
        "id": "Xb8SkZWgOdfp"
      },
      "source": [
        "# inference"
      ],
      "execution_count": null,
      "outputs": []
    },
    {
      "cell_type": "markdown",
      "metadata": {
        "id": "fSM7WYQcVM5P"
      },
      "source": [
        "# Preperation"
      ]
    },
    {
      "cell_type": "markdown",
      "metadata": {
        "id": "i9Ly66dJVBHj"
      },
      "source": [
        "# Load H5 Tensor Flow Model"
      ]
    },
    {
      "cell_type": "markdown",
      "metadata": {
        "id": "IOcBZmTfVBpL"
      },
      "source": [
        "# Run Model On 7000 Photos"
      ]
    },
    {
      "cell_type": "markdown",
      "metadata": {
        "id": "sVg3PtF7VJLh"
      },
      "source": [
        "# Prepare Subbmission"
      ]
    }
  ]
}