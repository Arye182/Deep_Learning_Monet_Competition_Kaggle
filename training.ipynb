{
 "nbformat": 4,
 "nbformat_minor": 0,
 "metadata": {
  "kernelspec": {
   "display_name": "Python 3",
   "language": "python",
   "name": "python3"
  },
  "language_info": {
   "codemirror_mode": {
    "name": "ipython",
    "version": 2
   },
   "file_extension": ".py",
   "mimetype": "text/x-python",
   "name": "python",
   "nbconvert_exporter": "python",
   "pygments_lexer": "ipython2",
   "version": "2.7.6"
  },
  "colab": {
   "name": "training.ipynb",
   "provenance": [],
   "toc_visible": true,
   "include_colab_link": true
  }
 },
 "cells": [
  {
   "cell_type": "markdown",
   "metadata": {
    "id": "view-in-github",
    "colab_type": "text"
   },
   "source": [
    "<a href=\"https://colab.research.google.com/github/Arye182/Deep_Learning_Monet_Competition_Kaggle/blob/master/training.ipynb\" target=\"_parent\"><img src=\"https://colab.research.google.com/assets/colab-badge.svg\" alt=\"Open In Colab\"/></a>"
   ]
  },
  {
   "cell_type": "markdown",
   "metadata": {
    "id": "khoTLt1up3iZ"
   },
   "source": [
    "# Introduction\n",
    "we are going to do a something of a painmnter monet, yes we are! dont you worry baby"
   ]
  },
  {
   "cell_type": "markdown",
   "metadata": {
    "id": "VGkDdU3dp_jh"
   },
   "source": [
    "# Installations & Imports"
   ]
  },
  {
   "cell_type": "markdown",
   "metadata": {
    "id": "BGLrf8KUl09C"
   },
   "source": [
    "#### Imports"
   ]
  },
  {
   "cell_type": "code",
   "metadata": {
    "collapsed": true,
    "id": "FInWELmlNP4m"
   },
   "source": [
    "import tensorflow as tf\n",
    "from tensorflow import keras\n",
    "from tensorflow.keras import layers\n",
    "import tensorflow_addons as tfa\n",
    "\n",
    "import matplotlib.pyplot as plt\n",
    "import numpy as np"
   ],
   "execution_count": 10,
   "outputs": []
  },
  {
   "cell_type": "markdown",
   "metadata": {
    "id": "vjBdZz9Opd_-"
   },
   "source": [
    "#### Data Base (Kaggle)"
   ]
  },
  {
   "cell_type": "code",
   "metadata": {
    "id": "PXXIobBDmCj9"
   },
   "source": [
    "!pip install -q kaggle\n",
    "!pip install --upgrade --force-reinstall --no-deps kaggle\n",
    "!mkdir -p ~/.kaggle\n",
    "!echo '{\"username\":\"YOUR_USERNAME\",\"key\":\"YOUR_API_KEY\"}' > /root/.kaggle/kaggle.json\n",
    "!chmod 600 /content/kaggle.json\n",
    "!mkdir -p temp-data\n",
    "print(\"starting to download data!\")\n",
    "!kaggle competitions download -c gan-getting-started -p temp-data\n",
    "!unzip temp-data/gan-getting-started.zip\n",
    "print(\"finished to download data\")\n",
    "\n",
    "\n"
   ],
   "execution_count": null,
   "outputs": []
  },
  {
   "cell_type": "markdown",
   "metadata": {
    "id": "nXmhSD6fp32H"
   },
   "source": [
    "# New Section"
   ]
  },
  {
   "cell_type": "markdown",
   "metadata": {
    "id": "23YhbRnMl34R"
   },
   "source": [
    "need to understand what it is"
   ]
  },
  {
   "cell_type": "code",
   "metadata": {
    "id": "9BkD2LwHl4SA",
    "outputId": "effca5ef-390a-46da-e6b1-8692059c3183",
    "colab": {
     "base_uri": "https://localhost:8080/"
    }
   },
   "source": [
    "try:\n",
    "    tpu = tf.distribute.cluster_resolver.TPUClusterResolver()\n",
    "    print('Device:', tpu.master())\n",
    "    tf.config.experimental_connect_to_cluster(tpu)\n",
    "    tf.tpu.experimental.initialize_tpu_system(tpu)\n",
    "    strategy = tf.distribute.experimental.TPUStrategy(tpu)\n",
    "except:\n",
    "    strategy = tf.distribute.get_strategy()\n",
    "print('Number of replicas:', strategy.num_replicas_in_sync)\n",
    "\n",
    "AUTOTUNE = tf.data.experimental.AUTOTUNE\n",
    "    \n",
    "print(tf.__version__)"
   ],
   "execution_count": 12,
   "outputs": [
    {
     "output_type": "stream",
     "text": [
      "Number of replicas: 1\n",
      "2.5.0\n"
     ],
     "name": "stdout"
    }
   ]
  },
  {
   "cell_type": "markdown",
   "metadata": {
    "id": "7flQQ83nl4p7"
   },
   "source": [
    ""
   ]
  },
  {
   "cell_type": "code",
   "metadata": {
    "id": "WkPYV1bVl49W"
   },
   "source": [
    ""
   ],
   "execution_count": null,
   "outputs": []
  },
  {
   "cell_type": "markdown",
   "metadata": {
    "id": "qT8KzunTl5aJ"
   },
   "source": [
    ""
   ]
  },
  {
   "cell_type": "code",
   "metadata": {
    "id": "iLW7Szp9l5sh"
   },
   "source": [
    ""
   ],
   "execution_count": null,
   "outputs": []
  }
 ]
}