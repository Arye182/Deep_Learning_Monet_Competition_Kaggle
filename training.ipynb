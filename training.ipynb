{
  "nbformat": 4,
  "nbformat_minor": 0,
  "metadata": {
    "kernelspec": {
      "display_name": "Python 3",
      "language": "python",
      "name": "python3"
    },
    "language_info": {
      "codemirror_mode": {
        "name": "ipython",
        "version": 2
      },
      "file_extension": ".py",
      "mimetype": "text/x-python",
      "name": "python",
      "nbconvert_exporter": "python",
      "pygments_lexer": "ipython2",
      "version": "2.7.6"
    },
    "colab": {
      "name": "training.ipynb",
      "provenance": [],
      "include_colab_link": true
    },
    "accelerator": "TPU"
  },
  "cells": [
    {
      "cell_type": "markdown",
      "metadata": {
        "id": "view-in-github",
        "colab_type": "text"
      },
      "source": [
        "<a href=\"https://colab.research.google.com/github/Arye182/Deep_Learning_Monet_Competition_Kaggle/blob/master/training.ipynb\" target=\"_parent\"><img src=\"https://colab.research.google.com/assets/colab-badge.svg\" alt=\"Open In Colab\"/></a>"
      ]
    },
    {
      "cell_type": "markdown",
      "metadata": {
        "id": "khoTLt1up3iZ"
      },
      "source": [
        "# Introduction\n",
        "we are going to do a something of a painmnter monet, yes we are! dont you worry baby"
      ]
    },
    {
      "cell_type": "markdown",
      "metadata": {
        "id": "VGkDdU3dp_jh"
      },
      "source": [
        "# Installations & Imports\n",
        "here we will prepare everything"
      ]
    },
    {
      "cell_type": "markdown",
      "metadata": {
        "id": "62oqs_EPF6Oq"
      },
      "source": [
        "#### installations"
      ]
    },
    {
      "cell_type": "code",
      "metadata": {
        "id": "r5xxD9FlF4V5",
        "outputId": "9b81646b-7cd7-4226-e12d-d588c4ec3b07",
        "colab": {
          "base_uri": "https://localhost:8080/"
        }
      },
      "source": [
        "!pip install -q kaggle\n",
        "!pip install --upgrade --force-reinstall --no-deps kaggle"
      ],
      "execution_count": 17,
      "outputs": [
        {
          "output_type": "stream",
          "text": [
            "Collecting kaggle\n",
            "  Using cached kaggle-1.5.12-py3-none-any.whl\n",
            "Installing collected packages: kaggle\n",
            "  Attempting uninstall: kaggle\n",
            "    Found existing installation: kaggle 1.5.12\n",
            "    Uninstalling kaggle-1.5.12:\n",
            "      Successfully uninstalled kaggle-1.5.12\n",
            "Successfully installed kaggle-1.5.12\n"
          ],
          "name": "stdout"
        }
      ]
    },
    {
      "cell_type": "markdown",
      "metadata": {
        "id": "BGLrf8KUl09C"
      },
      "source": [
        "#### Imports"
      ]
    },
    {
      "cell_type": "code",
      "metadata": {
        "collapsed": true,
        "id": "FInWELmlNP4m"
      },
      "source": [
        "import tensorflow as tf\n",
        "from tensorflow import keras\n",
        "from tensorflow.keras import layers\n",
        "import tensorflow_addons as tfa\n",
        "from google.colab import files\n",
        "\n",
        "import matplotlib.pyplot as plt\n",
        "import numpy as np"
      ],
      "execution_count": 18,
      "outputs": []
    },
    {
      "cell_type": "markdown",
      "metadata": {
        "id": "3uU4D-IsS3he"
      },
      "source": [
        "#### TPU Initialization"
      ]
    },
    {
      "cell_type": "code",
      "metadata": {
        "id": "9BkD2LwHl4SA"
      },
      "source": [
        "try:\n",
        "    tpu = tf.distribute.cluster_resolver.TPUClusterResolver()\n",
        "    print('Device:', tpu.master())\n",
        "    tf.config.experimental_connect_to_cluster(tpu)\n",
        "    tf.tpu.experimental.initialize_tpu_system(tpu)\n",
        "    strategy = tf.distribute.experimental.TPUStrategy(tpu)\n",
        "except:\n",
        "    strategy = tf.distribute.get_strategy()\n",
        "print('Number of replicas:', strategy.num_replicas_in_sync)\n",
        "\n",
        "AUTOTUNE = tf.data.experimental.AUTOTUNE\n",
        "    \n",
        "print(tf.__version__)"
      ],
      "execution_count": null,
      "outputs": []
    },
    {
      "cell_type": "markdown",
      "metadata": {
        "id": "vjBdZz9Opd_-"
      },
      "source": [
        "#### Data Base Download (Kaggle)"
      ]
    },
    {
      "cell_type": "code",
      "metadata": {
        "id": "PXXIobBDmCj9"
      },
      "source": [
        "files.upload()\n",
        "! mkdir ~/.kaggle\n",
        "! cp kaggle.json ~/.kaggle/\n",
        "! chmod 600 ~/.kaggle/kaggle.json\n",
        "! kaggle datasets list"
      ],
      "execution_count": null,
      "outputs": []
    },
    {
      "cell_type": "code",
      "metadata": {
        "id": "qkoDbc7uGf4D"
      },
      "source": [
        "print(\"starting to download data!\")\n",
        "!mkdir -p temp-data\n",
        "!kaggle competitions download -c gan-getting-started -p temp-data\n",
        "!unzip temp-data/gan-getting-started.zip\n",
        "print(\"finished to download data\")"
      ],
      "execution_count": null,
      "outputs": []
    },
    {
      "cell_type": "markdown",
      "metadata": {
        "id": "nXmhSD6fp32H"
      },
      "source": [
        "# Build Model\n",
        "need to understand what it is"
      ]
    },
    {
      "cell_type": "markdown",
      "metadata": {
        "id": "7flQQ83nl4p7"
      },
      "source": [
        "#### Generator"
      ]
    },
    {
      "cell_type": "code",
      "metadata": {
        "id": "WkPYV1bVl49W"
      },
      "source": [
        ""
      ],
      "execution_count": null,
      "outputs": []
    },
    {
      "cell_type": "markdown",
      "metadata": {
        "id": "qT8KzunTl5aJ"
      },
      "source": [
        "#### Discriminator"
      ]
    },
    {
      "cell_type": "code",
      "metadata": {
        "id": "iLW7Szp9l5sh"
      },
      "source": [
        ""
      ],
      "execution_count": null,
      "outputs": []
    },
    {
      "cell_type": "markdown",
      "metadata": {
        "id": "q7UbyzrwXAf_"
      },
      "source": [
        "# Check Model - Before Optimizationd"
      ]
    },
    {
      "cell_type": "markdown",
      "metadata": {
        "id": "GFkSfzngXFkT"
      },
      "source": [
        "# Optimize Model\n",
        "Augmentation  \n",
        "Transfer  \n",
        "2-headed cycle gan  "
      ]
    },
    {
      "cell_type": "markdown",
      "metadata": {
        "id": "7I77ro0lXaHr"
      },
      "source": [
        "# Choose The Best 30 Images For The Optimized Model"
      ]
    },
    {
      "cell_type": "markdown",
      "metadata": {
        "id": "e3kCJNWwXRaY"
      },
      "source": [
        "# Save TensorFlow Model (H5)\n",
        "The Best Model With The Best Images After it has been trained"
      ]
    }
  ]
}