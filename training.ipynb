{
  "nbformat": 4,
  "nbformat_minor": 0,
  "metadata": {
    "kernelspec": {
      "display_name": "Python 3",
      "language": "python",
      "name": "python3"
    },
    "language_info": {
      "codemirror_mode": {
        "name": "ipython",
        "version": 2
      },
      "file_extension": ".py",
      "mimetype": "text/x-python",
      "name": "python",
      "nbconvert_exporter": "python",
      "pygments_lexer": "ipython2",
      "version": "2.7.6"
    },
    "colab": {
      "name": "training.ipynb",
      "provenance": [],
      "toc_visible": true,
      "include_colab_link": true
    },
    "accelerator": "TPU"
  },
  "cells": [
    {
      "cell_type": "markdown",
      "metadata": {
        "id": "view-in-github",
        "colab_type": "text"
      },
      "source": [
        "<a href=\"https://colab.research.google.com/github/Arye182/Deep_Learning_Monet_Competition_Kaggle/blob/master/training.ipynb\" target=\"_parent\"><img src=\"https://colab.research.google.com/assets/colab-badge.svg\" alt=\"Open In Colab\"/></a>"
      ]
    },
    {
      "cell_type": "markdown",
      "metadata": {
        "id": "khoTLt1up3iZ"
      },
      "source": [
        "# Introduction\n",
        "The project is a part of a final assignment in course deep learning, as part of kaggle competition im I’m Something of a Painter Myself in which we can actually take photos from life and translate them into monet styled photos. Adding style to photos is a very popular issue in programming nowadays, we see a lot of filters and image processing applications on a daily basis. The ability to take photos and mimic the style of an artist is a quite impressive challenge.     \n",
        "\n",
        "  \n",
        "**References**  \n",
        "  \n",
        "    \n",
        "      \n",
        "notebooks:    \n",
        "https://www.kaggle.com/amyjang/monet-cyclegan-tutorial - tuturial notebook  \n",
        "https://www.kaggle.com/unfriendlyai/cyclegan-with-dg-pretraining - used the help to create fid\n",
        "\n",
        "\n"
      ]
    },
    {
      "cell_type": "markdown",
      "metadata": {
        "id": "VGkDdU3dp_jh"
      },
      "source": [
        "# Installations & Imports\n",
        "here we will prepare everything"
      ]
    },
    {
      "cell_type": "markdown",
      "metadata": {
        "id": "62oqs_EPF6Oq"
      },
      "source": [
        "#### Installations"
      ]
    },
    {
      "cell_type": "code",
      "metadata": {
        "id": "r5xxD9FlF4V5",
        "colab": {
          "base_uri": "https://localhost:8080/"
        },
        "outputId": "15044eb5-f905-4111-fc90-bd4ce231b5e9"
      },
      "source": [
        "!pip install -q kaggle\n",
        "!pip install --upgrade --force-reinstall --no-deps kaggle\n",
        "!pip install tensorflow_addons\n",
        "!pip install image-quality"
      ],
      "execution_count": 1,
      "outputs": [
        {
          "output_type": "stream",
          "text": [
            "Collecting kaggle\n",
            "  Downloading kaggle-1.5.12.tar.gz (58 kB)\n",
            "\u001b[?25l\r\u001b[K     |█████▋                          | 10 kB 23.3 MB/s eta 0:00:01\r\u001b[K     |███████████▏                    | 20 kB 31.4 MB/s eta 0:00:01\r\u001b[K     |████████████████▊               | 30 kB 17.0 MB/s eta 0:00:01\r\u001b[K     |██████████████████████▎         | 40 kB 12.2 MB/s eta 0:00:01\r\u001b[K     |███████████████████████████▉    | 51 kB 5.4 MB/s eta 0:00:01\r\u001b[K     |████████████████████████████████| 58 kB 3.3 MB/s \n",
            "\u001b[?25hBuilding wheels for collected packages: kaggle\n",
            "  Building wheel for kaggle (setup.py) ... \u001b[?25l\u001b[?25hdone\n",
            "  Created wheel for kaggle: filename=kaggle-1.5.12-py3-none-any.whl size=73052 sha256=46a4aa5be76118033091a6ac6b24528e38ce4addad0817e9eeeeebd2a4aeb4e4\n",
            "  Stored in directory: /root/.cache/pip/wheels/62/d6/58/5853130f941e75b2177d281eb7e44b4a98ed46dd155f556dc5\n",
            "Successfully built kaggle\n",
            "Installing collected packages: kaggle\n",
            "  Attempting uninstall: kaggle\n",
            "    Found existing installation: kaggle 1.5.12\n",
            "    Uninstalling kaggle-1.5.12:\n",
            "      Successfully uninstalled kaggle-1.5.12\n",
            "Successfully installed kaggle-1.5.12\n",
            "Collecting tensorflow_addons\n",
            "  Downloading tensorflow_addons-0.13.0-cp37-cp37m-manylinux2010_x86_64.whl (679 kB)\n",
            "\u001b[K     |████████████████████████████████| 679 kB 5.0 MB/s \n",
            "\u001b[?25hRequirement already satisfied: typeguard>=2.7 in /usr/local/lib/python3.7/dist-packages (from tensorflow_addons) (2.7.1)\n",
            "Installing collected packages: tensorflow-addons\n",
            "Successfully installed tensorflow-addons-0.13.0\n",
            "Collecting image-quality\n",
            "  Downloading image_quality-1.2.7-py3-none-any.whl (146 kB)\n",
            "\u001b[K     |████████████████████████████████| 146 kB 5.0 MB/s \n",
            "\u001b[?25hRequirement already satisfied: numpy>=1.16.4 in /usr/local/lib/python3.7/dist-packages (from image-quality) (1.19.5)\n",
            "Requirement already satisfied: scipy>=1.3.0 in /usr/local/lib/python3.7/dist-packages (from image-quality) (1.4.1)\n",
            "Collecting libsvm>=3.23.0\n",
            "  Downloading libsvm-3.23.0.4.tar.gz (170 kB)\n",
            "\u001b[K     |████████████████████████████████| 170 kB 8.8 MB/s \n",
            "\u001b[?25hRequirement already satisfied: Pillow>=5.2.0 in /usr/local/lib/python3.7/dist-packages (from image-quality) (7.1.2)\n",
            "Requirement already satisfied: scikit-image>=0.15.0 in /usr/local/lib/python3.7/dist-packages (from image-quality) (0.16.2)\n",
            "Requirement already satisfied: imageio>=2.3.0 in /usr/local/lib/python3.7/dist-packages (from scikit-image>=0.15.0->image-quality) (2.4.1)\n",
            "Requirement already satisfied: matplotlib!=3.0.0,>=2.0.0 in /usr/local/lib/python3.7/dist-packages (from scikit-image>=0.15.0->image-quality) (3.2.2)\n",
            "Requirement already satisfied: PyWavelets>=0.4.0 in /usr/local/lib/python3.7/dist-packages (from scikit-image>=0.15.0->image-quality) (1.1.1)\n",
            "Requirement already satisfied: networkx>=2.0 in /usr/local/lib/python3.7/dist-packages (from scikit-image>=0.15.0->image-quality) (2.5.1)\n",
            "Requirement already satisfied: python-dateutil>=2.1 in /usr/local/lib/python3.7/dist-packages (from matplotlib!=3.0.0,>=2.0.0->scikit-image>=0.15.0->image-quality) (2.8.1)\n",
            "Requirement already satisfied: pyparsing!=2.0.4,!=2.1.2,!=2.1.6,>=2.0.1 in /usr/local/lib/python3.7/dist-packages (from matplotlib!=3.0.0,>=2.0.0->scikit-image>=0.15.0->image-quality) (2.4.7)\n",
            "Requirement already satisfied: cycler>=0.10 in /usr/local/lib/python3.7/dist-packages (from matplotlib!=3.0.0,>=2.0.0->scikit-image>=0.15.0->image-quality) (0.10.0)\n",
            "Requirement already satisfied: kiwisolver>=1.0.1 in /usr/local/lib/python3.7/dist-packages (from matplotlib!=3.0.0,>=2.0.0->scikit-image>=0.15.0->image-quality) (1.3.1)\n",
            "Requirement already satisfied: six in /usr/local/lib/python3.7/dist-packages (from cycler>=0.10->matplotlib!=3.0.0,>=2.0.0->scikit-image>=0.15.0->image-quality) (1.15.0)\n",
            "Requirement already satisfied: decorator<5,>=4.3 in /usr/local/lib/python3.7/dist-packages (from networkx>=2.0->scikit-image>=0.15.0->image-quality) (4.4.2)\n",
            "Building wheels for collected packages: libsvm\n",
            "  Building wheel for libsvm (setup.py) ... \u001b[?25l\u001b[?25hdone\n",
            "  Created wheel for libsvm: filename=libsvm-3.23.0.4-cp37-cp37m-linux_x86_64.whl size=233356 sha256=cc01b007e9b6f19b3912ecb41b050d5da265b92dad805dd18b0e763a71c7cfbf\n",
            "  Stored in directory: /root/.cache/pip/wheels/cd/e8/1e/bf95cf256e4d3ffc94289ab508c49d48e34c98220af63e3513\n",
            "Successfully built libsvm\n",
            "Installing collected packages: libsvm, image-quality\n",
            "Successfully installed image-quality-1.2.7 libsvm-3.23.0.4\n"
          ],
          "name": "stdout"
        }
      ]
    },
    {
      "cell_type": "markdown",
      "metadata": {
        "id": "BGLrf8KUl09C"
      },
      "source": [
        "#### Imports"
      ]
    },
    {
      "cell_type": "code",
      "metadata": {
        "collapsed": true,
        "id": "FInWELmlNP4m"
      },
      "source": [
        "import tensorflow as tf\n",
        "from tensorflow import keras\n",
        "from tensorflow.keras import layers\n",
        "import tensorflow_addons as tfa\n",
        "from google.colab import files\n",
        "import PIL\n",
        "import shutil\n",
        "from tensorflow.keras.callbacks import History\n",
        "import imquality.brisque as brisque\n",
        "import PIL.Image\n",
        "\n",
        "\n",
        "\n",
        "import matplotlib.pyplot as plt\n",
        "import numpy as np"
      ],
      "execution_count": 2,
      "outputs": []
    },
    {
      "cell_type": "markdown",
      "metadata": {
        "id": "3uU4D-IsS3he"
      },
      "source": [
        "#### TPU Initialization"
      ]
    },
    {
      "cell_type": "code",
      "metadata": {
        "id": "9BkD2LwHl4SA",
        "colab": {
          "base_uri": "https://localhost:8080/"
        },
        "outputId": "99b0014a-a77d-4421-f266-553eaadf78a6"
      },
      "source": [
        "try:\n",
        "    tpu = tf.distribute.cluster_resolver.TPUClusterResolver()\n",
        "    print('Device:', tpu.master())\n",
        "    tf.config.experimental_connect_to_cluster(tpu)\n",
        "    tf.tpu.experimental.initialize_tpu_system(tpu)\n",
        "    strategy = tf.distribute.experimental.TPUStrategy(tpu)\n",
        "except:\n",
        "    strategy = tf.distribute.get_strategy()\n",
        "print('Number of replicas:', strategy.num_replicas_in_sync)\n",
        "\n",
        "AUTOTUNE = tf.data.experimental.AUTOTUNE\n",
        "    \n",
        "print(tf.__version__)"
      ],
      "execution_count": 3,
      "outputs": [
        {
          "output_type": "stream",
          "text": [
            "Number of replicas: 1\n",
            "2.5.0\n"
          ],
          "name": "stdout"
        }
      ]
    },
    {
      "cell_type": "markdown",
      "metadata": {
        "id": "diDtfgE9ZfDV"
      },
      "source": [
        "# Data Base"
      ]
    },
    {
      "cell_type": "markdown",
      "metadata": {
        "id": "DRpBPC_UHp6N"
      },
      "source": [
        "#### Data Path And Filenames Preperations"
      ]
    },
    {
      "cell_type": "code",
      "metadata": {
        "id": "HgbAWdo_ImJw"
      },
      "source": [
        "GCS_PATH = 'gs://kds-fe07dc19ed486a7fdc7d0a06e0362b4db01fa035a6c107442b99a8f2'\n",
        "MONET_FILENAMES = tf.io.gfile.glob(str(GCS_PATH + '/monet_tfrec/monet*.tfrec'))\n",
        "PHOTO_FILENAMES = tf.io.gfile.glob(str(GCS_PATH + '/photo_tfrec/photo*.tfrec'))"
      ],
      "execution_count": 4,
      "outputs": []
    },
    {
      "cell_type": "code",
      "metadata": {
        "colab": {
          "base_uri": "https://localhost:8080/"
        },
        "id": "Eud-bh3OHGqb",
        "outputId": "f589bd67-e97a-4618-edbf-8732e79cb6da"
      },
      "source": [
        "MONET_FILENAMES = tf.io.gfile.glob(str(GCS_PATH + '/monet_tfrec/*.tfrec'))\n",
        "print('Monet TFRecord Files:', len(MONET_FILENAMES))\n",
        "\n",
        "PHOTO_FILENAMES = tf.io.gfile.glob(str(GCS_PATH + '/photo_tfrec/*.tfrec'))\n",
        "print('Photo TFRecord Files:', len(PHOTO_FILENAMES))"
      ],
      "execution_count": 5,
      "outputs": [
        {
          "output_type": "stream",
          "text": [
            "Monet TFRecord Files: 5\n",
            "Photo TFRecord Files: 20\n"
          ],
          "name": "stdout"
        }
      ]
    },
    {
      "cell_type": "markdown",
      "metadata": {
        "id": "O_QCbobXL0OY"
      },
      "source": [
        "#### Define Handling Images"
      ]
    },
    {
      "cell_type": "code",
      "metadata": {
        "id": "zKdoAGOPHvyt"
      },
      "source": [
        "IMAGE_SIZE = [256, 256]\n",
        "\n",
        "def decode_image(image):\n",
        "    image = tf.image.decode_jpeg(image, channels=3)\n",
        "    image = (tf.cast(image, tf.float32) / 127.5) - 1\n",
        "    image = tf.reshape(image, [*IMAGE_SIZE, 3])\n",
        "    return image\n",
        "\n",
        "def read_tfrecord(example):\n",
        "    tfrecord_format = {\n",
        "        \"image_name\": tf.io.FixedLenFeature([], tf.string),\n",
        "        \"image\": tf.io.FixedLenFeature([], tf.string),\n",
        "        \"target\": tf.io.FixedLenFeature([], tf.string)\n",
        "    }\n",
        "    example = tf.io.parse_single_example(example, tfrecord_format)\n",
        "    image = decode_image(example['image'])\n",
        "    return image"
      ],
      "execution_count": 6,
      "outputs": []
    },
    {
      "cell_type": "markdown",
      "metadata": {
        "id": "ljQAkOcPLuTG"
      },
      "source": [
        "#### Define Load Data Set Function"
      ]
    },
    {
      "cell_type": "code",
      "metadata": {
        "id": "OMs3-TEmH2of"
      },
      "source": [
        "def load_dataset(filenames, labeled=True, ordered=False):\n",
        "    dataset = tf.data.TFRecordDataset(filenames)\n",
        "    dataset = dataset.map(read_tfrecord, num_parallel_calls=AUTOTUNE)\n",
        "    return dataset"
      ],
      "execution_count": 7,
      "outputs": []
    },
    {
      "cell_type": "markdown",
      "metadata": {
        "id": "8IsOYhxXLgzc"
      },
      "source": [
        "#### Load Data Sets For Model CycleGan\n"
      ]
    },
    {
      "cell_type": "code",
      "metadata": {
        "id": "CiXsq8m0H27b"
      },
      "source": [
        "monet_ds = load_dataset(MONET_FILENAMES, labeled=True).batch(1)\n",
        "photo_ds = load_dataset(PHOTO_FILENAMES, labeled=True).batch(1)"
      ],
      "execution_count": 8,
      "outputs": []
    },
    {
      "cell_type": "markdown",
      "metadata": {
        "id": "dJETcdXqLc4O"
      },
      "source": [
        "#### Load Data Sets For FID"
      ]
    },
    {
      "cell_type": "code",
      "metadata": {
        "id": "mopauyzALcmb"
      },
      "source": [
        "fid_photo_ds = load_dataset(PHOTO_FILENAMES).take(1024).batch(32*strategy.num_replicas_in_sync).prefetch(32)\n",
        "fid_monet_ds = load_dataset(MONET_FILENAMES).batch(32*strategy.num_replicas_in_sync).prefetch(32)"
      ],
      "execution_count": 9,
      "outputs": []
    },
    {
      "cell_type": "markdown",
      "metadata": {
        "id": "qSKvJChjGvRE"
      },
      "source": [
        "#### Showing A Taste Of The Data"
      ]
    },
    {
      "cell_type": "code",
      "metadata": {
        "colab": {
          "base_uri": "https://localhost:8080/",
          "height": 233
        },
        "id": "CT0isXnwH3bE",
        "outputId": "108ad066-701e-48d0-aab5-f0e8f0d543d5"
      },
      "source": [
        "monet_ds_iter = iter(monet_ds)\n",
        "photo_ds_iter = iter(photo_ds)\n",
        "\n",
        "example_monet = next(iter(monet_ds))\n",
        "example_photo = next(iter(photo_ds))\n",
        "\n",
        "plt.subplot(121)\n",
        "plt.title('Photo')\n",
        "plt.imshow(example_photo[0] * 0.5 + 0.5)\n",
        "\n",
        "plt.subplot(122)\n",
        "plt.title('Monet')\n",
        "plt.imshow(example_monet[0] * 0.5 + 0.5)"
      ],
      "execution_count": 10,
      "outputs": [
        {
          "output_type": "execute_result",
          "data": {
            "text/plain": [
              "<matplotlib.image.AxesImage at 0x7fc1fc151d10>"
            ]
          },
          "metadata": {
            "tags": []
          },
          "execution_count": 10
        },
        {
          "output_type": "display_data",
          "data": {
            "image/png": "[encoded data removed]",
            "text/plain": [
              "<Figure size 432x288 with 2 Axes>"
            ]
          },
          "metadata": {
            "tags": [],
            "needs_background": "light"
          }
        }
      ]
    },
    {
      "cell_type": "markdown",
      "metadata": {
        "id": "nXmhSD6fp32H"
      },
      "source": [
        "# CycleGan Model\n",
        "need to understand what it is"
      ]
    },
    {
      "cell_type": "markdown",
      "metadata": {
        "id": "7flQQ83nl4p7"
      },
      "source": [
        "#### Generator"
      ]
    },
    {
      "cell_type": "code",
      "metadata": {
        "id": "WkPYV1bVl49W"
      },
      "source": [
        "OUTPUT_CHANNELS = 3\n",
        "\n",
        "def downsample(filters, size, apply_instancenorm=True):\n",
        "    initializer = tf.random_normal_initializer(0., 0.02)\n",
        "    gamma_init = keras.initializers.RandomNormal(mean=0.0, stddev=0.02)\n",
        "\n",
        "    result = keras.Sequential()\n",
        "    result.add(layers.Conv2D(filters, size, strides=2, padding='same',\n",
        "                             kernel_initializer=initializer, use_bias=False))\n",
        "\n",
        "    if apply_instancenorm:\n",
        "        result.add(tfa.layers.InstanceNormalization(gamma_initializer=gamma_init))\n",
        "\n",
        "    result.add(layers.LeakyReLU())\n",
        "\n",
        "    return result"
      ],
      "execution_count": 11,
      "outputs": []
    },
    {
      "cell_type": "code",
      "metadata": {
        "id": "OKHv93RvMSV9"
      },
      "source": [
        "def upsample(filters, size, apply_dropout=False):\n",
        "    initializer = tf.random_normal_initializer(0., 0.02)\n",
        "    gamma_init = keras.initializers.RandomNormal(mean=0.0, stddev=0.02)\n",
        "\n",
        "    result = keras.Sequential()\n",
        "    result.add(layers.Conv2DTranspose(filters, size, strides=2,\n",
        "                                      padding='same',\n",
        "                                      kernel_initializer=initializer,\n",
        "                                      use_bias=False))\n",
        "\n",
        "    result.add(tfa.layers.InstanceNormalization(gamma_initializer=gamma_init))\n",
        "\n",
        "    if apply_dropout:\n",
        "        result.add(layers.Dropout(0.5))\n",
        "\n",
        "    result.add(layers.ReLU())\n",
        "\n",
        "    return result"
      ],
      "execution_count": 12,
      "outputs": []
    },
    {
      "cell_type": "code",
      "metadata": {
        "id": "yKOphzZJMU9z"
      },
      "source": [
        "def Generator():\n",
        "    inputs = layers.Input(shape=[256,256,3])\n",
        "\n",
        "    # bs = batch size\n",
        "    down_stack = [\n",
        "        downsample(64, 4, apply_instancenorm=False), # (bs, 128, 128, 64)\n",
        "        downsample(128, 4), # (bs, 64, 64, 128)\n",
        "        downsample(256, 4), # (bs, 32, 32, 256)\n",
        "        downsample(512, 4), # (bs, 16, 16, 512)\n",
        "        downsample(512, 4), # (bs, 8, 8, 512)\n",
        "        downsample(512, 4), # (bs, 4, 4, 512)\n",
        "        downsample(512, 4), # (bs, 2, 2, 512)\n",
        "        downsample(512, 4), # (bs, 1, 1, 512)\n",
        "    ]\n",
        "\n",
        "    up_stack = [\n",
        "        upsample(512, 4, apply_dropout=True), # (bs, 2, 2, 1024)\n",
        "        upsample(512, 4, apply_dropout=True), # (bs, 4, 4, 1024)\n",
        "        upsample(512, 4, apply_dropout=True), # (bs, 8, 8, 1024)\n",
        "        upsample(512, 4), # (bs, 16, 16, 1024)\n",
        "        upsample(256, 4), # (bs, 32, 32, 512)\n",
        "        upsample(128, 4), # (bs, 64, 64, 256)\n",
        "        upsample(64, 4), # (bs, 128, 128, 128)\n",
        "    ]\n",
        "\n",
        "    initializer = tf.random_normal_initializer(0., 0.02)\n",
        "    last = layers.Conv2DTranspose(OUTPUT_CHANNELS, 4,\n",
        "                                  strides=2,\n",
        "                                  padding='same',\n",
        "                                  kernel_initializer=initializer,\n",
        "                                  activation='tanh') # (bs, 256, 256, 3)\n",
        "\n",
        "    x = inputs\n",
        "\n",
        "    # Downsampling through the model\n",
        "    skips = []\n",
        "    for down in down_stack:\n",
        "        x = down(x)\n",
        "        skips.append(x)\n",
        "\n",
        "    skips = reversed(skips[:-1])\n",
        "\n",
        "    # Upsampling and establishing the skip connections\n",
        "    for up, skip in zip(up_stack, skips):\n",
        "        x = up(x)\n",
        "        x = layers.Concatenate()([x, skip])\n",
        "\n",
        "    x = last(x)\n",
        "\n",
        "    return keras.Model(inputs=inputs, outputs=x)"
      ],
      "execution_count": 13,
      "outputs": []
    },
    {
      "cell_type": "markdown",
      "metadata": {
        "id": "qT8KzunTl5aJ"
      },
      "source": [
        "#### Discriminator"
      ]
    },
    {
      "cell_type": "code",
      "metadata": {
        "id": "iLW7Szp9l5sh"
      },
      "source": [
        "def Discriminator():\n",
        "    initializer = tf.random_normal_initializer(0., 0.02)\n",
        "    gamma_init = keras.initializers.RandomNormal(mean=0.0, stddev=0.02)\n",
        "\n",
        "    inp = layers.Input(shape=[256, 256, 3], name='input_image')\n",
        "\n",
        "    x = inp\n",
        "\n",
        "    down1 = downsample(64, 4, False)(x) # (bs, 128, 128, 64)\n",
        "    down2 = downsample(128, 4)(down1) # (bs, 64, 64, 128)\n",
        "    down3 = downsample(256, 4)(down2) # (bs, 32, 32, 256)\n",
        "\n",
        "    zero_pad1 = layers.ZeroPadding2D()(down3) # (bs, 34, 34, 256)\n",
        "    conv = layers.Conv2D(512, 4, strides=1,\n",
        "                         kernel_initializer=initializer,\n",
        "                         use_bias=False)(zero_pad1) # (bs, 31, 31, 512)\n",
        "\n",
        "    norm1 = tfa.layers.InstanceNormalization(gamma_initializer=gamma_init)(conv)\n",
        "\n",
        "    leaky_relu = layers.LeakyReLU()(norm1)\n",
        "\n",
        "    zero_pad2 = layers.ZeroPadding2D()(leaky_relu) # (bs, 33, 33, 512)\n",
        "\n",
        "    last = layers.Conv2D(1, 4, strides=1,\n",
        "                         kernel_initializer=initializer)(zero_pad2) # (bs, 30, 30, 1)\n",
        "\n",
        "    return tf.keras.Model(inputs=inp, outputs=last)"
      ],
      "execution_count": 14,
      "outputs": []
    },
    {
      "cell_type": "markdown",
      "metadata": {
        "id": "9qwAfyHnOi6j"
      },
      "source": [
        "#### Initialize Generators And Discriminators"
      ]
    },
    {
      "cell_type": "code",
      "metadata": {
        "id": "MCDrr4s_MaUn"
      },
      "source": [
        "\n",
        "with strategy.scope():\n",
        "    monet_generator = Generator() # transforms photos to Monet-esque paintings\n",
        "    photo_generator = Generator() # transforms Monet paintings to be more like photos\n",
        "\n",
        "    monet_discriminator = Discriminator() # differentiates real Monet paintings and generated Monet paintings\n",
        "    photo_discriminator = Discriminator() # differentiates real photos and generated photos"
      ],
      "execution_count": 15,
      "outputs": []
    },
    {
      "cell_type": "code",
      "metadata": {
        "colab": {
          "base_uri": "https://localhost:8080/",
          "height": 216
        },
        "id": "Nqp1wLUWMgRJ",
        "outputId": "537dea81-74cf-4e52-909b-8943110d29fe"
      },
      "source": [
        "to_monet = monet_generator(example_photo)\n",
        "\n",
        "plt.subplot(1, 2, 1)\n",
        "plt.title(\"Original Photo\")\n",
        "plt.imshow(example_photo[0] * 0.5 + 0.5)\n",
        "\n",
        "plt.subplot(1, 2, 2)\n",
        "plt.title(\"Monet-esque Photo\")\n",
        "plt.imshow(to_monet[0] * 0.5 + 0.5)\n",
        "plt.show()"
      ],
      "execution_count": 16,
      "outputs": [
        {
          "output_type": "display_data",
          "data": {
            "image/png": "[encoded data removed]",
            "text/plain": [
              "<Figure size 432x288 with 2 Axes>"
            ]
          },
          "metadata": {
            "tags": [],
            "needs_background": "light"
          }
        }
      ]
    },
    {
      "cell_type": "markdown",
      "metadata": {
        "id": "9j34SYRrR3In"
      },
      "source": [
        "#### Define CycleGan Model"
      ]
    },
    {
      "cell_type": "code",
      "metadata": {
        "id": "U2L1SsqaU5CA"
      },
      "source": [
        "# Generate a CallBack function to save\n",
        "# the prediction, for each epoch, of the Photo above \n",
        "class GANMonitor(keras.callbacks.Callback):\n",
        "   \"\"\"A callback to generate and save images after each epoch\"\"\"\n",
        "\n",
        "   def on_epoch_end(self, epoch, logs=None):\n",
        "       prediction = gen_monet(photo, training=False)[num_photo].numpy()\n",
        "       prediction = (prediction * 127.5 + 127.5).astype(np.uint8)\n",
        "       im_to_gif[epoch] = prediction "
      ],
      "execution_count": 17,
      "outputs": []
    },
    {
      "cell_type": "code",
      "metadata": {
        "id": "rzanSe_CR26F"
      },
      "source": [
        "class CycleGan(keras.Model):\n",
        "    def __init__(\n",
        "        self,\n",
        "        monet_generator,\n",
        "        photo_generator,\n",
        "        monet_discriminator,\n",
        "        photo_discriminator,\n",
        "        lambda_cycle=10,\n",
        "    ):\n",
        "        super(CycleGan, self).__init__()\n",
        "        self.m_gen = monet_generator\n",
        "        self.p_gen = photo_generator\n",
        "        self.m_disc = monet_discriminator\n",
        "        self.p_disc = photo_discriminator\n",
        "        self.lambda_cycle = lambda_cycle\n",
        "        \n",
        "    def compile(\n",
        "        self,\n",
        "        m_gen_optimizer,\n",
        "        p_gen_optimizer,\n",
        "        m_disc_optimizer,\n",
        "        p_disc_optimizer,\n",
        "        gen_loss_fn,\n",
        "        disc_loss_fn,\n",
        "        cycle_loss_fn,\n",
        "        identity_loss_fn\n",
        "    ):\n",
        "        super(CycleGan, self).compile()\n",
        "        self.m_gen_optimizer = m_gen_optimizer\n",
        "        self.p_gen_optimizer = p_gen_optimizer\n",
        "        self.m_disc_optimizer = m_disc_optimizer\n",
        "        self.p_disc_optimizer = p_disc_optimizer\n",
        "        self.gen_loss_fn = gen_loss_fn\n",
        "        self.disc_loss_fn = disc_loss_fn\n",
        "        self.cycle_loss_fn = cycle_loss_fn\n",
        "        self.identity_loss_fn = identity_loss_fn\n",
        "        \n",
        "    def train_step(self, batch_data):\n",
        "        real_monet, real_photo = batch_data\n",
        "        \n",
        "        with tf.GradientTape(persistent=True) as tape:\n",
        "            # photo to monet back to photo\n",
        "            fake_monet = self.m_gen(real_photo, training=True)\n",
        "            cycled_photo = self.p_gen(fake_monet, training=True)\n",
        "\n",
        "            # monet to photo back to monet\n",
        "            fake_photo = self.p_gen(real_monet, training=True)\n",
        "            cycled_monet = self.m_gen(fake_photo, training=True)\n",
        "\n",
        "            # generating itself\n",
        "            same_monet = self.m_gen(real_monet, training=True)\n",
        "            same_photo = self.p_gen(real_photo, training=True)\n",
        "\n",
        "            # discriminator used to check, inputing real images\n",
        "            disc_real_monet = self.m_disc(real_monet, training=True)\n",
        "            disc_real_photo = self.p_disc(real_photo, training=True)\n",
        "\n",
        "            # discriminator used to check, inputing fake images\n",
        "            disc_fake_monet = self.m_disc(fake_monet, training=True)\n",
        "            disc_fake_photo = self.p_disc(fake_photo, training=True)\n",
        "\n",
        "            # evaluates generator loss\n",
        "            monet_gen_loss = self.gen_loss_fn(disc_fake_monet)\n",
        "            photo_gen_loss = self.gen_loss_fn(disc_fake_photo)\n",
        "\n",
        "            # evaluates total cycle consistency loss\n",
        "            total_cycle_loss = self.cycle_loss_fn(real_monet, cycled_monet, self.lambda_cycle) + self.cycle_loss_fn(real_photo, cycled_photo, self.lambda_cycle)\n",
        "\n",
        "            # evaluates total generator loss\n",
        "            total_monet_gen_loss = monet_gen_loss + total_cycle_loss + self.identity_loss_fn(real_monet, same_monet, self.lambda_cycle)\n",
        "            total_photo_gen_loss = photo_gen_loss + total_cycle_loss + self.identity_loss_fn(real_photo, same_photo, self.lambda_cycle)\n",
        "\n",
        "            # evaluates discriminator loss\n",
        "            monet_disc_loss = self.disc_loss_fn(disc_real_monet, disc_fake_monet)\n",
        "            photo_disc_loss = self.disc_loss_fn(disc_real_photo, disc_fake_photo)\n",
        "\n",
        "        # Calculate the gradients for generator and discriminator\n",
        "        monet_generator_gradients = tape.gradient(total_monet_gen_loss,\n",
        "                                                  self.m_gen.trainable_variables)\n",
        "        photo_generator_gradients = tape.gradient(total_photo_gen_loss,\n",
        "                                                  self.p_gen.trainable_variables)\n",
        "\n",
        "        monet_discriminator_gradients = tape.gradient(monet_disc_loss,\n",
        "                                                      self.m_disc.trainable_variables)\n",
        "        photo_discriminator_gradients = tape.gradient(photo_disc_loss,\n",
        "                                                      self.p_disc.trainable_variables)\n",
        "\n",
        "        # Apply the gradients to the optimizer\n",
        "        self.m_gen_optimizer.apply_gradients(zip(monet_generator_gradients,\n",
        "                                                 self.m_gen.trainable_variables))\n",
        "\n",
        "        self.p_gen_optimizer.apply_gradients(zip(photo_generator_gradients,\n",
        "                                                 self.p_gen.trainable_variables))\n",
        "\n",
        "        self.m_disc_optimizer.apply_gradients(zip(monet_discriminator_gradients,\n",
        "                                                  self.m_disc.trainable_variables))\n",
        "\n",
        "        self.p_disc_optimizer.apply_gradients(zip(photo_discriminator_gradients,\n",
        "                                                  self.p_disc.trainable_variables))\n",
        "        \n",
        "        return {\n",
        "            \"monet_gen_loss\": total_monet_gen_loss,\n",
        "            \"photo_gen_loss\": total_photo_gen_loss,\n",
        "            \"monet_disc_loss\": monet_disc_loss,\n",
        "            \"photo_disc_loss\": photo_disc_loss\n",
        "        }"
      ],
      "execution_count": 18,
      "outputs": []
    },
    {
      "cell_type": "markdown",
      "metadata": {
        "id": "VshnTj93R9Nf"
      },
      "source": [
        "#### Loss"
      ]
    },
    {
      "cell_type": "code",
      "metadata": {
        "id": "82r951xjR893"
      },
      "source": [
        "with strategy.scope():\n",
        "    def discriminator_loss(real, generated):\n",
        "        real_loss = tf.keras.losses.BinaryCrossentropy(from_logits=True, reduction=tf.keras.losses.Reduction.NONE)(tf.ones_like(real), real)\n",
        "\n",
        "        generated_loss = tf.keras.losses.BinaryCrossentropy(from_logits=True, reduction=tf.keras.losses.Reduction.NONE)(tf.zeros_like(generated), generated)\n",
        "\n",
        "        total_disc_loss = real_loss + generated_loss\n",
        "\n",
        "        return total_disc_loss * 0.5"
      ],
      "execution_count": 19,
      "outputs": []
    },
    {
      "cell_type": "code",
      "metadata": {
        "id": "IyfuY1VVSALa"
      },
      "source": [
        "with strategy.scope():\n",
        "    def generator_loss(generated):\n",
        "        return tf.keras.losses.BinaryCrossentropy(from_logits=True, reduction=tf.keras.losses.Reduction.NONE)(tf.ones_like(generated), generated)"
      ],
      "execution_count": 20,
      "outputs": []
    },
    {
      "cell_type": "code",
      "metadata": {
        "id": "6U-bvCbgSBn4"
      },
      "source": [
        "with strategy.scope():\n",
        "    def calc_cycle_loss(real_image, cycled_image, LAMBDA):\n",
        "        loss1 = tf.reduce_mean(tf.abs(real_image - cycled_image))\n",
        "\n",
        "        return LAMBDA * loss1"
      ],
      "execution_count": 21,
      "outputs": []
    },
    {
      "cell_type": "code",
      "metadata": {
        "id": "q7VlI1efSDLQ"
      },
      "source": [
        "with strategy.scope():\n",
        "    def identity_loss(real_image, same_image, LAMBDA):\n",
        "        loss = tf.reduce_mean(tf.abs(real_image - same_image))\n",
        "        return LAMBDA * 0.5 * loss"
      ],
      "execution_count": 22,
      "outputs": []
    },
    {
      "cell_type": "markdown",
      "metadata": {
        "id": "_0TidpmQMfqD"
      },
      "source": [
        "#### FID - Frechet Distance"
      ]
    },
    {
      "cell_type": "code",
      "metadata": {
        "colab": {
          "base_uri": "https://localhost:8080/"
        },
        "id": "F4VWDV3DMBLE",
        "outputId": "749fa2f0-5291-4928-f4bc-36fc2f185541"
      },
      "source": [
        "with strategy.scope():\n",
        "\n",
        "    inception_model = tf.keras.applications.InceptionV3(input_shape=(256,256,3),pooling=\"avg\",include_top=False)\n",
        "\n",
        "    mix3  = inception_model.get_layer(\"mixed9\").output\n",
        "    f0 = tf.keras.layers.GlobalAveragePooling2D()(mix3)\n",
        "\n",
        "    inception_model = tf.keras.Model(inputs=inception_model.input, outputs=f0)\n",
        "    inception_model.trainable = False\n",
        "\n",
        "    def calculate_activation_statistics_mod(images,fid_model):\n",
        "\n",
        "            act=tf.cast(fid_model.predict(images), tf.float32)\n",
        "\n",
        "            mu = tf.reduce_mean(act, axis=0)\n",
        "            mean_x = tf.reduce_mean(act, axis=0, keepdims=True)\n",
        "            mx = tf.matmul(tf.transpose(mean_x), mean_x)\n",
        "            vx = tf.matmul(tf.transpose(act), act)/tf.cast(tf.shape(act)[0], tf.float32)\n",
        "            sigma = vx - mx\n",
        "            return mu, sigma\n",
        "    myFID_mu2, myFID_sigma2 = calculate_activation_statistics_mod(fid_monet_ds,inception_model)        \n",
        "    fids=[]"
      ],
      "execution_count": 23,
      "outputs": [
        {
          "output_type": "stream",
          "text": [
            "Downloading data from https://storage.googleapis.com/tensorflow/keras-applications/inception_v3/inception_v3_weights_tf_dim_ordering_tf_kernels_notop.h5\n",
            "87916544/87910968 [==============================] - 1s 0us/step\n"
          ],
          "name": "stdout"
        }
      ]
    },
    {
      "cell_type": "code",
      "metadata": {
        "id": "s-Tl31xkSEi-"
      },
      "source": [
        "with strategy.scope():\n",
        "    def calculate_frechet_distance(mu1,sigma1,mu2,sigma2):\n",
        "        fid_epsilon = 1e-14\n",
        "       \n",
        "        covmean = tf.linalg.sqrtm(tf.cast(tf.matmul(sigma1,sigma2),tf.complex64))\n",
        "#         isgood=tf.cast(tf.math.is_finite(covmean), tf.int32)\n",
        "#         if tf.size(isgood)!=tf.math.reduce_sum(isgood):\n",
        "#             return 0\n",
        "\n",
        "        covmean = tf.cast(tf.math.real(covmean),tf.float32)\n",
        "        tr_covmean = tf.linalg.trace(covmean)\n",
        "\n",
        "        return tf.matmul(tf.expand_dims(mu1 - mu2, axis=0),tf.expand_dims(mu1 - mu2, axis=1)) + tf.linalg.trace(sigma1) + tf.linalg.trace(sigma2) - 2 * tr_covmean\n",
        "\n",
        "    def FID(images,gen_model,inception_model=inception_model,myFID_mu2=myFID_mu2, myFID_sigma2=myFID_sigma2):\n",
        "                inp = layers.Input(shape=[256, 256, 3], name='input_image')\n",
        "                x  = gen_model(inp)\n",
        "                x=inception_model(x)\n",
        "                fid_model = tf.keras.Model(inputs=inp, outputs=x)\n",
        "                mu1, sigma1= calculate_activation_statistics_mod(images,fid_model)\n",
        "                fid_value = calculate_frechet_distance(mu1, sigma1,myFID_mu2, myFID_sigma2)\n",
        "                return fid_value"
      ],
      "execution_count": 24,
      "outputs": []
    },
    {
      "cell_type": "markdown",
      "metadata": {
        "id": "PWBzXZjMVaq3"
      },
      "source": [
        "#### Optimizerrs"
      ]
    },
    {
      "cell_type": "code",
      "metadata": {
        "id": "0RfphfGVSF91"
      },
      "source": [
        "with strategy.scope():\n",
        "    monet_generator_optimizer = tf.keras.optimizers.Adam(2e-4, beta_1=0.5)\n",
        "    photo_generator_optimizer = tf.keras.optimizers.Adam(2e-4, beta_1=0.5)\n",
        "\n",
        "    monet_discriminator_optimizer = tf.keras.optimizers.Adam(2e-4, beta_1=0.5)\n",
        "    photo_discriminator_optimizer = tf.keras.optimizers.Adam(2e-4, beta_1=0.5)"
      ],
      "execution_count": 25,
      "outputs": []
    },
    {
      "cell_type": "markdown",
      "metadata": {
        "id": "q7UbyzrwXAf_"
      },
      "source": [
        "# Steps 1,2 - Base Line Model Evaluation\n",
        "\n"
      ]
    },
    {
      "cell_type": "markdown",
      "metadata": {
        "id": "PJN_Udlpz94u"
      },
      "source": [
        "#### Define Model Evaluator With Results Presentation (will convert to Class)\n",
        "Taking the mean might not be the good way, but we can still monitor something]"
      ]
    },
    {
      "cell_type": "code",
      "metadata": {
        "id": "a4fdzdht0Dwo"
      },
      "source": [
        "def evaluate_model(epochs, data, fid_flag):\n",
        "    monet_generator = Generator() # transforms photos to Monet-esque paintings\n",
        "    photo_generator = Generator() # transforms Monet paintings to be more like photos\n",
        "    monet_discriminator = Discriminator() # differentiates real Monet paintings and generated Monet paintings\n",
        "    photo_discriminator = Discriminator() # differentiates real photos and generated photos\n",
        "\n",
        "    # define model\n",
        "    cycle_gan_model = CycleGan(\n",
        "        monet_generator, photo_generator, monet_discriminator, photo_discriminator\n",
        "    )\n",
        "\n",
        "    # compile model\n",
        "    cycle_gan_model.compile(\n",
        "    m_gen_optimizer = monet_generator_optimizer,\n",
        "    p_gen_optimizer = photo_generator_optimizer,\n",
        "    m_disc_optimizer = monet_discriminator_optimizer,\n",
        "    p_disc_optimizer = photo_discriminator_optimizer,\n",
        "    gen_loss_fn = generator_loss,\n",
        "    disc_loss_fn = discriminator_loss,\n",
        "    cycle_loss_fn = calc_cycle_loss,\n",
        "    identity_loss_fn = identity_loss)\n",
        "\n",
        "    plotter = GANMonitor()\n",
        "\n",
        "    hist = cycle_gan_model.fit(data, epochs=epochs, callbacks=[History()])\n",
        "\n",
        "\n",
        "    if (fid_flag):\n",
        "      fids=[]\n",
        "      best_fid=999999999\n",
        "      for epoch in range(1,epochs):\n",
        "          print(\"Epoch = \",epoch)\n",
        "          cycle_gan_model.fit(data, epochs=epochs, callbacks=[History()])\n",
        "          # if epoch>35:\n",
        "          cur_fid=FID(fid_photo_ds,monet_generator_30)\n",
        "          fids.append(cur_fid)\n",
        "          print(\"After epoch #{} FID = {}\\n\".format(epoch,cur_fid))\n",
        "          # if epoch>42:\n",
        "          #      best_fid=cur_fid\n",
        "          #      monet_generator.save('monet_generator_'+str(epoch)+'.h5')\n",
        "      plt.plot(np.array(fids).reshape(-1,), label='FID')\n",
        "      plt.legend()\n",
        "      plt.show()\n",
        "\n",
        "    return hist"
      ],
      "execution_count": 26,
      "outputs": []
    },
    {
      "cell_type": "markdown",
      "metadata": {
        "id": "nls0Bc7BsNdO"
      },
      "source": [
        "#### Define History to Loss Graph Creator"
      ]
    },
    {
      "cell_type": "code",
      "metadata": {
        "id": "uT_048pWsN09"
      },
      "source": [
        "def smooth_curve(points, factor=0.8):\n",
        "    smoothed_points = []\n",
        "    for point in points:\n",
        "        if smoothed_points:\n",
        "            previous = smoothed_points[-1]\n",
        "            smoothed_points.append(previous * factor + point * (1 - factor))\n",
        "        else:\n",
        "            smoothed_points.append(point)\n",
        "    return smoothed_points\n",
        "\n",
        "\n",
        "def plot_smoothed_acc_and_loss(epochs, history, factor=0.8):\n",
        "    monet_g = []\n",
        "    photo_g = []\n",
        "    monet_d = []\n",
        "    photo_d = []\n",
        "\n",
        "    for i in range(np.array(history.history[\"monet_gen_loss\"]).shape[0]):\n",
        "        monet_g.append(history.history[\"monet_gen_loss\"][i].squeeze().mean())\n",
        "        photo_g.append(history.history[\"photo_gen_loss\"][i].squeeze().mean())\n",
        "        monet_d.append(history.history[\"monet_disc_loss\"][i].squeeze().mean())\n",
        "        photo_d.append(history.history[\"photo_disc_loss\"][i].squeeze().mean())\n",
        "\n",
        "    fig, axs = plt.subplots(1, 2, figsize=(15, 5))\n",
        "    axs[0].plot(smooth_curve(monet_g, factor=factor),label=\"Monet\")\n",
        "    axs[0].plot(smooth_curve(photo_g, factor=factor),label=\"Photo\")\n",
        "    axs[0].set_title(\"Smoothed generator loss\")\n",
        "    axs[0].legend()\n",
        "\n",
        "    axs[1].plot(smooth_curve(monet_d, factor=factor),label=\"Monet\")\n",
        "    axs[1].plot(smooth_curve(photo_d, factor=factor),label=\"Photo\")\n",
        "    axs[1].set_title(\"Smoothed discriminator loss\")\n",
        "    axs[1].legend()\n",
        "\n",
        "    plt.show()"
      ],
      "execution_count": 27,
      "outputs": []
    },
    {
      "cell_type": "markdown",
      "metadata": {
        "id": "wNCkw-QIlQQx"
      },
      "source": [
        "#### Parameters"
      ]
    },
    {
      "cell_type": "code",
      "metadata": {
        "id": "4F1qGJNLEZoA"
      },
      "source": [
        "EPOCHS = 25\n"
      ],
      "execution_count": 28,
      "outputs": []
    },
    {
      "cell_type": "markdown",
      "metadata": {
        "id": "ORcoa9ikSGTi"
      },
      "source": [
        "#### BaseLineModel - 300 Monets"
      ]
    },
    {
      "cell_type": "code",
      "metadata": {
        "id": "g6nD8-h65TCe"
      },
      "source": [
        "%%time\n",
        "with strategy.scope():\n",
        "    data_set = tf.data.Dataset.zip((monet_ds, photo_ds))\n",
        "    history = evaluate_model(EPOCHS, data_set, False)"
      ],
      "execution_count": null,
      "outputs": []
    },
    {
      "cell_type": "code",
      "metadata": {
        "id": "U5j8qvqP9XUk"
      },
      "source": [
        "plot_smoothed_acc_and_loss(EPOCHS, history, 0.8 )"
      ],
      "execution_count": null,
      "outputs": []
    },
    {
      "cell_type": "markdown",
      "metadata": {
        "id": "gmTPu0-zWwC2"
      },
      "source": [
        "#### BaseLineModel - 30 Monets"
      ]
    },
    {
      "cell_type": "code",
      "metadata": {
        "id": "XhoONJ5MWtzV"
      },
      "source": [
        "%%time\n",
        "\n",
        "with strategy.scope():\n",
        "    data_set = tf.data.Dataset.zip((monet_ds.take(30), photo_ds))\n",
        "    history = evaluate_model(EPOCHS, data_set, False)"
      ],
      "execution_count": null,
      "outputs": []
    },
    {
      "cell_type": "code",
      "metadata": {
        "id": "IZuZZo00leh5"
      },
      "source": [
        "plot_smoothed_acc_and_loss(EPOCHS, history, 0.8 )"
      ],
      "execution_count": null,
      "outputs": []
    },
    {
      "cell_type": "markdown",
      "metadata": {
        "id": "CV2c_fpoYvf8"
      },
      "source": [
        "# Step 2.5 - Choosing The Right 30 Images"
      ]
    },
    {
      "cell_type": "markdown",
      "metadata": {
        "id": "p0w5ag4g65cD"
      },
      "source": [
        "#### Grading The Monet Photos With Library Image-Quality"
      ]
    },
    {
      "cell_type": "code",
      "metadata": {
        "id": "560jUjunwSiu"
      },
      "source": [
        "dict = {}\n",
        "for i, image in enumerate(monet_ds):\n",
        "    # image = decode_image(image)\n",
        "    score =  brisque.score(image[0])\n",
        "    print(i , \" scor : \" ,score)\n",
        "    dict[i] = score\n",
        "print(dict)\n",
        "sorted(dict.items(), key=lambda item: item[1])\n",
        "print(dict)\n",
        "dict_sorted = sorted((value,key) for (key,value) in dict.items())\n",
        "print()\n",
        "print(dict_sorted)\n",
        "print()\n",
        "#best 100 images:\n",
        "print()\n",
        "for i in range (1,100):\n",
        "    print(dict_sorted[i])"
      ],
      "execution_count": null,
      "outputs": []
    },
    {
      "cell_type": "markdown",
      "metadata": {
        "id": "ZiMP2xKp7HvC"
      },
      "source": [
        "#### Taking The Most 1000 Best Photos"
      ]
    },
    {
      "cell_type": "code",
      "metadata": {
        "id": "FMmcZJHjZHBV"
      },
      "source": [
        "# print(dict)\n",
        "# print(dict_sorted)\n",
        "list = []\n",
        "for i in range(0,100):\n",
        "    list.append(dict_sorted[i][1])\n",
        "\n",
        "i = 0\n",
        "for  i, image in enumerate(monet_ds):\n",
        "    # print(dict_sorted[i][1], i)\n",
        "    if i in list:\n",
        "        print(\"mathc\")\n",
        "        img = image[0].numpy()\n",
        "        img = (img * 127.5 + 127.5).astype(np.uint8)\n",
        "        im = PIL.Image.fromarray(img)\n",
        "        im.save(\"/content/best/\" + str(i) + \".jpg\")\n",
        "\n",
        "    i += 1\n",
        "\n"
      ],
      "execution_count": null,
      "outputs": []
    },
    {
      "cell_type": "markdown",
      "metadata": {
        "id": "N5rqzmJj7N-R"
      },
      "source": [
        "#### Histograming Colors So We Can Choose 30 out of 100"
      ]
    },
    {
      "cell_type": "code",
      "metadata": {
        "id": "0RSyu3gt7Uy4"
      },
      "source": [
        ""
      ],
      "execution_count": null,
      "outputs": []
    },
    {
      "cell_type": "markdown",
      "metadata": {
        "id": "LigSld9K_CD7"
      },
      "source": [
        "# Step 3 -  Augmentation Model Check"
      ]
    },
    {
      "cell_type": "code",
      "metadata": {
        "id": "VNXKKiw1_Cde"
      },
      "source": [
        ""
      ],
      "execution_count": 32,
      "outputs": []
    },
    {
      "cell_type": "code",
      "metadata": {
        "id": "KpuPlnXY_F8f"
      },
      "source": [
        ""
      ],
      "execution_count": 32,
      "outputs": []
    },
    {
      "cell_type": "markdown",
      "metadata": {
        "id": "WlRKDnDx5b3R"
      },
      "source": [
        ""
      ]
    },
    {
      "cell_type": "code",
      "metadata": {
        "colab": {
          "base_uri": "https://localhost:8080/",
          "height": 163
        },
        "id": "cKuhyvfyOJ4-",
        "outputId": "809ec753-8f59-42b0-b901-541209fa53d8"
      },
      "source": [
        "while True: pass"
      ],
      "execution_count": 33,
      "outputs": [
        {
          "output_type": "error",
          "ename": "KeyboardInterrupt",
          "evalue": "ignored",
          "traceback": [
            "\u001b[0;31m---------------------------------------------------------------------------\u001b[0m",
            "\u001b[0;31mKeyboardInterrupt\u001b[0m                         Traceback (most recent call last)",
            "\u001b[0;32m<ipython-input-33-b16dc615ea65>\u001b[0m in \u001b[0;36m<module>\u001b[0;34m()\u001b[0m\n\u001b[0;32m----> 1\u001b[0;31m \u001b[0;32mwhile\u001b[0m \u001b[0;32mTrue\u001b[0m\u001b[0;34m:\u001b[0m \u001b[0;32mpass\u001b[0m\u001b[0;34m\u001b[0m\u001b[0;34m\u001b[0m\u001b[0m\n\u001b[0m",
            "\u001b[0;31mKeyboardInterrupt\u001b[0m: "
          ]
        }
      ]
    },
    {
      "cell_type": "markdown",
      "metadata": {
        "id": "jr9wu3wEyQQ1"
      },
      "source": [
        "#### Example Of Our Results - save for the last model? or impleent as every one"
      ]
    },
    {
      "cell_type": "code",
      "metadata": {
        "id": "QKbhg7LexP8o"
      },
      "source": [
        "_, ax = plt.subplots(5, 2, figsize=(12, 12))\n",
        "for i, img in enumerate(photo_ds.take(5)):\n",
        "    prediction = monet_generator(img, training=False)[0].numpy()\n",
        "    prediction = (prediction * 127.5 + 127.5).astype(np.uint8)\n",
        "    img = (img[0] * 127.5 + 127.5).numpy().astype(np.uint8)\n",
        "\n",
        "    ax[i, 0].imshow(img)\n",
        "    ax[i, 1].imshow(prediction)\n",
        "    ax[i, 0].set_title(\"Input Photo\")\n",
        "    ax[i, 1].set_title(\"Monet-esque\")\n",
        "    ax[i, 0].axis(\"off\")\n",
        "    ax[i, 1].axis(\"off\")\n",
        "plt.show()"
      ],
      "execution_count": null,
      "outputs": []
    },
    {
      "cell_type": "markdown",
      "metadata": {
        "id": "e3kCJNWwXRaY"
      },
      "source": [
        "# Save TensorFlow Model (H5)\n",
        "The Best Model With The Best Images After it has been trained"
      ]
    },
    {
      "cell_type": "code",
      "metadata": {
        "id": "CYjEnhDv0QLa"
      },
      "source": [
        "monet_generator.save('/content/monet_generator.h5')\n",
        "photo_generator.save('/content/photo_generator.h5')\n",
        "monet_discriminator.save('/content/monet_discriminator.h5')\n",
        "photo_discriminator.save('/content/photo_discriminator.h5')"
      ],
      "execution_count": null,
      "outputs": []
    }
  ]
}