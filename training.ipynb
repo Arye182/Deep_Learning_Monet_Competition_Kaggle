{
  "nbformat": 4,
  "nbformat_minor": 0,
  "metadata": {
    "kernelspec": {
      "display_name": "Python 3",
      "language": "python",
      "name": "python3"
    },
    "language_info": {
      "codemirror_mode": {
        "name": "ipython",
        "version": 2
      },
      "file_extension": ".py",
      "mimetype": "text/x-python",
      "name": "python",
      "nbconvert_exporter": "python",
      "pygments_lexer": "ipython2",
      "version": "2.7.6"
    },
    "colab": {
      "name": "training.ipynb",
      "provenance": [],
      "toc_visible": true,
      "include_colab_link": true
    },
    "accelerator": "TPU"
  },
  "cells": [
    {
      "cell_type": "markdown",
      "metadata": {
        "id": "view-in-github",
        "colab_type": "text"
      },
      "source": [
        "<a href=\"https://colab.research.google.com/github/Arye182/Deep_Learning_Monet_Competition_Kaggle/blob/master/training.ipynb\" target=\"_parent\"><img src=\"https://colab.research.google.com/assets/colab-badge.svg\" alt=\"Open In Colab\"/></a>"
      ]
    },
    {
      "cell_type": "markdown",
      "metadata": {
        "id": "khoTLt1up3iZ"
      },
      "source": [
        "# Introduction\n",
        "The project is a part of a final assignment in course deep learning, as part of kaggle competition im I’m Something of a Painter Myself in which we can actually take photos from life and translate them into monet styled photos. Adding style to photos is a very popular issue in programming nowadays, we see a lot of filters and image processing applications on a daily basis. The ability to take photos and mimic the style of an artist is a quite impressive challenge.     \n",
        "\n",
        "  \n",
        "**References**  \n",
        "  \n",
        "    \n",
        "      \n",
        "notebooks:    \n",
        "https://www.kaggle.com/amyjang/monet-cyclegan-tutorial - tuturial notebook  \n",
        "https://www.kaggle.com/unfriendlyai/cyclegan-with-dg-pretraining - used the help to create fid\n",
        "\n",
        "\n"
      ]
    },
    {
      "cell_type": "markdown",
      "metadata": {
        "id": "VGkDdU3dp_jh"
      },
      "source": [
        "# Installations & Imports\n",
        "here we will prepare everything"
      ]
    },
    {
      "cell_type": "markdown",
      "metadata": {
        "id": "62oqs_EPF6Oq"
      },
      "source": [
        "#### Installations"
      ]
    },
    {
      "cell_type": "code",
      "metadata": {
        "id": "r5xxD9FlF4V5",
        "colab": {
          "base_uri": "https://localhost:8080/"
        },
        "outputId": "41d6502f-c21b-4d9b-dded-b1931385bfc3"
      },
      "source": [
        "!pip install -q kaggle\n",
        "!pip install --upgrade --force-reinstall --no-deps kaggle\n",
        "!pip install tensorflow_addons\n",
        "!pip install image-quality"
      ],
      "execution_count": 1,
      "outputs": [
        {
          "output_type": "stream",
          "text": [
            "Collecting kaggle\n",
            "  Using cached kaggle-1.5.12-py3-none-any.whl\n",
            "Installing collected packages: kaggle\n",
            "  Attempting uninstall: kaggle\n",
            "    Found existing installation: kaggle 1.5.12\n",
            "    Uninstalling kaggle-1.5.12:\n",
            "      Successfully uninstalled kaggle-1.5.12\n",
            "Successfully installed kaggle-1.5.12\n",
            "Requirement already satisfied: tensorflow_addons in /usr/local/lib/python3.7/dist-packages (0.13.0)\n",
            "Requirement already satisfied: typeguard>=2.7 in /usr/local/lib/python3.7/dist-packages (from tensorflow_addons) (2.7.1)\n",
            "Requirement already satisfied: image-quality in /usr/local/lib/python3.7/dist-packages (1.2.7)\n",
            "Requirement already satisfied: numpy>=1.16.4 in /usr/local/lib/python3.7/dist-packages (from image-quality) (1.19.5)\n",
            "Requirement already satisfied: scipy>=1.3.0 in /usr/local/lib/python3.7/dist-packages (from image-quality) (1.4.1)\n",
            "Requirement already satisfied: Pillow>=5.2.0 in /usr/local/lib/python3.7/dist-packages (from image-quality) (7.1.2)\n",
            "Requirement already satisfied: libsvm>=3.23.0 in /usr/local/lib/python3.7/dist-packages (from image-quality) (3.23.0.4)\n",
            "Requirement already satisfied: scikit-image>=0.15.0 in /usr/local/lib/python3.7/dist-packages (from image-quality) (0.16.2)\n",
            "Requirement already satisfied: imageio>=2.3.0 in /usr/local/lib/python3.7/dist-packages (from scikit-image>=0.15.0->image-quality) (2.4.1)\n",
            "Requirement already satisfied: PyWavelets>=0.4.0 in /usr/local/lib/python3.7/dist-packages (from scikit-image>=0.15.0->image-quality) (1.1.1)\n",
            "Requirement already satisfied: matplotlib!=3.0.0,>=2.0.0 in /usr/local/lib/python3.7/dist-packages (from scikit-image>=0.15.0->image-quality) (3.2.2)\n",
            "Requirement already satisfied: networkx>=2.0 in /usr/local/lib/python3.7/dist-packages (from scikit-image>=0.15.0->image-quality) (2.5.1)\n",
            "Requirement already satisfied: kiwisolver>=1.0.1 in /usr/local/lib/python3.7/dist-packages (from matplotlib!=3.0.0,>=2.0.0->scikit-image>=0.15.0->image-quality) (1.3.1)\n",
            "Requirement already satisfied: python-dateutil>=2.1 in /usr/local/lib/python3.7/dist-packages (from matplotlib!=3.0.0,>=2.0.0->scikit-image>=0.15.0->image-quality) (2.8.1)\n",
            "Requirement already satisfied: cycler>=0.10 in /usr/local/lib/python3.7/dist-packages (from matplotlib!=3.0.0,>=2.0.0->scikit-image>=0.15.0->image-quality) (0.10.0)\n",
            "Requirement already satisfied: pyparsing!=2.0.4,!=2.1.2,!=2.1.6,>=2.0.1 in /usr/local/lib/python3.7/dist-packages (from matplotlib!=3.0.0,>=2.0.0->scikit-image>=0.15.0->image-quality) (2.4.7)\n",
            "Requirement already satisfied: six in /usr/local/lib/python3.7/dist-packages (from cycler>=0.10->matplotlib!=3.0.0,>=2.0.0->scikit-image>=0.15.0->image-quality) (1.15.0)\n",
            "Requirement already satisfied: decorator<5,>=4.3 in /usr/local/lib/python3.7/dist-packages (from networkx>=2.0->scikit-image>=0.15.0->image-quality) (4.4.2)\n"
          ],
          "name": "stdout"
        }
      ]
    },
    {
      "cell_type": "markdown",
      "metadata": {
        "id": "BGLrf8KUl09C"
      },
      "source": [
        "#### Imports"
      ]
    },
    {
      "cell_type": "code",
      "metadata": {
        "collapsed": true,
        "id": "FInWELmlNP4m"
      },
      "source": [
        "import tensorflow as tf\n",
        "from tensorflow import keras\n",
        "from tensorflow.keras import layers\n",
        "import tensorflow_addons as tfa\n",
        "from google.colab import files\n",
        "import PIL\n",
        "import shutil\n",
        "from tensorflow.keras.callbacks import History\n",
        "import imquality.brisque as brisque\n",
        "import PIL.Image\n",
        "\n",
        "\n",
        "\n",
        "import matplotlib.pyplot as plt\n",
        "import numpy as np"
      ],
      "execution_count": 2,
      "outputs": []
    },
    {
      "cell_type": "markdown",
      "metadata": {
        "id": "3uU4D-IsS3he"
      },
      "source": [
        "#### TPU Initialization"
      ]
    },
    {
      "cell_type": "code",
      "metadata": {
        "id": "9BkD2LwHl4SA",
        "colab": {
          "base_uri": "https://localhost:8080/"
        },
        "outputId": "003e0b60-3765-4494-e57e-ed4577acc181"
      },
      "source": [
        "try:\n",
        "    tpu = tf.distribute.cluster_resolver.TPUClusterResolver()\n",
        "    print('Device:', tpu.master())\n",
        "    tf.config.experimental_connect_to_cluster(tpu)\n",
        "    tf.tpu.experimental.initialize_tpu_system(tpu)\n",
        "    strategy = tf.distribute.experimental.TPUStrategy(tpu)\n",
        "except:\n",
        "    strategy = tf.distribute.get_strategy()\n",
        "print('Number of replicas:', strategy.num_replicas_in_sync)\n",
        "\n",
        "AUTOTUNE = tf.data.experimental.AUTOTUNE\n",
        "    \n",
        "print(tf.__version__)"
      ],
      "execution_count": 3,
      "outputs": [
        {
          "output_type": "stream",
          "text": [
            "Device: grpc://10.46.187.74:8470\n",
            "INFO:tensorflow:Initializing the TPU system: grpc://10.46.187.74:8470\n"
          ],
          "name": "stdout"
        },
        {
          "output_type": "stream",
          "text": [
            "INFO:tensorflow:Initializing the TPU system: grpc://10.46.187.74:8470\n"
          ],
          "name": "stderr"
        },
        {
          "output_type": "stream",
          "text": [
            "INFO:tensorflow:Clearing out eager caches\n"
          ],
          "name": "stdout"
        },
        {
          "output_type": "stream",
          "text": [
            "INFO:tensorflow:Clearing out eager caches\n"
          ],
          "name": "stderr"
        },
        {
          "output_type": "stream",
          "text": [
            "INFO:tensorflow:Finished initializing TPU system.\n"
          ],
          "name": "stdout"
        },
        {
          "output_type": "stream",
          "text": [
            "INFO:tensorflow:Finished initializing TPU system.\n",
            "WARNING:absl:`tf.distribute.experimental.TPUStrategy` is deprecated, please use  the non experimental symbol `tf.distribute.TPUStrategy` instead.\n"
          ],
          "name": "stderr"
        },
        {
          "output_type": "stream",
          "text": [
            "INFO:tensorflow:Found TPU system:\n"
          ],
          "name": "stdout"
        },
        {
          "output_type": "stream",
          "text": [
            "INFO:tensorflow:Found TPU system:\n"
          ],
          "name": "stderr"
        },
        {
          "output_type": "stream",
          "text": [
            "INFO:tensorflow:*** Num TPU Cores: 8\n"
          ],
          "name": "stdout"
        },
        {
          "output_type": "stream",
          "text": [
            "INFO:tensorflow:*** Num TPU Cores: 8\n"
          ],
          "name": "stderr"
        },
        {
          "output_type": "stream",
          "text": [
            "INFO:tensorflow:*** Num TPU Workers: 1\n"
          ],
          "name": "stdout"
        },
        {
          "output_type": "stream",
          "text": [
            "INFO:tensorflow:*** Num TPU Workers: 1\n"
          ],
          "name": "stderr"
        },
        {
          "output_type": "stream",
          "text": [
            "INFO:tensorflow:*** Num TPU Cores Per Worker: 8\n"
          ],
          "name": "stdout"
        },
        {
          "output_type": "stream",
          "text": [
            "INFO:tensorflow:*** Num TPU Cores Per Worker: 8\n"
          ],
          "name": "stderr"
        },
        {
          "output_type": "stream",
          "text": [
            "INFO:tensorflow:*** Available Device: _DeviceAttributes(/job:localhost/replica:0/task:0/device:CPU:0, CPU, 0, 0)\n"
          ],
          "name": "stdout"
        },
        {
          "output_type": "stream",
          "text": [
            "INFO:tensorflow:*** Available Device: _DeviceAttributes(/job:localhost/replica:0/task:0/device:CPU:0, CPU, 0, 0)\n"
          ],
          "name": "stderr"
        },
        {
          "output_type": "stream",
          "text": [
            "INFO:tensorflow:*** Available Device: _DeviceAttributes(/job:worker/replica:0/task:0/device:CPU:0, CPU, 0, 0)\n"
          ],
          "name": "stdout"
        },
        {
          "output_type": "stream",
          "text": [
            "INFO:tensorflow:*** Available Device: _DeviceAttributes(/job:worker/replica:0/task:0/device:CPU:0, CPU, 0, 0)\n"
          ],
          "name": "stderr"
        },
        {
          "output_type": "stream",
          "text": [
            "INFO:tensorflow:*** Available Device: _DeviceAttributes(/job:worker/replica:0/task:0/device:TPU:0, TPU, 0, 0)\n"
          ],
          "name": "stdout"
        },
        {
          "output_type": "stream",
          "text": [
            "INFO:tensorflow:*** Available Device: _DeviceAttributes(/job:worker/replica:0/task:0/device:TPU:0, TPU, 0, 0)\n"
          ],
          "name": "stderr"
        },
        {
          "output_type": "stream",
          "text": [
            "INFO:tensorflow:*** Available Device: _DeviceAttributes(/job:worker/replica:0/task:0/device:TPU:1, TPU, 0, 0)\n"
          ],
          "name": "stdout"
        },
        {
          "output_type": "stream",
          "text": [
            "INFO:tensorflow:*** Available Device: _DeviceAttributes(/job:worker/replica:0/task:0/device:TPU:1, TPU, 0, 0)\n"
          ],
          "name": "stderr"
        },
        {
          "output_type": "stream",
          "text": [
            "INFO:tensorflow:*** Available Device: _DeviceAttributes(/job:worker/replica:0/task:0/device:TPU:2, TPU, 0, 0)\n"
          ],
          "name": "stdout"
        },
        {
          "output_type": "stream",
          "text": [
            "INFO:tensorflow:*** Available Device: _DeviceAttributes(/job:worker/replica:0/task:0/device:TPU:2, TPU, 0, 0)\n"
          ],
          "name": "stderr"
        },
        {
          "output_type": "stream",
          "text": [
            "INFO:tensorflow:*** Available Device: _DeviceAttributes(/job:worker/replica:0/task:0/device:TPU:3, TPU, 0, 0)\n"
          ],
          "name": "stdout"
        },
        {
          "output_type": "stream",
          "text": [
            "INFO:tensorflow:*** Available Device: _DeviceAttributes(/job:worker/replica:0/task:0/device:TPU:3, TPU, 0, 0)\n"
          ],
          "name": "stderr"
        },
        {
          "output_type": "stream",
          "text": [
            "INFO:tensorflow:*** Available Device: _DeviceAttributes(/job:worker/replica:0/task:0/device:TPU:4, TPU, 0, 0)\n"
          ],
          "name": "stdout"
        },
        {
          "output_type": "stream",
          "text": [
            "INFO:tensorflow:*** Available Device: _DeviceAttributes(/job:worker/replica:0/task:0/device:TPU:4, TPU, 0, 0)\n"
          ],
          "name": "stderr"
        },
        {
          "output_type": "stream",
          "text": [
            "INFO:tensorflow:*** Available Device: _DeviceAttributes(/job:worker/replica:0/task:0/device:TPU:5, TPU, 0, 0)\n"
          ],
          "name": "stdout"
        },
        {
          "output_type": "stream",
          "text": [
            "INFO:tensorflow:*** Available Device: _DeviceAttributes(/job:worker/replica:0/task:0/device:TPU:5, TPU, 0, 0)\n"
          ],
          "name": "stderr"
        },
        {
          "output_type": "stream",
          "text": [
            "INFO:tensorflow:*** Available Device: _DeviceAttributes(/job:worker/replica:0/task:0/device:TPU:6, TPU, 0, 0)\n"
          ],
          "name": "stdout"
        },
        {
          "output_type": "stream",
          "text": [
            "INFO:tensorflow:*** Available Device: _DeviceAttributes(/job:worker/replica:0/task:0/device:TPU:6, TPU, 0, 0)\n"
          ],
          "name": "stderr"
        },
        {
          "output_type": "stream",
          "text": [
            "INFO:tensorflow:*** Available Device: _DeviceAttributes(/job:worker/replica:0/task:0/device:TPU:7, TPU, 0, 0)\n"
          ],
          "name": "stdout"
        },
        {
          "output_type": "stream",
          "text": [
            "INFO:tensorflow:*** Available Device: _DeviceAttributes(/job:worker/replica:0/task:0/device:TPU:7, TPU, 0, 0)\n"
          ],
          "name": "stderr"
        },
        {
          "output_type": "stream",
          "text": [
            "INFO:tensorflow:*** Available Device: _DeviceAttributes(/job:worker/replica:0/task:0/device:TPU_SYSTEM:0, TPU_SYSTEM, 0, 0)\n"
          ],
          "name": "stdout"
        },
        {
          "output_type": "stream",
          "text": [
            "INFO:tensorflow:*** Available Device: _DeviceAttributes(/job:worker/replica:0/task:0/device:TPU_SYSTEM:0, TPU_SYSTEM, 0, 0)\n"
          ],
          "name": "stderr"
        },
        {
          "output_type": "stream",
          "text": [
            "INFO:tensorflow:*** Available Device: _DeviceAttributes(/job:worker/replica:0/task:0/device:XLA_CPU:0, XLA_CPU, 0, 0)\n"
          ],
          "name": "stdout"
        },
        {
          "output_type": "stream",
          "text": [
            "INFO:tensorflow:*** Available Device: _DeviceAttributes(/job:worker/replica:0/task:0/device:XLA_CPU:0, XLA_CPU, 0, 0)\n"
          ],
          "name": "stderr"
        },
        {
          "output_type": "stream",
          "text": [
            "Number of replicas: 8\n",
            "2.5.0\n"
          ],
          "name": "stdout"
        }
      ]
    },
    {
      "cell_type": "markdown",
      "metadata": {
        "id": "diDtfgE9ZfDV"
      },
      "source": [
        "# Data Base"
      ]
    },
    {
      "cell_type": "markdown",
      "metadata": {
        "id": "DRpBPC_UHp6N"
      },
      "source": [
        "#### Data Path And Filenames Preperations"
      ]
    },
    {
      "cell_type": "code",
      "metadata": {
        "id": "HgbAWdo_ImJw"
      },
      "source": [
        "GCS_PATH = 'gs://kds-fe07dc19ed486a7fdc7d0a06e0362b4db01fa035a6c107442b99a8f2'\n",
        "MONET_FILENAMES = tf.io.gfile.glob(str(GCS_PATH + '/monet_tfrec/monet*.tfrec'))\n",
        "PHOTO_FILENAMES = tf.io.gfile.glob(str(GCS_PATH + '/photo_tfrec/photo*.tfrec'))"
      ],
      "execution_count": 4,
      "outputs": []
    },
    {
      "cell_type": "code",
      "metadata": {
        "colab": {
          "base_uri": "https://localhost:8080/"
        },
        "id": "Eud-bh3OHGqb",
        "outputId": "2e00897f-3bc9-45ab-e837-29399e70ca53"
      },
      "source": [
        "MONET_FILENAMES = tf.io.gfile.glob(str(GCS_PATH + '/monet_tfrec/*.tfrec'))\n",
        "print('Monet TFRecord Files:', len(MONET_FILENAMES))\n",
        "\n",
        "PHOTO_FILENAMES = tf.io.gfile.glob(str(GCS_PATH + '/photo_tfrec/*.tfrec'))\n",
        "print('Photo TFRecord Files:', len(PHOTO_FILENAMES))"
      ],
      "execution_count": 5,
      "outputs": [
        {
          "output_type": "stream",
          "text": [
            "Monet TFRecord Files: 5\n",
            "Photo TFRecord Files: 20\n"
          ],
          "name": "stdout"
        }
      ]
    },
    {
      "cell_type": "markdown",
      "metadata": {
        "id": "O_QCbobXL0OY"
      },
      "source": [
        "#### Define Handling Images"
      ]
    },
    {
      "cell_type": "code",
      "metadata": {
        "id": "zKdoAGOPHvyt"
      },
      "source": [
        "IMAGE_SIZE = [256, 256]\n",
        "\n",
        "def decode_image(image):\n",
        "    image = tf.image.decode_jpeg(image, channels=3)\n",
        "    image = (tf.cast(image, tf.float32) / 127.5) - 1\n",
        "    image = tf.reshape(image, [*IMAGE_SIZE, 3])\n",
        "    return image\n",
        "\n",
        "def read_tfrecord(example):\n",
        "    tfrecord_format = {\n",
        "        \"image_name\": tf.io.FixedLenFeature([], tf.string),\n",
        "        \"image\": tf.io.FixedLenFeature([], tf.string),\n",
        "        \"target\": tf.io.FixedLenFeature([], tf.string)\n",
        "    }\n",
        "    example = tf.io.parse_single_example(example, tfrecord_format)\n",
        "    image = decode_image(example['image'])\n",
        "    return image"
      ],
      "execution_count": 6,
      "outputs": []
    },
    {
      "cell_type": "markdown",
      "metadata": {
        "id": "ljQAkOcPLuTG"
      },
      "source": [
        "#### Define Load Data Set Function"
      ]
    },
    {
      "cell_type": "code",
      "metadata": {
        "id": "OMs3-TEmH2of"
      },
      "source": [
        "def load_dataset(filenames, labeled=True, ordered=False):\n",
        "    dataset = tf.data.TFRecordDataset(filenames)\n",
        "    dataset = dataset.map(read_tfrecord, num_parallel_calls=AUTOTUNE)\n",
        "    return dataset"
      ],
      "execution_count": 7,
      "outputs": []
    },
    {
      "cell_type": "markdown",
      "metadata": {
        "id": "8IsOYhxXLgzc"
      },
      "source": [
        "#### Load Data Sets For Model CycleGan\n"
      ]
    },
    {
      "cell_type": "code",
      "metadata": {
        "id": "CiXsq8m0H27b"
      },
      "source": [
        "monet_ds = load_dataset(MONET_FILENAMES, labeled=True).batch(1)\n",
        "photo_ds = load_dataset(PHOTO_FILENAMES, labeled=True).batch(1)"
      ],
      "execution_count": 8,
      "outputs": []
    },
    {
      "cell_type": "markdown",
      "metadata": {
        "id": "dJETcdXqLc4O"
      },
      "source": [
        "#### Load Data Sets For FID"
      ]
    },
    {
      "cell_type": "code",
      "metadata": {
        "id": "mopauyzALcmb"
      },
      "source": [
        "fid_photo_ds = load_dataset(PHOTO_FILENAMES).take(1024).batch(32*strategy.num_replicas_in_sync).prefetch(32)\n",
        "fid_monet_ds = load_dataset(MONET_FILENAMES).batch(32*strategy.num_replicas_in_sync).prefetch(32)"
      ],
      "execution_count": 9,
      "outputs": []
    },
    {
      "cell_type": "markdown",
      "metadata": {
        "id": "qSKvJChjGvRE"
      },
      "source": [
        "#### Showing A Taste Of The Data"
      ]
    },
    {
      "cell_type": "code",
      "metadata": {
        "colab": {
          "base_uri": "https://localhost:8080/",
          "height": 233
        },
        "id": "CT0isXnwH3bE",
        "outputId": "9cb13866-35db-407b-85e0-91dc6de7480d"
      },
      "source": [
        "monet_ds_iter = iter(monet_ds)\n",
        "photo_ds_iter = iter(photo_ds)\n",
        "\n",
        "example_monet = next(iter(monet_ds))\n",
        "example_photo = next(iter(photo_ds))\n",
        "\n",
        "plt.subplot(121)\n",
        "plt.title('Photo')\n",
        "plt.imshow(example_photo[0] * 0.5 + 0.5)\n",
        "\n",
        "plt.subplot(122)\n",
        "plt.title('Monet')\n",
        "plt.imshow(example_monet[0] * 0.5 + 0.5)"
      ],
      "execution_count": 10,
      "outputs": [
        {
          "output_type": "execute_result",
          "data": {
            "text/plain": [
              "<matplotlib.image.AxesImage at 0x7fb7918fba90>"
            ]
          },
          "metadata": {
            "tags": []
          },
          "execution_count": 10
        },
        {
          "output_type": "display_data",
          "data": {
            "image/png": "[encoded data removed]",
            "text/plain": [
              "<Figure size 432x288 with 2 Axes>"
            ]
          },
          "metadata": {
            "tags": [],
            "needs_background": "light"
          }
        }
      ]
    },
    {
      "cell_type": "markdown",
      "metadata": {
        "id": "nXmhSD6fp32H"
      },
      "source": [
        "# CycleGan Model\n",
        "need to understand what it is"
      ]
    },
    {
      "cell_type": "markdown",
      "metadata": {
        "id": "7flQQ83nl4p7"
      },
      "source": [
        "#### Generator"
      ]
    },
    {
      "cell_type": "code",
      "metadata": {
        "id": "WkPYV1bVl49W"
      },
      "source": [
        "OUTPUT_CHANNELS = 3\n",
        "\n",
        "def downsample(filters, size, apply_instancenorm=True):\n",
        "    initializer = tf.random_normal_initializer(0., 0.02)\n",
        "    gamma_init = keras.initializers.RandomNormal(mean=0.0, stddev=0.02)\n",
        "\n",
        "    result = keras.Sequential()\n",
        "    result.add(layers.Conv2D(filters, size, strides=2, padding='same',\n",
        "                             kernel_initializer=initializer, use_bias=False))\n",
        "\n",
        "    if apply_instancenorm:\n",
        "        result.add(tfa.layers.InstanceNormalization(gamma_initializer=gamma_init))\n",
        "\n",
        "    result.add(layers.LeakyReLU())\n",
        "\n",
        "    return result"
      ],
      "execution_count": 11,
      "outputs": []
    },
    {
      "cell_type": "code",
      "metadata": {
        "id": "OKHv93RvMSV9"
      },
      "source": [
        "def upsample(filters, size, apply_dropout=False):\n",
        "    initializer = tf.random_normal_initializer(0., 0.02)\n",
        "    gamma_init = keras.initializers.RandomNormal(mean=0.0, stddev=0.02)\n",
        "\n",
        "    result = keras.Sequential()\n",
        "    result.add(layers.Conv2DTranspose(filters, size, strides=2,\n",
        "                                      padding='same',\n",
        "                                      kernel_initializer=initializer,\n",
        "                                      use_bias=False))\n",
        "\n",
        "    result.add(tfa.layers.InstanceNormalization(gamma_initializer=gamma_init))\n",
        "\n",
        "    if apply_dropout:\n",
        "        result.add(layers.Dropout(0.5))\n",
        "\n",
        "    result.add(layers.ReLU())\n",
        "\n",
        "    return result"
      ],
      "execution_count": 12,
      "outputs": []
    },
    {
      "cell_type": "code",
      "metadata": {
        "id": "yKOphzZJMU9z"
      },
      "source": [
        "def Generator():\n",
        "    inputs = layers.Input(shape=[256,256,3])\n",
        "\n",
        "    # bs = batch size\n",
        "    down_stack = [\n",
        "        downsample(64, 4, apply_instancenorm=False), # (bs, 128, 128, 64)\n",
        "        downsample(128, 4), # (bs, 64, 64, 128)\n",
        "        downsample(256, 4), # (bs, 32, 32, 256)\n",
        "        downsample(512, 4), # (bs, 16, 16, 512)\n",
        "        downsample(512, 4), # (bs, 8, 8, 512)\n",
        "        downsample(512, 4), # (bs, 4, 4, 512)\n",
        "        downsample(512, 4), # (bs, 2, 2, 512)\n",
        "        downsample(512, 4), # (bs, 1, 1, 512)\n",
        "    ]\n",
        "\n",
        "    up_stack = [\n",
        "        upsample(512, 4, apply_dropout=True), # (bs, 2, 2, 1024)\n",
        "        upsample(512, 4, apply_dropout=True), # (bs, 4, 4, 1024)\n",
        "        upsample(512, 4, apply_dropout=True), # (bs, 8, 8, 1024)\n",
        "        upsample(512, 4), # (bs, 16, 16, 1024)\n",
        "        upsample(256, 4), # (bs, 32, 32, 512)\n",
        "        upsample(128, 4), # (bs, 64, 64, 256)\n",
        "        upsample(64, 4), # (bs, 128, 128, 128)\n",
        "    ]\n",
        "\n",
        "    initializer = tf.random_normal_initializer(0., 0.02)\n",
        "    last = layers.Conv2DTranspose(OUTPUT_CHANNELS, 4,\n",
        "                                  strides=2,\n",
        "                                  padding='same',\n",
        "                                  kernel_initializer=initializer,\n",
        "                                  activation='tanh') # (bs, 256, 256, 3)\n",
        "\n",
        "    x = inputs\n",
        "\n",
        "    # Downsampling through the model\n",
        "    skips = []\n",
        "    for down in down_stack:\n",
        "        x = down(x)\n",
        "        skips.append(x)\n",
        "\n",
        "    skips = reversed(skips[:-1])\n",
        "\n",
        "    # Upsampling and establishing the skip connections\n",
        "    for up, skip in zip(up_stack, skips):\n",
        "        x = up(x)\n",
        "        x = layers.Concatenate()([x, skip])\n",
        "\n",
        "    x = last(x)\n",
        "\n",
        "    return keras.Model(inputs=inputs, outputs=x)"
      ],
      "execution_count": 13,
      "outputs": []
    },
    {
      "cell_type": "markdown",
      "metadata": {
        "id": "qT8KzunTl5aJ"
      },
      "source": [
        "#### Discriminator"
      ]
    },
    {
      "cell_type": "code",
      "metadata": {
        "id": "iLW7Szp9l5sh"
      },
      "source": [
        "def Discriminator():\n",
        "    initializer = tf.random_normal_initializer(0., 0.02)\n",
        "    gamma_init = keras.initializers.RandomNormal(mean=0.0, stddev=0.02)\n",
        "\n",
        "    inp = layers.Input(shape=[256, 256, 3], name='input_image')\n",
        "\n",
        "    x = inp\n",
        "\n",
        "    down1 = downsample(64, 4, False)(x) # (bs, 128, 128, 64)\n",
        "    down2 = downsample(128, 4)(down1) # (bs, 64, 64, 128)\n",
        "    down3 = downsample(256, 4)(down2) # (bs, 32, 32, 256)\n",
        "\n",
        "    zero_pad1 = layers.ZeroPadding2D()(down3) # (bs, 34, 34, 256)\n",
        "    conv = layers.Conv2D(512, 4, strides=1,\n",
        "                         kernel_initializer=initializer,\n",
        "                         use_bias=False)(zero_pad1) # (bs, 31, 31, 512)\n",
        "\n",
        "    norm1 = tfa.layers.InstanceNormalization(gamma_initializer=gamma_init)(conv)\n",
        "\n",
        "    leaky_relu = layers.LeakyReLU()(norm1)\n",
        "\n",
        "    zero_pad2 = layers.ZeroPadding2D()(leaky_relu) # (bs, 33, 33, 512)\n",
        "\n",
        "    last = layers.Conv2D(1, 4, strides=1,\n",
        "                         kernel_initializer=initializer)(zero_pad2) # (bs, 30, 30, 1)\n",
        "\n",
        "    return tf.keras.Model(inputs=inp, outputs=last)"
      ],
      "execution_count": 14,
      "outputs": []
    },
    {
      "cell_type": "markdown",
      "metadata": {
        "id": "9qwAfyHnOi6j"
      },
      "source": [
        "#### Initialize Generators And Discriminators"
      ]
    },
    {
      "cell_type": "code",
      "metadata": {
        "id": "MCDrr4s_MaUn"
      },
      "source": [
        "\n",
        "with strategy.scope():\n",
        "    monet_generator = Generator() # transforms photos to Monet-esque paintings\n",
        "    photo_generator = Generator() # transforms Monet paintings to be more like photos\n",
        "\n",
        "    monet_discriminator = Discriminator() # differentiates real Monet paintings and generated Monet paintings\n",
        "    photo_discriminator = Discriminator() # differentiates real photos and generated photos"
      ],
      "execution_count": 15,
      "outputs": []
    },
    {
      "cell_type": "code",
      "metadata": {
        "colab": {
          "base_uri": "https://localhost:8080/",
          "height": 216
        },
        "id": "Nqp1wLUWMgRJ",
        "outputId": "c53a21e2-82d9-4c82-a882-bdd51fa43a88"
      },
      "source": [
        "to_monet = monet_generator(example_photo)\n",
        "\n",
        "plt.subplot(1, 2, 1)\n",
        "plt.title(\"Original Photo\")\n",
        "plt.imshow(example_photo[0] * 0.5 + 0.5)\n",
        "\n",
        "plt.subplot(1, 2, 2)\n",
        "plt.title(\"Monet-esque Photo\")\n",
        "plt.imshow(to_monet[0] * 0.5 + 0.5)\n",
        "plt.show()"
      ],
      "execution_count": 16,
      "outputs": [
        {
          "output_type": "display_data",
          "data": {
            "image/png": "[encoded data removed]",
            "text/plain": [
              "<Figure size 432x288 with 2 Axes>"
            ]
          },
          "metadata": {
            "tags": [],
            "needs_background": "light"
          }
        }
      ]
    },
    {
      "cell_type": "markdown",
      "metadata": {
        "id": "9j34SYRrR3In"
      },
      "source": [
        "#### Define CycleGan Model"
      ]
    },
    {
      "cell_type": "code",
      "metadata": {
        "id": "U2L1SsqaU5CA"
      },
      "source": [
        "# Generate a CallBack function to save\n",
        "# the prediction, for each epoch, of the Photo above \n",
        "class GANMonitor(keras.callbacks.Callback):\n",
        "   \"\"\"A callback to generate and save images after each epoch\"\"\"\n",
        "\n",
        "   def on_epoch_end(self, epoch, logs=None):\n",
        "       prediction = gen_monet(photo, training=False)[num_photo].numpy()\n",
        "       prediction = (prediction * 127.5 + 127.5).astype(np.uint8)\n",
        "       im_to_gif[epoch] = prediction "
      ],
      "execution_count": 17,
      "outputs": []
    },
    {
      "cell_type": "code",
      "metadata": {
        "id": "rzanSe_CR26F"
      },
      "source": [
        "class CycleGan(keras.Model):\n",
        "    def __init__(\n",
        "        self,\n",
        "        monet_generator,\n",
        "        photo_generator,\n",
        "        monet_discriminator,\n",
        "        photo_discriminator,\n",
        "        lambda_cycle=10,\n",
        "    ):\n",
        "        super(CycleGan, self).__init__()\n",
        "        self.m_gen = monet_generator\n",
        "        self.p_gen = photo_generator\n",
        "        self.m_disc = monet_discriminator\n",
        "        self.p_disc = photo_discriminator\n",
        "        self.lambda_cycle = lambda_cycle\n",
        "        \n",
        "    def compile(\n",
        "        self,\n",
        "        m_gen_optimizer,\n",
        "        p_gen_optimizer,\n",
        "        m_disc_optimizer,\n",
        "        p_disc_optimizer,\n",
        "        gen_loss_fn,\n",
        "        disc_loss_fn,\n",
        "        cycle_loss_fn,\n",
        "        identity_loss_fn\n",
        "    ):\n",
        "        super(CycleGan, self).compile()\n",
        "        self.m_gen_optimizer = m_gen_optimizer\n",
        "        self.p_gen_optimizer = p_gen_optimizer\n",
        "        self.m_disc_optimizer = m_disc_optimizer\n",
        "        self.p_disc_optimizer = p_disc_optimizer\n",
        "        self.gen_loss_fn = gen_loss_fn\n",
        "        self.disc_loss_fn = disc_loss_fn\n",
        "        self.cycle_loss_fn = cycle_loss_fn\n",
        "        self.identity_loss_fn = identity_loss_fn\n",
        "        \n",
        "    def train_step(self, batch_data):\n",
        "        real_monet, real_photo = batch_data\n",
        "        \n",
        "        with tf.GradientTape(persistent=True) as tape:\n",
        "            # photo to monet back to photo\n",
        "            fake_monet = self.m_gen(real_photo, training=True)\n",
        "            cycled_photo = self.p_gen(fake_monet, training=True)\n",
        "\n",
        "            # monet to photo back to monet\n",
        "            fake_photo = self.p_gen(real_monet, training=True)\n",
        "            cycled_monet = self.m_gen(fake_photo, training=True)\n",
        "\n",
        "            # generating itself\n",
        "            same_monet = self.m_gen(real_monet, training=True)\n",
        "            same_photo = self.p_gen(real_photo, training=True)\n",
        "\n",
        "            # discriminator used to check, inputing real images\n",
        "            disc_real_monet = self.m_disc(real_monet, training=True)\n",
        "            disc_real_photo = self.p_disc(real_photo, training=True)\n",
        "\n",
        "            # discriminator used to check, inputing fake images\n",
        "            disc_fake_monet = self.m_disc(fake_monet, training=True)\n",
        "            disc_fake_photo = self.p_disc(fake_photo, training=True)\n",
        "\n",
        "            # evaluates generator loss\n",
        "            monet_gen_loss = self.gen_loss_fn(disc_fake_monet)\n",
        "            photo_gen_loss = self.gen_loss_fn(disc_fake_photo)\n",
        "\n",
        "            # evaluates total cycle consistency loss\n",
        "            total_cycle_loss = self.cycle_loss_fn(real_monet, cycled_monet, self.lambda_cycle) + self.cycle_loss_fn(real_photo, cycled_photo, self.lambda_cycle)\n",
        "\n",
        "            # evaluates total generator loss\n",
        "            total_monet_gen_loss = monet_gen_loss + total_cycle_loss + self.identity_loss_fn(real_monet, same_monet, self.lambda_cycle)\n",
        "            total_photo_gen_loss = photo_gen_loss + total_cycle_loss + self.identity_loss_fn(real_photo, same_photo, self.lambda_cycle)\n",
        "\n",
        "            # evaluates discriminator loss\n",
        "            monet_disc_loss = self.disc_loss_fn(disc_real_monet, disc_fake_monet)\n",
        "            photo_disc_loss = self.disc_loss_fn(disc_real_photo, disc_fake_photo)\n",
        "\n",
        "        # Calculate the gradients for generator and discriminator\n",
        "        monet_generator_gradients = tape.gradient(total_monet_gen_loss,\n",
        "                                                  self.m_gen.trainable_variables)\n",
        "        photo_generator_gradients = tape.gradient(total_photo_gen_loss,\n",
        "                                                  self.p_gen.trainable_variables)\n",
        "\n",
        "        monet_discriminator_gradients = tape.gradient(monet_disc_loss,\n",
        "                                                      self.m_disc.trainable_variables)\n",
        "        photo_discriminator_gradients = tape.gradient(photo_disc_loss,\n",
        "                                                      self.p_disc.trainable_variables)\n",
        "\n",
        "        # Apply the gradients to the optimizer\n",
        "        self.m_gen_optimizer.apply_gradients(zip(monet_generator_gradients,\n",
        "                                                 self.m_gen.trainable_variables))\n",
        "\n",
        "        self.p_gen_optimizer.apply_gradients(zip(photo_generator_gradients,\n",
        "                                                 self.p_gen.trainable_variables))\n",
        "\n",
        "        self.m_disc_optimizer.apply_gradients(zip(monet_discriminator_gradients,\n",
        "                                                  self.m_disc.trainable_variables))\n",
        "\n",
        "        self.p_disc_optimizer.apply_gradients(zip(photo_discriminator_gradients,\n",
        "                                                  self.p_disc.trainable_variables))\n",
        "        \n",
        "        return {\n",
        "            \"monet_gen_loss\": total_monet_gen_loss,\n",
        "            \"photo_gen_loss\": total_photo_gen_loss,\n",
        "            \"monet_disc_loss\": monet_disc_loss,\n",
        "            \"photo_disc_loss\": photo_disc_loss\n",
        "        }"
      ],
      "execution_count": 18,
      "outputs": []
    },
    {
      "cell_type": "markdown",
      "metadata": {
        "id": "VshnTj93R9Nf"
      },
      "source": [
        "#### Loss"
      ]
    },
    {
      "cell_type": "code",
      "metadata": {
        "id": "82r951xjR893"
      },
      "source": [
        "with strategy.scope():\n",
        "    def discriminator_loss(real, generated):\n",
        "        real_loss = tf.keras.losses.BinaryCrossentropy(from_logits=True, reduction=tf.keras.losses.Reduction.NONE)(tf.ones_like(real), real)\n",
        "\n",
        "        generated_loss = tf.keras.losses.BinaryCrossentropy(from_logits=True, reduction=tf.keras.losses.Reduction.NONE)(tf.zeros_like(generated), generated)\n",
        "\n",
        "        total_disc_loss = real_loss + generated_loss\n",
        "\n",
        "        return total_disc_loss * 0.5"
      ],
      "execution_count": 19,
      "outputs": []
    },
    {
      "cell_type": "code",
      "metadata": {
        "id": "IyfuY1VVSALa"
      },
      "source": [
        "with strategy.scope():\n",
        "    def generator_loss(generated):\n",
        "        return tf.keras.losses.BinaryCrossentropy(from_logits=True, reduction=tf.keras.losses.Reduction.NONE)(tf.ones_like(generated), generated)"
      ],
      "execution_count": 20,
      "outputs": []
    },
    {
      "cell_type": "code",
      "metadata": {
        "id": "6U-bvCbgSBn4"
      },
      "source": [
        "with strategy.scope():\n",
        "    def calc_cycle_loss(real_image, cycled_image, LAMBDA):\n",
        "        loss1 = tf.reduce_mean(tf.abs(real_image - cycled_image))\n",
        "\n",
        "        return LAMBDA * loss1"
      ],
      "execution_count": 21,
      "outputs": []
    },
    {
      "cell_type": "code",
      "metadata": {
        "id": "q7VlI1efSDLQ"
      },
      "source": [
        "with strategy.scope():\n",
        "    def identity_loss(real_image, same_image, LAMBDA):\n",
        "        loss = tf.reduce_mean(tf.abs(real_image - same_image))\n",
        "        return LAMBDA * 0.5 * loss"
      ],
      "execution_count": 22,
      "outputs": []
    },
    {
      "cell_type": "markdown",
      "metadata": {
        "id": "_0TidpmQMfqD"
      },
      "source": [
        "#### FID - Frechet Distance"
      ]
    },
    {
      "cell_type": "code",
      "metadata": {
        "colab": {
          "base_uri": "https://localhost:8080/"
        },
        "id": "F4VWDV3DMBLE",
        "outputId": "f1634b71-7c87-4a9c-bace-d133dd46df34"
      },
      "source": [
        "with strategy.scope():\n",
        "\n",
        "    inception_model = tf.keras.applications.InceptionV3(input_shape=(256,256,3),pooling=\"avg\",include_top=False)\n",
        "\n",
        "    mix3  = inception_model.get_layer(\"mixed9\").output\n",
        "    f0 = tf.keras.layers.GlobalAveragePooling2D()(mix3)\n",
        "\n",
        "    inception_model = tf.keras.Model(inputs=inception_model.input, outputs=f0)\n",
        "    inception_model.trainable = False\n",
        "\n",
        "    def calculate_activation_statistics_mod(images,fid_model):\n",
        "\n",
        "            act=tf.cast(fid_model.predict(images), tf.float32)\n",
        "\n",
        "            mu = tf.reduce_mean(act, axis=0)\n",
        "            mean_x = tf.reduce_mean(act, axis=0, keepdims=True)\n",
        "            mx = tf.matmul(tf.transpose(mean_x), mean_x)\n",
        "            vx = tf.matmul(tf.transpose(act), act)/tf.cast(tf.shape(act)[0], tf.float32)\n",
        "            sigma = vx - mx\n",
        "            return mu, sigma\n",
        "    myFID_mu2, myFID_sigma2 = calculate_activation_statistics_mod(fid_monet_ds,inception_model)        \n",
        "    fids=[]"
      ],
      "execution_count": 23,
      "outputs": [
        {
          "output_type": "stream",
          "text": [
            "Downloading data from https://storage.googleapis.com/tensorflow/keras-applications/inception_v3/inception_v3_weights_tf_dim_ordering_tf_kernels_notop.h5\n",
            "87916544/87910968 [==============================] - 1s 0us/step\n"
          ],
          "name": "stdout"
        }
      ]
    },
    {
      "cell_type": "code",
      "metadata": {
        "id": "s-Tl31xkSEi-"
      },
      "source": [
        "with strategy.scope():\n",
        "    def calculate_frechet_distance(mu1,sigma1,mu2,sigma2):\n",
        "        fid_epsilon = 1e-14\n",
        "       \n",
        "        covmean = tf.linalg.sqrtm(tf.cast(tf.matmul(sigma1,sigma2),tf.complex64))\n",
        "#         isgood=tf.cast(tf.math.is_finite(covmean), tf.int32)\n",
        "#         if tf.size(isgood)!=tf.math.reduce_sum(isgood):\n",
        "#             return 0\n",
        "\n",
        "        covmean = tf.cast(tf.math.real(covmean),tf.float32)\n",
        "        tr_covmean = tf.linalg.trace(covmean)\n",
        "\n",
        "        return tf.matmul(tf.expand_dims(mu1 - mu2, axis=0),tf.expand_dims(mu1 - mu2, axis=1)) + tf.linalg.trace(sigma1) + tf.linalg.trace(sigma2) - 2 * tr_covmean\n",
        "\n",
        "    def FID(images,gen_model,inception_model=inception_model,myFID_mu2=myFID_mu2, myFID_sigma2=myFID_sigma2):\n",
        "                inp = layers.Input(shape=[256, 256, 3], name='input_image')\n",
        "                x  = gen_model(inp)\n",
        "                x=inception_model(x)\n",
        "                fid_model = tf.keras.Model(inputs=inp, outputs=x)\n",
        "                mu1, sigma1= calculate_activation_statistics_mod(images,fid_model)\n",
        "                fid_value = calculate_frechet_distance(mu1, sigma1,myFID_mu2, myFID_sigma2)\n",
        "                return fid_value"
      ],
      "execution_count": 24,
      "outputs": []
    },
    {
      "cell_type": "markdown",
      "metadata": {
        "id": "PWBzXZjMVaq3"
      },
      "source": [
        "#### Optimizerrs"
      ]
    },
    {
      "cell_type": "code",
      "metadata": {
        "id": "0RfphfGVSF91"
      },
      "source": [
        "with strategy.scope():\n",
        "    monet_generator_optimizer = tf.keras.optimizers.Adam(2e-4, beta_1=0.5)\n",
        "    photo_generator_optimizer = tf.keras.optimizers.Adam(2e-4, beta_1=0.5)\n",
        "\n",
        "    monet_discriminator_optimizer = tf.keras.optimizers.Adam(2e-4, beta_1=0.5)\n",
        "    photo_discriminator_optimizer = tf.keras.optimizers.Adam(2e-4, beta_1=0.5)"
      ],
      "execution_count": 25,
      "outputs": []
    },
    {
      "cell_type": "markdown",
      "metadata": {
        "id": "q7UbyzrwXAf_"
      },
      "source": [
        "# Steps 1,2 - Base Line Model Evaluation\n",
        "\n"
      ]
    },
    {
      "cell_type": "markdown",
      "metadata": {
        "id": "PJN_Udlpz94u"
      },
      "source": [
        "#### Define Model Evaluator With Results Presentation (will convert to Class)\n",
        "Taking the mean might not be the good way, but we can still monitor something]"
      ]
    },
    {
      "cell_type": "code",
      "metadata": {
        "id": "a4fdzdht0Dwo"
      },
      "source": [
        "def evaluate_model(epochs, data, fid_flag):\n",
        "    monet_generator = Generator() # transforms photos to Monet-esque paintings\n",
        "    photo_generator = Generator() # transforms Monet paintings to be more like photos\n",
        "    monet_discriminator = Discriminator() # differentiates real Monet paintings and generated Monet paintings\n",
        "    photo_discriminator = Discriminator() # differentiates real photos and generated photos\n",
        "\n",
        "    # define model\n",
        "    cycle_gan_model = CycleGan(\n",
        "        monet_generator, photo_generator, monet_discriminator, photo_discriminator\n",
        "    )\n",
        "\n",
        "    # compile model\n",
        "    cycle_gan_model.compile(\n",
        "    m_gen_optimizer = monet_generator_optimizer,\n",
        "    p_gen_optimizer = photo_generator_optimizer,\n",
        "    m_disc_optimizer = monet_discriminator_optimizer,\n",
        "    p_disc_optimizer = photo_discriminator_optimizer,\n",
        "    gen_loss_fn = generator_loss,\n",
        "    disc_loss_fn = discriminator_loss,\n",
        "    cycle_loss_fn = calc_cycle_loss,\n",
        "    identity_loss_fn = identity_loss)\n",
        "\n",
        "    plotter = GANMonitor()\n",
        "\n",
        "    hist = cycle_gan_model.fit(data, epochs=epochs, callbacks=[History()])\n",
        "\n",
        "\n",
        "    if (fid_flag):\n",
        "      fids=[]\n",
        "      best_fid=999999999\n",
        "      for epoch in range(1,epochs):\n",
        "          print(\"Epoch = \",epoch)\n",
        "          cycle_gan_model.fit(data, epochs=epochs, callbacks=[History()])\n",
        "          # if epoch>35:\n",
        "          cur_fid=FID(fid_photo_ds,monet_generator_30)\n",
        "          fids.append(cur_fid)\n",
        "          print(\"After epoch #{} FID = {}\\n\".format(epoch,cur_fid))\n",
        "          # if epoch>42:\n",
        "          #      best_fid=cur_fid\n",
        "          #      monet_generator.save('monet_generator_'+str(epoch)+'.h5')\n",
        "      plt.plot(np.array(fids).reshape(-1,), label='FID')\n",
        "      plt.legend()\n",
        "      plt.show()\n",
        "\n",
        "    return hist"
      ],
      "execution_count": 26,
      "outputs": []
    },
    {
      "cell_type": "markdown",
      "metadata": {
        "id": "nls0Bc7BsNdO"
      },
      "source": [
        "#### Define History to Loss Graph Creator"
      ]
    },
    {
      "cell_type": "code",
      "metadata": {
        "id": "uT_048pWsN09"
      },
      "source": [
        "def smooth_curve(points, factor=0.8):\n",
        "    smoothed_points = []\n",
        "    for point in points:\n",
        "        if smoothed_points:\n",
        "            previous = smoothed_points[-1]\n",
        "            smoothed_points.append(previous * factor + point * (1 - factor))\n",
        "        else:\n",
        "            smoothed_points.append(point)\n",
        "    return smoothed_points\n",
        "\n",
        "\n",
        "def plot_smoothed_acc_and_loss(epochs, history, factor=0.8):\n",
        "    monet_g = []\n",
        "    photo_g = []\n",
        "    monet_d = []\n",
        "    photo_d = []\n",
        "\n",
        "    for i in range(np.array(history.history[\"monet_gen_loss\"]).shape[0]):\n",
        "        monet_g.append(history.history[\"monet_gen_loss\"][i].squeeze().mean())\n",
        "        photo_g.append(history.history[\"photo_gen_loss\"][i].squeeze().mean())\n",
        "        monet_d.append(history.history[\"monet_disc_loss\"][i].squeeze().mean())\n",
        "        photo_d.append(history.history[\"photo_disc_loss\"][i].squeeze().mean())\n",
        "\n",
        "    fig, axs = plt.subplots(1, 2, figsize=(15, 5))\n",
        "    axs[0].plot(smooth_curve(monet_g, factor=factor),label=\"Monet\")\n",
        "    axs[0].plot(smooth_curve(photo_g, factor=factor),label=\"Photo\")\n",
        "    axs[0].set_title(\"Smoothed generator loss\")\n",
        "    axs[0].legend()\n",
        "\n",
        "    axs[1].plot(smooth_curve(monet_d, factor=factor),label=\"Monet\")\n",
        "    axs[1].plot(smooth_curve(photo_d, factor=factor),label=\"Photo\")\n",
        "    axs[1].set_title(\"Smoothed discriminator loss\")\n",
        "    axs[1].legend()\n",
        "\n",
        "    plt.show()"
      ],
      "execution_count": 27,
      "outputs": []
    },
    {
      "cell_type": "markdown",
      "metadata": {
        "id": "wNCkw-QIlQQx"
      },
      "source": [
        "#### Parameters"
      ]
    },
    {
      "cell_type": "code",
      "metadata": {
        "id": "4F1qGJNLEZoA"
      },
      "source": [
        "EPOCHS = 25\n"
      ],
      "execution_count": 28,
      "outputs": []
    },
    {
      "cell_type": "markdown",
      "metadata": {
        "id": "ORcoa9ikSGTi"
      },
      "source": [
        "#### BaseLineModel - 300 Monets"
      ]
    },
    {
      "cell_type": "code",
      "metadata": {
        "id": "g6nD8-h65TCe"
      },
      "source": [
        "%%time\n",
        "with strategy.scope():\n",
        "    data_set = tf.data.Dataset.zip((monet_ds, photo_ds))\n",
        "    history = evaluate_model(EPOCHS, data_set, False)"
      ],
      "execution_count": null,
      "outputs": []
    },
    {
      "cell_type": "code",
      "metadata": {
        "id": "U5j8qvqP9XUk"
      },
      "source": [
        "plot_smoothed_acc_and_loss(EPOCHS, history, 0.8 )"
      ],
      "execution_count": null,
      "outputs": []
    },
    {
      "cell_type": "markdown",
      "metadata": {
        "id": "gmTPu0-zWwC2"
      },
      "source": [
        "#### BaseLineModel - 30 Monets"
      ]
    },
    {
      "cell_type": "code",
      "metadata": {
        "id": "XhoONJ5MWtzV"
      },
      "source": [
        "%%time\n",
        "\n",
        "with strategy.scope():\n",
        "    data_set = tf.data.Dataset.zip((monet_ds.take(30), photo_ds))\n",
        "    history = evaluate_model(EPOCHS, data_set, False)"
      ],
      "execution_count": null,
      "outputs": []
    },
    {
      "cell_type": "code",
      "metadata": {
        "id": "IZuZZo00leh5"
      },
      "source": [
        "plot_smoothed_acc_and_loss(EPOCHS, history, 0.8 )"
      ],
      "execution_count": null,
      "outputs": []
    },
    {
      "cell_type": "markdown",
      "metadata": {
        "id": "CV2c_fpoYvf8"
      },
      "source": [
        "# Step 2.5 - Choosing The Right 30 Images"
      ]
    },
    {
      "cell_type": "code",
      "metadata": {
        "id": "FMmcZJHjZHBV",
        "outputId": "2c5ebaa6-38c4-44e4-e5f3-96573ae2c22c",
        "colab": {
          "base_uri": "https://localhost:8080/"
        }
      },
      "source": [
        "dict = {}\n",
        "for i, image in enumerate(monet_ds):\n",
        "    # image = decode_image(image)\n",
        "    score =  brisque.score(image[0])\n",
        "    print(i , \" scor : \" ,score)\n",
        "    dict[i] = score\n",
        "print(dict)\n",
        "sorted(dict.items(), key=lambda item: item[1])\n",
        "print(dict)\n",
        "dict_sorted = sorted((value,key) for (key,value) in dict.items())\n",
        "print()\n",
        "print(dict_sorted)\n",
        "print()\n",
        "#best 100 images:\n",
        "print()\n",
        "for i in range (1,100):\n",
        "    print(dict_sorted[i])\n",
        "\n"
      ],
      "execution_count": 36,
      "outputs": [
        {
          "output_type": "stream",
          "text": [
            "0  scor :  23.02542610925238\n",
            "1  scor :  30.361877441585392\n",
            "2  scor :  21.68766074710365\n",
            "3  scor :  13.203645965059621\n",
            "4  scor :  31.063212974939432\n",
            "5  scor :  33.64449003335707\n",
            "6  scor :  26.526031689792347\n",
            "7  scor :  15.978643214705784\n",
            "8  scor :  39.252803567292034\n",
            "9  scor :  43.58649092423147\n",
            "10  scor :  21.730616705948222\n",
            "11  scor :  22.0471720695177\n",
            "12  scor :  29.146500688952614\n",
            "13  scor :  21.837268392357572\n",
            "14  scor :  19.695896806392483\n",
            "15  scor :  29.02678813845759\n",
            "16  scor :  24.227607275264603\n",
            "17  scor :  31.840697992217287\n",
            "18  scor :  24.056677326375933\n",
            "19  scor :  19.81703307309337\n",
            "20  scor :  20.690153326310423\n",
            "21  scor :  2.7621696492795706\n",
            "22  scor :  36.72721726352651\n",
            "23  scor :  11.61274808201037\n",
            "24  scor :  15.41243460943744\n",
            "25  scor :  24.851208866259157\n",
            "26  scor :  41.31957159267628\n",
            "27  scor :  28.478842433533686\n",
            "28  scor :  11.533803006446732\n",
            "29  scor :  24.492432459407695\n",
            "30  scor :  44.78931391814032\n",
            "31  scor :  38.63595804742269\n",
            "32  scor :  21.09453766073247\n",
            "33  scor :  13.987310481255662\n",
            "34  scor :  13.400435429932912\n",
            "35  scor :  39.389962302209\n",
            "36  scor :  20.905293471243994\n",
            "37  scor :  27.80872012721042\n",
            "38  scor :  31.726646881904884\n",
            "39  scor :  19.343525883699243\n",
            "40  scor :  27.3475600438762\n",
            "41  scor :  19.755309040254105\n",
            "42  scor :  20.276694140372655\n",
            "43  scor :  12.26495346217709\n",
            "44  scor :  31.77057086919021\n",
            "45  scor :  47.97453865639952\n",
            "46  scor :  33.98449392425127\n",
            "47  scor :  20.44794995773495\n",
            "48  scor :  47.03379983959766\n",
            "49  scor :  24.749087319058475\n",
            "50  scor :  21.631555653586673\n",
            "51  scor :  18.53303846701735\n",
            "52  scor :  44.72815457815372\n",
            "53  scor :  26.38004197041684\n",
            "54  scor :  22.60778185363435\n",
            "55  scor :  29.839161193148215\n",
            "56  scor :  27.265752178500605\n",
            "57  scor :  29.400823285079213\n",
            "58  scor :  33.71057104049541\n",
            "59  scor :  20.241662139926547\n",
            "60  scor :  22.680279847817673\n",
            "61  scor :  18.68237255790868\n",
            "62  scor :  27.686662481485058\n",
            "63  scor :  23.572593576386197\n",
            "64  scor :  26.112218347644983\n",
            "65  scor :  29.777382700311108\n",
            "66  scor :  11.958278411812415\n",
            "67  scor :  18.00861238133038\n",
            "68  scor :  19.058623335002466\n",
            "69  scor :  29.99954040679765\n",
            "70  scor :  17.94243385345746\n",
            "71  scor :  26.002395129096243\n",
            "72  scor :  27.659114592624377\n",
            "73  scor :  30.75805857577072\n",
            "74  scor :  26.539901023416604\n",
            "75  scor :  32.76013684912411\n",
            "76  scor :  19.728557673120548\n",
            "77  scor :  20.991290171689542\n",
            "78  scor :  21.157705321615452\n",
            "79  scor :  33.57730678483844\n",
            "80  scor :  21.868526907014797\n",
            "81  scor :  22.668030375622237\n",
            "82  scor :  9.4984794394596\n",
            "83  scor :  43.422541784685535\n",
            "84  scor :  41.02404111871587\n",
            "85  scor :  20.462765513109474\n",
            "86  scor :  16.734907331328117\n",
            "87  scor :  18.840993075857313\n",
            "88  scor :  18.765346350045405\n",
            "89  scor :  45.06911488365401\n",
            "90  scor :  30.771845714163618\n",
            "91  scor :  30.376850469803202\n",
            "92  scor :  34.637881667476535\n",
            "93  scor :  32.81368081925186\n",
            "94  scor :  16.223722544511105\n",
            "95  scor :  34.42558645785354\n",
            "96  scor :  18.5916032913876\n",
            "97  scor :  24.29289840285648\n",
            "98  scor :  26.001291764069123\n",
            "99  scor :  19.081595958190718\n",
            "100  scor :  24.978866966305844\n",
            "101  scor :  20.173063414813754\n",
            "102  scor :  25.655054562586855\n",
            "103  scor :  27.582516813464593\n",
            "104  scor :  22.28264330091153\n",
            "105  scor :  15.861953773932754\n",
            "106  scor :  18.159661968208496\n",
            "107  scor :  43.43184112153196\n",
            "108  scor :  38.22760971369925\n",
            "109  scor :  17.512479096847727\n",
            "110  scor :  34.79816676199775\n",
            "111  scor :  31.491672347334855\n",
            "112  scor :  34.50228212972726\n",
            "113  scor :  24.04041410050135\n",
            "114  scor :  30.134668713767127\n",
            "115  scor :  23.32327697286982\n",
            "116  scor :  26.28929929805335\n",
            "117  scor :  31.48704386899746\n",
            "118  scor :  20.692700851325498\n",
            "119  scor :  21.57996850536935\n",
            "120  scor :  28.35571659621027\n",
            "121  scor :  24.407124577353756\n",
            "122  scor :  14.501479358689238\n",
            "123  scor :  22.35770116165699\n",
            "124  scor :  23.36950868707899\n",
            "125  scor :  31.646715164161122\n",
            "126  scor :  21.451107724604157\n",
            "127  scor :  15.781919933837884\n",
            "128  scor :  23.571657022753556\n",
            "129  scor :  36.79574311173812\n",
            "130  scor :  15.058135802496707\n",
            "131  scor :  24.14036875640781\n",
            "132  scor :  35.06266722530276\n",
            "133  scor :  22.342336567175693\n",
            "134  scor :  37.39132287992899\n",
            "135  scor :  4.147150541804507\n",
            "136  scor :  26.459933283099048\n",
            "137  scor :  26.506283172650313\n",
            "138  scor :  26.154718605213105\n",
            "139  scor :  27.171494790594437\n",
            "140  scor :  14.342132172136047\n",
            "141  scor :  15.32481538786098\n",
            "142  scor :  35.733361431471025\n",
            "143  scor :  35.24299949958217\n",
            "144  scor :  12.945455277627815\n",
            "145  scor :  21.822871714132333\n",
            "146  scor :  18.713215132592467\n",
            "147  scor :  19.91597892067952\n",
            "148  scor :  23.88106538696522\n",
            "149  scor :  23.9107279933431\n",
            "150  scor :  32.325320745048515\n",
            "151  scor :  29.98530230476294\n",
            "152  scor :  32.946881564711106\n",
            "153  scor :  29.247471938973234\n",
            "154  scor :  9.051453767645597\n",
            "155  scor :  28.879199057955674\n",
            "156  scor :  25.312300630561452\n",
            "157  scor :  21.869231711503716\n",
            "158  scor :  33.12092567579245\n",
            "159  scor :  26.78436421676983\n",
            "160  scor :  23.589092287125\n",
            "161  scor :  22.08165481524506\n",
            "162  scor :  35.30067643092738\n",
            "163  scor :  28.161751340689506\n",
            "164  scor :  21.62881865872336\n",
            "165  scor :  14.83365991864568\n",
            "166  scor :  31.144323178024223\n",
            "167  scor :  22.378327520324746\n",
            "168  scor :  31.35136371068208\n",
            "169  scor :  29.494165838771636\n",
            "170  scor :  32.16791442198755\n",
            "171  scor :  25.88320789372719\n",
            "172  scor :  16.390612552009742\n",
            "173  scor :  27.808977422672314\n",
            "174  scor :  20.970646693567886\n",
            "175  scor :  40.46786163715214\n",
            "176  scor :  16.687814240594065\n",
            "177  scor :  13.444489572588935\n",
            "178  scor :  12.950499747321118\n",
            "179  scor :  32.88571102334478\n",
            "180  scor :  24.60083769337959\n",
            "181  scor :  23.513171140744674\n",
            "182  scor :  20.42553444643417\n",
            "183  scor :  21.885991856721688\n",
            "184  scor :  28.27456888900835\n",
            "185  scor :  20.352284094718442\n",
            "186  scor :  27.204638545285064\n",
            "187  scor :  23.15915816563185\n",
            "188  scor :  26.401855348076623\n",
            "189  scor :  33.952044337737306\n",
            "190  scor :  15.12631794687465\n",
            "191  scor :  25.359713637978956\n",
            "192  scor :  20.094559239506538\n",
            "193  scor :  25.728563196068393\n",
            "194  scor :  22.12718264681368\n",
            "195  scor :  16.60472318062338\n",
            "196  scor :  27.328674725432478\n",
            "197  scor :  17.89552321634912\n",
            "198  scor :  23.12825826529817\n",
            "199  scor :  25.267153491498874\n",
            "200  scor :  13.803492856707038\n",
            "201  scor :  29.385882421586842\n",
            "202  scor :  31.994236743698792\n",
            "203  scor :  24.863094970512265\n",
            "204  scor :  31.170772514183767\n",
            "205  scor :  29.7002867186238\n",
            "206  scor :  27.624468280884543\n",
            "207  scor :  25.144136506505873\n",
            "208  scor :  43.56110143842736\n",
            "209  scor :  33.82795499247058\n",
            "210  scor :  31.626298176199242\n",
            "211  scor :  34.25189986134964\n",
            "212  scor :  29.100575038491883\n",
            "213  scor :  16.880105116856015\n",
            "214  scor :  26.138873797741866\n",
            "215  scor :  24.71815672778129\n",
            "216  scor :  26.282375216162308\n",
            "217  scor :  46.10620084944421\n",
            "218  scor :  18.899490805002955\n",
            "219  scor :  16.816277454783034\n",
            "220  scor :  15.170942717503948\n",
            "221  scor :  28.631504010325074\n",
            "222  scor :  18.260647962659817\n",
            "223  scor :  21.464291314242217\n",
            "224  scor :  17.27044224375058\n",
            "225  scor :  34.06720231604433\n",
            "226  scor :  19.65607353892173\n",
            "227  scor :  22.989705950141428\n",
            "228  scor :  32.739911173675154\n",
            "229  scor :  15.002603465798387\n",
            "230  scor :  25.14851395134778\n",
            "231  scor :  16.320204851462876\n",
            "232  scor :  24.139424232340815\n",
            "233  scor :  41.0783134114225\n",
            "234  scor :  29.638203591302698\n",
            "235  scor :  29.880746585533274\n",
            "236  scor :  15.835573612648972\n",
            "237  scor :  28.341283635580197\n",
            "238  scor :  42.09770443101567\n",
            "239  scor :  21.360877115185275\n",
            "240  scor :  35.203906993083166\n",
            "241  scor :  32.21105215668442\n",
            "242  scor :  20.62343709444005\n",
            "243  scor :  27.60296436628002\n",
            "244  scor :  23.06175484501543\n",
            "245  scor :  36.33930490875102\n",
            "246  scor :  38.40689706131522\n",
            "247  scor :  25.625202313936114\n",
            "248  scor :  22.013046584775765\n",
            "249  scor :  26.847883347672536\n",
            "250  scor :  28.951861722043503\n",
            "251  scor :  26.839641515889838\n",
            "252  scor :  22.315868193001364\n",
            "253  scor :  42.799301196549294\n",
            "254  scor :  26.63031748174555\n",
            "255  scor :  25.90378534839337\n",
            "256  scor :  16.632144525177836\n",
            "257  scor :  24.285440833527872\n",
            "258  scor :  20.62534495917268\n",
            "259  scor :  24.956351248470213\n",
            "260  scor :  17.8356912897643\n",
            "261  scor :  19.456183244752623\n",
            "262  scor :  30.000237617368242\n",
            "263  scor :  32.06077939722624\n",
            "264  scor :  32.67013423197622\n",
            "265  scor :  28.378149710578754\n",
            "266  scor :  28.55522528163894\n",
            "267  scor :  24.75452545730306\n",
            "268  scor :  13.136411052284842\n",
            "269  scor :  32.87839564983173\n",
            "270  scor :  31.518685171225542\n",
            "271  scor :  27.393513249160577\n",
            "272  scor :  18.398582471871094\n",
            "273  scor :  32.3092466481514\n",
            "274  scor :  23.35719382444833\n",
            "275  scor :  20.21864586428373\n",
            "276  scor :  13.34306173145032\n",
            "277  scor :  28.698843057602488\n",
            "278  scor :  21.805552838057537\n",
            "279  scor :  20.517108076005314\n",
            "280  scor :  16.68682144744011\n",
            "281  scor :  32.07803732361489\n",
            "282  scor :  38.023509519910334\n",
            "283  scor :  15.969735869703385\n",
            "284  scor :  16.147975885118257\n",
            "285  scor :  16.08942623981838\n",
            "286  scor :  15.768487279921914\n",
            "287  scor :  33.5640243125907\n",
            "288  scor :  20.500846368568517\n",
            "289  scor :  33.82862570628831\n",
            "290  scor :  19.916451986341457\n",
            "291  scor :  17.06304637529999\n",
            "292  scor :  36.886812438514625\n",
            "293  scor :  18.106160331791074\n",
            "294  scor :  15.692483994463345\n",
            "295  scor :  24.215159901930832\n",
            "296  scor :  25.184443513601508\n",
            "297  scor :  15.850637244139733\n",
            "298  scor :  14.914998061548289\n",
            "299  scor :  27.394055192791\n",
            "{0: 23.02542610925238, 1: 30.361877441585392, 2: 21.68766074710365, 3: 13.203645965059621, 4: 31.063212974939432, 5: 33.64449003335707, 6: 26.526031689792347, 7: 15.978643214705784, 8: 39.252803567292034, 9: 43.58649092423147, 10: 21.730616705948222, 11: 22.0471720695177, 12: 29.146500688952614, 13: 21.837268392357572, 14: 19.695896806392483, 15: 29.02678813845759, 16: 24.227607275264603, 17: 31.840697992217287, 18: 24.056677326375933, 19: 19.81703307309337, 20: 20.690153326310423, 21: 2.7621696492795706, 22: 36.72721726352651, 23: 11.61274808201037, 24: 15.41243460943744, 25: 24.851208866259157, 26: 41.31957159267628, 27: 28.478842433533686, 28: 11.533803006446732, 29: 24.492432459407695, 30: 44.78931391814032, 31: 38.63595804742269, 32: 21.09453766073247, 33: 13.987310481255662, 34: 13.400435429932912, 35: 39.389962302209, 36: 20.905293471243994, 37: 27.80872012721042, 38: 31.726646881904884, 39: 19.343525883699243, 40: 27.3475600438762, 41: 19.755309040254105, 42: 20.276694140372655, 43: 12.26495346217709, 44: 31.77057086919021, 45: 47.97453865639952, 46: 33.98449392425127, 47: 20.44794995773495, 48: 47.03379983959766, 49: 24.749087319058475, 50: 21.631555653586673, 51: 18.53303846701735, 52: 44.72815457815372, 53: 26.38004197041684, 54: 22.60778185363435, 55: 29.839161193148215, 56: 27.265752178500605, 57: 29.400823285079213, 58: 33.71057104049541, 59: 20.241662139926547, 60: 22.680279847817673, 61: 18.68237255790868, 62: 27.686662481485058, 63: 23.572593576386197, 64: 26.112218347644983, 65: 29.777382700311108, 66: 11.958278411812415, 67: 18.00861238133038, 68: 19.058623335002466, 69: 29.99954040679765, 70: 17.94243385345746, 71: 26.002395129096243, 72: 27.659114592624377, 73: 30.75805857577072, 74: 26.539901023416604, 75: 32.76013684912411, 76: 19.728557673120548, 77: 20.991290171689542, 78: 21.157705321615452, 79: 33.57730678483844, 80: 21.868526907014797, 81: 22.668030375622237, 82: 9.4984794394596, 83: 43.422541784685535, 84: 41.02404111871587, 85: 20.462765513109474, 86: 16.734907331328117, 87: 18.840993075857313, 88: 18.765346350045405, 89: 45.06911488365401, 90: 30.771845714163618, 91: 30.376850469803202, 92: 34.637881667476535, 93: 32.81368081925186, 94: 16.223722544511105, 95: 34.42558645785354, 96: 18.5916032913876, 97: 24.29289840285648, 98: 26.001291764069123, 99: 19.081595958190718, 100: 24.978866966305844, 101: 20.173063414813754, 102: 25.655054562586855, 103: 27.582516813464593, 104: 22.28264330091153, 105: 15.861953773932754, 106: 18.159661968208496, 107: 43.43184112153196, 108: 38.22760971369925, 109: 17.512479096847727, 110: 34.79816676199775, 111: 31.491672347334855, 112: 34.50228212972726, 113: 24.04041410050135, 114: 30.134668713767127, 115: 23.32327697286982, 116: 26.28929929805335, 117: 31.48704386899746, 118: 20.692700851325498, 119: 21.57996850536935, 120: 28.35571659621027, 121: 24.407124577353756, 122: 14.501479358689238, 123: 22.35770116165699, 124: 23.36950868707899, 125: 31.646715164161122, 126: 21.451107724604157, 127: 15.781919933837884, 128: 23.571657022753556, 129: 36.79574311173812, 130: 15.058135802496707, 131: 24.14036875640781, 132: 35.06266722530276, 133: 22.342336567175693, 134: 37.39132287992899, 135: 4.147150541804507, 136: 26.459933283099048, 137: 26.506283172650313, 138: 26.154718605213105, 139: 27.171494790594437, 140: 14.342132172136047, 141: 15.32481538786098, 142: 35.733361431471025, 143: 35.24299949958217, 144: 12.945455277627815, 145: 21.822871714132333, 146: 18.713215132592467, 147: 19.91597892067952, 148: 23.88106538696522, 149: 23.9107279933431, 150: 32.325320745048515, 151: 29.98530230476294, 152: 32.946881564711106, 153: 29.247471938973234, 154: 9.051453767645597, 155: 28.879199057955674, 156: 25.312300630561452, 157: 21.869231711503716, 158: 33.12092567579245, 159: 26.78436421676983, 160: 23.589092287125, 161: 22.08165481524506, 162: 35.30067643092738, 163: 28.161751340689506, 164: 21.62881865872336, 165: 14.83365991864568, 166: 31.144323178024223, 167: 22.378327520324746, 168: 31.35136371068208, 169: 29.494165838771636, 170: 32.16791442198755, 171: 25.88320789372719, 172: 16.390612552009742, 173: 27.808977422672314, 174: 20.970646693567886, 175: 40.46786163715214, 176: 16.687814240594065, 177: 13.444489572588935, 178: 12.950499747321118, 179: 32.88571102334478, 180: 24.60083769337959, 181: 23.513171140744674, 182: 20.42553444643417, 183: 21.885991856721688, 184: 28.27456888900835, 185: 20.352284094718442, 186: 27.204638545285064, 187: 23.15915816563185, 188: 26.401855348076623, 189: 33.952044337737306, 190: 15.12631794687465, 191: 25.359713637978956, 192: 20.094559239506538, 193: 25.728563196068393, 194: 22.12718264681368, 195: 16.60472318062338, 196: 27.328674725432478, 197: 17.89552321634912, 198: 23.12825826529817, 199: 25.267153491498874, 200: 13.803492856707038, 201: 29.385882421586842, 202: 31.994236743698792, 203: 24.863094970512265, 204: 31.170772514183767, 205: 29.7002867186238, 206: 27.624468280884543, 207: 25.144136506505873, 208: 43.56110143842736, 209: 33.82795499247058, 210: 31.626298176199242, 211: 34.25189986134964, 212: 29.100575038491883, 213: 16.880105116856015, 214: 26.138873797741866, 215: 24.71815672778129, 216: 26.282375216162308, 217: 46.10620084944421, 218: 18.899490805002955, 219: 16.816277454783034, 220: 15.170942717503948, 221: 28.631504010325074, 222: 18.260647962659817, 223: 21.464291314242217, 224: 17.27044224375058, 225: 34.06720231604433, 226: 19.65607353892173, 227: 22.989705950141428, 228: 32.739911173675154, 229: 15.002603465798387, 230: 25.14851395134778, 231: 16.320204851462876, 232: 24.139424232340815, 233: 41.0783134114225, 234: 29.638203591302698, 235: 29.880746585533274, 236: 15.835573612648972, 237: 28.341283635580197, 238: 42.09770443101567, 239: 21.360877115185275, 240: 35.203906993083166, 241: 32.21105215668442, 242: 20.62343709444005, 243: 27.60296436628002, 244: 23.06175484501543, 245: 36.33930490875102, 246: 38.40689706131522, 247: 25.625202313936114, 248: 22.013046584775765, 249: 26.847883347672536, 250: 28.951861722043503, 251: 26.839641515889838, 252: 22.315868193001364, 253: 42.799301196549294, 254: 26.63031748174555, 255: 25.90378534839337, 256: 16.632144525177836, 257: 24.285440833527872, 258: 20.62534495917268, 259: 24.956351248470213, 260: 17.8356912897643, 261: 19.456183244752623, 262: 30.000237617368242, 263: 32.06077939722624, 264: 32.67013423197622, 265: 28.378149710578754, 266: 28.55522528163894, 267: 24.75452545730306, 268: 13.136411052284842, 269: 32.87839564983173, 270: 31.518685171225542, 271: 27.393513249160577, 272: 18.398582471871094, 273: 32.3092466481514, 274: 23.35719382444833, 275: 20.21864586428373, 276: 13.34306173145032, 277: 28.698843057602488, 278: 21.805552838057537, 279: 20.517108076005314, 280: 16.68682144744011, 281: 32.07803732361489, 282: 38.023509519910334, 283: 15.969735869703385, 284: 16.147975885118257, 285: 16.08942623981838, 286: 15.768487279921914, 287: 33.5640243125907, 288: 20.500846368568517, 289: 33.82862570628831, 290: 19.916451986341457, 291: 17.06304637529999, 292: 36.886812438514625, 293: 18.106160331791074, 294: 15.692483994463345, 295: 24.215159901930832, 296: 25.184443513601508, 297: 15.850637244139733, 298: 14.914998061548289, 299: 27.394055192791}\n",
            "{0: 23.02542610925238, 1: 30.361877441585392, 2: 21.68766074710365, 3: 13.203645965059621, 4: 31.063212974939432, 5: 33.64449003335707, 6: 26.526031689792347, 7: 15.978643214705784, 8: 39.252803567292034, 9: 43.58649092423147, 10: 21.730616705948222, 11: 22.0471720695177, 12: 29.146500688952614, 13: 21.837268392357572, 14: 19.695896806392483, 15: 29.02678813845759, 16: 24.227607275264603, 17: 31.840697992217287, 18: 24.056677326375933, 19: 19.81703307309337, 20: 20.690153326310423, 21: 2.7621696492795706, 22: 36.72721726352651, 23: 11.61274808201037, 24: 15.41243460943744, 25: 24.851208866259157, 26: 41.31957159267628, 27: 28.478842433533686, 28: 11.533803006446732, 29: 24.492432459407695, 30: 44.78931391814032, 31: 38.63595804742269, 32: 21.09453766073247, 33: 13.987310481255662, 34: 13.400435429932912, 35: 39.389962302209, 36: 20.905293471243994, 37: 27.80872012721042, 38: 31.726646881904884, 39: 19.343525883699243, 40: 27.3475600438762, 41: 19.755309040254105, 42: 20.276694140372655, 43: 12.26495346217709, 44: 31.77057086919021, 45: 47.97453865639952, 46: 33.98449392425127, 47: 20.44794995773495, 48: 47.03379983959766, 49: 24.749087319058475, 50: 21.631555653586673, 51: 18.53303846701735, 52: 44.72815457815372, 53: 26.38004197041684, 54: 22.60778185363435, 55: 29.839161193148215, 56: 27.265752178500605, 57: 29.400823285079213, 58: 33.71057104049541, 59: 20.241662139926547, 60: 22.680279847817673, 61: 18.68237255790868, 62: 27.686662481485058, 63: 23.572593576386197, 64: 26.112218347644983, 65: 29.777382700311108, 66: 11.958278411812415, 67: 18.00861238133038, 68: 19.058623335002466, 69: 29.99954040679765, 70: 17.94243385345746, 71: 26.002395129096243, 72: 27.659114592624377, 73: 30.75805857577072, 74: 26.539901023416604, 75: 32.76013684912411, 76: 19.728557673120548, 77: 20.991290171689542, 78: 21.157705321615452, 79: 33.57730678483844, 80: 21.868526907014797, 81: 22.668030375622237, 82: 9.4984794394596, 83: 43.422541784685535, 84: 41.02404111871587, 85: 20.462765513109474, 86: 16.734907331328117, 87: 18.840993075857313, 88: 18.765346350045405, 89: 45.06911488365401, 90: 30.771845714163618, 91: 30.376850469803202, 92: 34.637881667476535, 93: 32.81368081925186, 94: 16.223722544511105, 95: 34.42558645785354, 96: 18.5916032913876, 97: 24.29289840285648, 98: 26.001291764069123, 99: 19.081595958190718, 100: 24.978866966305844, 101: 20.173063414813754, 102: 25.655054562586855, 103: 27.582516813464593, 104: 22.28264330091153, 105: 15.861953773932754, 106: 18.159661968208496, 107: 43.43184112153196, 108: 38.22760971369925, 109: 17.512479096847727, 110: 34.79816676199775, 111: 31.491672347334855, 112: 34.50228212972726, 113: 24.04041410050135, 114: 30.134668713767127, 115: 23.32327697286982, 116: 26.28929929805335, 117: 31.48704386899746, 118: 20.692700851325498, 119: 21.57996850536935, 120: 28.35571659621027, 121: 24.407124577353756, 122: 14.501479358689238, 123: 22.35770116165699, 124: 23.36950868707899, 125: 31.646715164161122, 126: 21.451107724604157, 127: 15.781919933837884, 128: 23.571657022753556, 129: 36.79574311173812, 130: 15.058135802496707, 131: 24.14036875640781, 132: 35.06266722530276, 133: 22.342336567175693, 134: 37.39132287992899, 135: 4.147150541804507, 136: 26.459933283099048, 137: 26.506283172650313, 138: 26.154718605213105, 139: 27.171494790594437, 140: 14.342132172136047, 141: 15.32481538786098, 142: 35.733361431471025, 143: 35.24299949958217, 144: 12.945455277627815, 145: 21.822871714132333, 146: 18.713215132592467, 147: 19.91597892067952, 148: 23.88106538696522, 149: 23.9107279933431, 150: 32.325320745048515, 151: 29.98530230476294, 152: 32.946881564711106, 153: 29.247471938973234, 154: 9.051453767645597, 155: 28.879199057955674, 156: 25.312300630561452, 157: 21.869231711503716, 158: 33.12092567579245, 159: 26.78436421676983, 160: 23.589092287125, 161: 22.08165481524506, 162: 35.30067643092738, 163: 28.161751340689506, 164: 21.62881865872336, 165: 14.83365991864568, 166: 31.144323178024223, 167: 22.378327520324746, 168: 31.35136371068208, 169: 29.494165838771636, 170: 32.16791442198755, 171: 25.88320789372719, 172: 16.390612552009742, 173: 27.808977422672314, 174: 20.970646693567886, 175: 40.46786163715214, 176: 16.687814240594065, 177: 13.444489572588935, 178: 12.950499747321118, 179: 32.88571102334478, 180: 24.60083769337959, 181: 23.513171140744674, 182: 20.42553444643417, 183: 21.885991856721688, 184: 28.27456888900835, 185: 20.352284094718442, 186: 27.204638545285064, 187: 23.15915816563185, 188: 26.401855348076623, 189: 33.952044337737306, 190: 15.12631794687465, 191: 25.359713637978956, 192: 20.094559239506538, 193: 25.728563196068393, 194: 22.12718264681368, 195: 16.60472318062338, 196: 27.328674725432478, 197: 17.89552321634912, 198: 23.12825826529817, 199: 25.267153491498874, 200: 13.803492856707038, 201: 29.385882421586842, 202: 31.994236743698792, 203: 24.863094970512265, 204: 31.170772514183767, 205: 29.7002867186238, 206: 27.624468280884543, 207: 25.144136506505873, 208: 43.56110143842736, 209: 33.82795499247058, 210: 31.626298176199242, 211: 34.25189986134964, 212: 29.100575038491883, 213: 16.880105116856015, 214: 26.138873797741866, 215: 24.71815672778129, 216: 26.282375216162308, 217: 46.10620084944421, 218: 18.899490805002955, 219: 16.816277454783034, 220: 15.170942717503948, 221: 28.631504010325074, 222: 18.260647962659817, 223: 21.464291314242217, 224: 17.27044224375058, 225: 34.06720231604433, 226: 19.65607353892173, 227: 22.989705950141428, 228: 32.739911173675154, 229: 15.002603465798387, 230: 25.14851395134778, 231: 16.320204851462876, 232: 24.139424232340815, 233: 41.0783134114225, 234: 29.638203591302698, 235: 29.880746585533274, 236: 15.835573612648972, 237: 28.341283635580197, 238: 42.09770443101567, 239: 21.360877115185275, 240: 35.203906993083166, 241: 32.21105215668442, 242: 20.62343709444005, 243: 27.60296436628002, 244: 23.06175484501543, 245: 36.33930490875102, 246: 38.40689706131522, 247: 25.625202313936114, 248: 22.013046584775765, 249: 26.847883347672536, 250: 28.951861722043503, 251: 26.839641515889838, 252: 22.315868193001364, 253: 42.799301196549294, 254: 26.63031748174555, 255: 25.90378534839337, 256: 16.632144525177836, 257: 24.285440833527872, 258: 20.62534495917268, 259: 24.956351248470213, 260: 17.8356912897643, 261: 19.456183244752623, 262: 30.000237617368242, 263: 32.06077939722624, 264: 32.67013423197622, 265: 28.378149710578754, 266: 28.55522528163894, 267: 24.75452545730306, 268: 13.136411052284842, 269: 32.87839564983173, 270: 31.518685171225542, 271: 27.393513249160577, 272: 18.398582471871094, 273: 32.3092466481514, 274: 23.35719382444833, 275: 20.21864586428373, 276: 13.34306173145032, 277: 28.698843057602488, 278: 21.805552838057537, 279: 20.517108076005314, 280: 16.68682144744011, 281: 32.07803732361489, 282: 38.023509519910334, 283: 15.969735869703385, 284: 16.147975885118257, 285: 16.08942623981838, 286: 15.768487279921914, 287: 33.5640243125907, 288: 20.500846368568517, 289: 33.82862570628831, 290: 19.916451986341457, 291: 17.06304637529999, 292: 36.886812438514625, 293: 18.106160331791074, 294: 15.692483994463345, 295: 24.215159901930832, 296: 25.184443513601508, 297: 15.850637244139733, 298: 14.914998061548289, 299: 27.394055192791}\n",
            "\n",
            "[(2.7621696492795706, 21), (4.147150541804507, 135), (9.051453767645597, 154), (9.4984794394596, 82), (11.533803006446732, 28), (11.61274808201037, 23), (11.958278411812415, 66), (12.26495346217709, 43), (12.945455277627815, 144), (12.950499747321118, 178), (13.136411052284842, 268), (13.203645965059621, 3), (13.34306173145032, 276), (13.400435429932912, 34), (13.444489572588935, 177), (13.803492856707038, 200), (13.987310481255662, 33), (14.342132172136047, 140), (14.501479358689238, 122), (14.83365991864568, 165), (14.914998061548289, 298), (15.002603465798387, 229), (15.058135802496707, 130), (15.12631794687465, 190), (15.170942717503948, 220), (15.32481538786098, 141), (15.41243460943744, 24), (15.692483994463345, 294), (15.768487279921914, 286), (15.781919933837884, 127), (15.835573612648972, 236), (15.850637244139733, 297), (15.861953773932754, 105), (15.969735869703385, 283), (15.978643214705784, 7), (16.08942623981838, 285), (16.147975885118257, 284), (16.223722544511105, 94), (16.320204851462876, 231), (16.390612552009742, 172), (16.60472318062338, 195), (16.632144525177836, 256), (16.68682144744011, 280), (16.687814240594065, 176), (16.734907331328117, 86), (16.816277454783034, 219), (16.880105116856015, 213), (17.06304637529999, 291), (17.27044224375058, 224), (17.512479096847727, 109), (17.8356912897643, 260), (17.89552321634912, 197), (17.94243385345746, 70), (18.00861238133038, 67), (18.106160331791074, 293), (18.159661968208496, 106), (18.260647962659817, 222), (18.398582471871094, 272), (18.53303846701735, 51), (18.5916032913876, 96), (18.68237255790868, 61), (18.713215132592467, 146), (18.765346350045405, 88), (18.840993075857313, 87), (18.899490805002955, 218), (19.058623335002466, 68), (19.081595958190718, 99), (19.343525883699243, 39), (19.456183244752623, 261), (19.65607353892173, 226), (19.695896806392483, 14), (19.728557673120548, 76), (19.755309040254105, 41), (19.81703307309337, 19), (19.91597892067952, 147), (19.916451986341457, 290), (20.094559239506538, 192), (20.173063414813754, 101), (20.21864586428373, 275), (20.241662139926547, 59), (20.276694140372655, 42), (20.352284094718442, 185), (20.42553444643417, 182), (20.44794995773495, 47), (20.462765513109474, 85), (20.500846368568517, 288), (20.517108076005314, 279), (20.62343709444005, 242), (20.62534495917268, 258), (20.690153326310423, 20), (20.692700851325498, 118), (20.905293471243994, 36), (20.970646693567886, 174), (20.991290171689542, 77), (21.09453766073247, 32), (21.157705321615452, 78), (21.360877115185275, 239), (21.451107724604157, 126), (21.464291314242217, 223), (21.57996850536935, 119), (21.62881865872336, 164), (21.631555653586673, 50), (21.68766074710365, 2), (21.730616705948222, 10), (21.805552838057537, 278), (21.822871714132333, 145), (21.837268392357572, 13), (21.868526907014797, 80), (21.869231711503716, 157), (21.885991856721688, 183), (22.013046584775765, 248), (22.0471720695177, 11), (22.08165481524506, 161), (22.12718264681368, 194), (22.28264330091153, 104), (22.315868193001364, 252), (22.342336567175693, 133), (22.35770116165699, 123), (22.378327520324746, 167), (22.60778185363435, 54), (22.668030375622237, 81), (22.680279847817673, 60), (22.989705950141428, 227), (23.02542610925238, 0), (23.06175484501543, 244), (23.12825826529817, 198), (23.15915816563185, 187), (23.32327697286982, 115), (23.35719382444833, 274), (23.36950868707899, 124), (23.513171140744674, 181), (23.571657022753556, 128), (23.572593576386197, 63), (23.589092287125, 160), (23.88106538696522, 148), (23.9107279933431, 149), (24.04041410050135, 113), (24.056677326375933, 18), (24.139424232340815, 232), (24.14036875640781, 131), (24.215159901930832, 295), (24.227607275264603, 16), (24.285440833527872, 257), (24.29289840285648, 97), (24.407124577353756, 121), (24.492432459407695, 29), (24.60083769337959, 180), (24.71815672778129, 215), (24.749087319058475, 49), (24.75452545730306, 267), (24.851208866259157, 25), (24.863094970512265, 203), (24.956351248470213, 259), (24.978866966305844, 100), (25.144136506505873, 207), (25.14851395134778, 230), (25.184443513601508, 296), (25.267153491498874, 199), (25.312300630561452, 156), (25.359713637978956, 191), (25.625202313936114, 247), (25.655054562586855, 102), (25.728563196068393, 193), (25.88320789372719, 171), (25.90378534839337, 255), (26.001291764069123, 98), (26.002395129096243, 71), (26.112218347644983, 64), (26.138873797741866, 214), (26.154718605213105, 138), (26.282375216162308, 216), (26.28929929805335, 116), (26.38004197041684, 53), (26.401855348076623, 188), (26.459933283099048, 136), (26.506283172650313, 137), (26.526031689792347, 6), (26.539901023416604, 74), (26.63031748174555, 254), (26.78436421676983, 159), (26.839641515889838, 251), (26.847883347672536, 249), (27.171494790594437, 139), (27.204638545285064, 186), (27.265752178500605, 56), (27.328674725432478, 196), (27.3475600438762, 40), (27.393513249160577, 271), (27.394055192791, 299), (27.582516813464593, 103), (27.60296436628002, 243), (27.624468280884543, 206), (27.659114592624377, 72), (27.686662481485058, 62), (27.80872012721042, 37), (27.808977422672314, 173), (28.161751340689506, 163), (28.27456888900835, 184), (28.341283635580197, 237), (28.35571659621027, 120), (28.378149710578754, 265), (28.478842433533686, 27), (28.55522528163894, 266), (28.631504010325074, 221), (28.698843057602488, 277), (28.879199057955674, 155), (28.951861722043503, 250), (29.02678813845759, 15), (29.100575038491883, 212), (29.146500688952614, 12), (29.247471938973234, 153), (29.385882421586842, 201), (29.400823285079213, 57), (29.494165838771636, 169), (29.638203591302698, 234), (29.7002867186238, 205), (29.777382700311108, 65), (29.839161193148215, 55), (29.880746585533274, 235), (29.98530230476294, 151), (29.99954040679765, 69), (30.000237617368242, 262), (30.134668713767127, 114), (30.361877441585392, 1), (30.376850469803202, 91), (30.75805857577072, 73), (30.771845714163618, 90), (31.063212974939432, 4), (31.144323178024223, 166), (31.170772514183767, 204), (31.35136371068208, 168), (31.48704386899746, 117), (31.491672347334855, 111), (31.518685171225542, 270), (31.626298176199242, 210), (31.646715164161122, 125), (31.726646881904884, 38), (31.77057086919021, 44), (31.840697992217287, 17), (31.994236743698792, 202), (32.06077939722624, 263), (32.07803732361489, 281), (32.16791442198755, 170), (32.21105215668442, 241), (32.3092466481514, 273), (32.325320745048515, 150), (32.67013423197622, 264), (32.739911173675154, 228), (32.76013684912411, 75), (32.81368081925186, 93), (32.87839564983173, 269), (32.88571102334478, 179), (32.946881564711106, 152), (33.12092567579245, 158), (33.5640243125907, 287), (33.57730678483844, 79), (33.64449003335707, 5), (33.71057104049541, 58), (33.82795499247058, 209), (33.82862570628831, 289), (33.952044337737306, 189), (33.98449392425127, 46), (34.06720231604433, 225), (34.25189986134964, 211), (34.42558645785354, 95), (34.50228212972726, 112), (34.637881667476535, 92), (34.79816676199775, 110), (35.06266722530276, 132), (35.203906993083166, 240), (35.24299949958217, 143), (35.30067643092738, 162), (35.733361431471025, 142), (36.33930490875102, 245), (36.72721726352651, 22), (36.79574311173812, 129), (36.886812438514625, 292), (37.39132287992899, 134), (38.023509519910334, 282), (38.22760971369925, 108), (38.40689706131522, 246), (38.63595804742269, 31), (39.252803567292034, 8), (39.389962302209, 35), (40.46786163715214, 175), (41.02404111871587, 84), (41.0783134114225, 233), (41.31957159267628, 26), (42.09770443101567, 238), (42.799301196549294, 253), (43.422541784685535, 83), (43.43184112153196, 107), (43.56110143842736, 208), (43.58649092423147, 9), (44.72815457815372, 52), (44.78931391814032, 30), (45.06911488365401, 89), (46.10620084944421, 217), (47.03379983959766, 48), (47.97453865639952, 45)]\n",
            "\n",
            "\n",
            "(4.147150541804507, 135)\n",
            "(9.051453767645597, 154)\n",
            "(9.4984794394596, 82)\n",
            "(11.533803006446732, 28)\n",
            "(11.61274808201037, 23)\n",
            "(11.958278411812415, 66)\n",
            "(12.26495346217709, 43)\n",
            "(12.945455277627815, 144)\n",
            "(12.950499747321118, 178)\n",
            "(13.136411052284842, 268)\n",
            "(13.203645965059621, 3)\n",
            "(13.34306173145032, 276)\n",
            "(13.400435429932912, 34)\n",
            "(13.444489572588935, 177)\n",
            "(13.803492856707038, 200)\n",
            "(13.987310481255662, 33)\n",
            "(14.342132172136047, 140)\n",
            "(14.501479358689238, 122)\n",
            "(14.83365991864568, 165)\n",
            "(14.914998061548289, 298)\n",
            "(15.002603465798387, 229)\n",
            "(15.058135802496707, 130)\n",
            "(15.12631794687465, 190)\n",
            "(15.170942717503948, 220)\n",
            "(15.32481538786098, 141)\n",
            "(15.41243460943744, 24)\n",
            "(15.692483994463345, 294)\n",
            "(15.768487279921914, 286)\n",
            "(15.781919933837884, 127)\n",
            "(15.835573612648972, 236)\n",
            "(15.850637244139733, 297)\n",
            "(15.861953773932754, 105)\n",
            "(15.969735869703385, 283)\n",
            "(15.978643214705784, 7)\n",
            "(16.08942623981838, 285)\n",
            "(16.147975885118257, 284)\n",
            "(16.223722544511105, 94)\n",
            "(16.320204851462876, 231)\n",
            "(16.390612552009742, 172)\n",
            "(16.60472318062338, 195)\n",
            "(16.632144525177836, 256)\n",
            "(16.68682144744011, 280)\n",
            "(16.687814240594065, 176)\n",
            "(16.734907331328117, 86)\n",
            "(16.816277454783034, 219)\n",
            "(16.880105116856015, 213)\n",
            "(17.06304637529999, 291)\n",
            "(17.27044224375058, 224)\n",
            "(17.512479096847727, 109)\n",
            "(17.8356912897643, 260)\n",
            "(17.89552321634912, 197)\n",
            "(17.94243385345746, 70)\n",
            "(18.00861238133038, 67)\n",
            "(18.106160331791074, 293)\n",
            "(18.159661968208496, 106)\n",
            "(18.260647962659817, 222)\n",
            "(18.398582471871094, 272)\n",
            "(18.53303846701735, 51)\n",
            "(18.5916032913876, 96)\n",
            "(18.68237255790868, 61)\n",
            "(18.713215132592467, 146)\n",
            "(18.765346350045405, 88)\n",
            "(18.840993075857313, 87)\n",
            "(18.899490805002955, 218)\n",
            "(19.058623335002466, 68)\n",
            "(19.081595958190718, 99)\n",
            "(19.343525883699243, 39)\n",
            "(19.456183244752623, 261)\n",
            "(19.65607353892173, 226)\n",
            "(19.695896806392483, 14)\n",
            "(19.728557673120548, 76)\n",
            "(19.755309040254105, 41)\n",
            "(19.81703307309337, 19)\n",
            "(19.91597892067952, 147)\n",
            "(19.916451986341457, 290)\n",
            "(20.094559239506538, 192)\n",
            "(20.173063414813754, 101)\n",
            "(20.21864586428373, 275)\n",
            "(20.241662139926547, 59)\n",
            "(20.276694140372655, 42)\n",
            "(20.352284094718442, 185)\n",
            "(20.42553444643417, 182)\n",
            "(20.44794995773495, 47)\n",
            "(20.462765513109474, 85)\n",
            "(20.500846368568517, 288)\n",
            "(20.517108076005314, 279)\n",
            "(20.62343709444005, 242)\n",
            "(20.62534495917268, 258)\n",
            "(20.690153326310423, 20)\n",
            "(20.692700851325498, 118)\n",
            "(20.905293471243994, 36)\n",
            "(20.970646693567886, 174)\n",
            "(20.991290171689542, 77)\n",
            "(21.09453766073247, 32)\n",
            "(21.157705321615452, 78)\n",
            "(21.360877115185275, 239)\n",
            "(21.451107724604157, 126)\n",
            "(21.464291314242217, 223)\n",
            "(21.57996850536935, 119)\n"
          ],
          "name": "stdout"
        }
      ]
    },
    {
      "cell_type": "markdown",
      "metadata": {
        "id": "LigSld9K_CD7"
      },
      "source": [
        "# Step 3 -  Augmentation Model Check"
      ]
    },
    {
      "cell_type": "code",
      "metadata": {
        "id": "VNXKKiw1_Cde"
      },
      "source": [
        ""
      ],
      "execution_count": 32,
      "outputs": []
    },
    {
      "cell_type": "code",
      "metadata": {
        "id": "KpuPlnXY_F8f"
      },
      "source": [
        ""
      ],
      "execution_count": 32,
      "outputs": []
    },
    {
      "cell_type": "markdown",
      "metadata": {
        "id": "WlRKDnDx5b3R"
      },
      "source": [
        ""
      ]
    },
    {
      "cell_type": "code",
      "metadata": {
        "colab": {
          "base_uri": "https://localhost:8080/",
          "height": 163
        },
        "id": "cKuhyvfyOJ4-",
        "outputId": "809ec753-8f59-42b0-b901-541209fa53d8"
      },
      "source": [
        "while True: pass"
      ],
      "execution_count": 33,
      "outputs": [
        {
          "output_type": "error",
          "ename": "KeyboardInterrupt",
          "evalue": "ignored",
          "traceback": [
            "\u001b[0;31m---------------------------------------------------------------------------\u001b[0m",
            "\u001b[0;31mKeyboardInterrupt\u001b[0m                         Traceback (most recent call last)",
            "\u001b[0;32m<ipython-input-33-b16dc615ea65>\u001b[0m in \u001b[0;36m<module>\u001b[0;34m()\u001b[0m\n\u001b[0;32m----> 1\u001b[0;31m \u001b[0;32mwhile\u001b[0m \u001b[0;32mTrue\u001b[0m\u001b[0;34m:\u001b[0m \u001b[0;32mpass\u001b[0m\u001b[0;34m\u001b[0m\u001b[0;34m\u001b[0m\u001b[0m\n\u001b[0m",
            "\u001b[0;31mKeyboardInterrupt\u001b[0m: "
          ]
        }
      ]
    },
    {
      "cell_type": "markdown",
      "metadata": {
        "id": "jr9wu3wEyQQ1"
      },
      "source": [
        "#### Example Of Our Results - save for the last model? or impleent as every one"
      ]
    },
    {
      "cell_type": "code",
      "metadata": {
        "id": "QKbhg7LexP8o"
      },
      "source": [
        "_, ax = plt.subplots(5, 2, figsize=(12, 12))\n",
        "for i, img in enumerate(photo_ds.take(5)):\n",
        "    prediction = monet_generator(img, training=False)[0].numpy()\n",
        "    prediction = (prediction * 127.5 + 127.5).astype(np.uint8)\n",
        "    img = (img[0] * 127.5 + 127.5).numpy().astype(np.uint8)\n",
        "\n",
        "    ax[i, 0].imshow(img)\n",
        "    ax[i, 1].imshow(prediction)\n",
        "    ax[i, 0].set_title(\"Input Photo\")\n",
        "    ax[i, 1].set_title(\"Monet-esque\")\n",
        "    ax[i, 0].axis(\"off\")\n",
        "    ax[i, 1].axis(\"off\")\n",
        "plt.show()"
      ],
      "execution_count": null,
      "outputs": []
    },
    {
      "cell_type": "markdown",
      "metadata": {
        "id": "e3kCJNWwXRaY"
      },
      "source": [
        "# Save TensorFlow Model (H5)\n",
        "The Best Model With The Best Images After it has been trained"
      ]
    },
    {
      "cell_type": "code",
      "metadata": {
        "id": "CYjEnhDv0QLa"
      },
      "source": [
        "monet_generator.save('/content/monet_generator.h5')\n",
        "photo_generator.save('/content/photo_generator.h5')\n",
        "monet_discriminator.save('/content/monet_discriminator.h5')\n",
        "photo_discriminator.save('/content/photo_discriminator.h5')"
      ],
      "execution_count": null,
      "outputs": []
    }
  ]
}