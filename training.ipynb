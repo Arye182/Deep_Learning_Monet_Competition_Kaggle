{
  "nbformat": 4,
  "nbformat_minor": 0,
  "metadata": {
    "kernelspec": {
      "display_name": "Python 3",
      "language": "python",
      "name": "python3"
    },
    "language_info": {
      "codemirror_mode": {
        "name": "ipython",
        "version": 2
      },
      "file_extension": ".py",
      "mimetype": "text/x-python",
      "name": "python",
      "nbconvert_exporter": "python",
      "pygments_lexer": "ipython2",
      "version": "2.7.6"
    },
    "colab": {
      "name": "training.ipynb",
      "provenance": [],
      "machine_shape": "hm",
      "include_colab_link": true
    },
    "accelerator": "GPU"
  },
  "cells": [
    {
      "cell_type": "markdown",
      "metadata": {
        "id": "view-in-github",
        "colab_type": "text"
      },
      "source": [
        "<a href=\"https://colab.research.google.com/github/Arye182/Deep_Learning_Monet_Competition_Kaggle/blob/master/training.ipynb\" target=\"_parent\"><img src=\"https://colab.research.google.com/assets/colab-badge.svg\" alt=\"Open In Colab\"/></a>"
      ]
    },
    {
      "cell_type": "markdown",
      "metadata": {
        "collapsed": false,
        "id": "VzqfjYMkJIOS"
      },
      "source": [
        "<a href=\"https://colab.research.google.com/github/Arye182/Deep_Learning_Monet_Competition_Kaggle/blob/master/training.ipynb\" target=\"_parent\"><img src=\"https://colab.research.google.com/assets/colab-badge.svg\" alt=\"Open In Colab\"/></a>"
      ]
    },
    {
      "cell_type": "markdown",
      "metadata": {
        "collapsed": false,
        "id": "AFaVyaqZJIOU"
      },
      "source": [
        "# Introduction\n",
        "The project is a part of a final assignment in course deep learning, as part of kaggle competition im I’m Something of a Painter Myself in which we can actually take photos from life and translate them into monet styled photos. Adding style to photos is a very popular issue in programming nowadays, we see a lot of filters and image processing applications on a daily basis. The ability to take photos and mimic the style of an artist is a quite impressive challenge.     \n",
        "\n",
        "  \n",
        "**References & Acknowledgments**  \n",
        "  \n",
        "    \n",
        "      \n",
        "\n",
        "https://www.kaggle.com/amyjang/monet-cyclegan-tutorial - tuturial notebook  \n",
        "https://www.kaggle.com/unfriendlyai/cyclegan-with-dg-pretraining - used the help to create fid\n",
        "https://www.tensorflow.org/tutorials/images/data_augmentation - augmentation  \n",
        "https://www.kaggle.com/matkneky/monet-cyclegan-trials - used fo helping in loss graph\n",
        "\n"
      ]
    },
    {
      "cell_type": "markdown",
      "metadata": {
        "collapsed": false,
        "id": "d3SwPdhLJIOV"
      },
      "source": [
        "# Installations & Imports & Functions & Parameters\n",
        "here we will prepare everything"
      ]
    },
    {
      "cell_type": "markdown",
      "metadata": {
        "collapsed": false,
        "id": "dr7sDsUuJIOW"
      },
      "source": [
        "#### Installations"
      ]
    },
    {
      "cell_type": "code",
      "metadata": {
        "pycharm": {
          "name": "#%%\n"
        },
        "id": "YDlIwS72JIOW"
      },
      "source": [
        "!pip install -q kaggle\n",
        "!pip install --upgrade --force-reinstall --no-deps kaggle\n",
        "!pip install tensorflow_addons\n",
        "!pip install image-quality"
      ],
      "execution_count": null,
      "outputs": []
    },
    {
      "cell_type": "markdown",
      "metadata": {
        "collapsed": false,
        "id": "FU2OiID4JIOX"
      },
      "source": [
        "#### Imports"
      ]
    },
    {
      "cell_type": "code",
      "metadata": {
        "pycharm": {
          "name": "#%%\n"
        },
        "id": "M3RT_-DOJIOY"
      },
      "source": [
        "import tensorflow as tf\n",
        "from tensorflow import keras\n",
        "from tensorflow.keras import layers\n",
        "import tensorflow_addons as tfa\n",
        "from google.colab import files\n",
        "import PIL\n",
        "import shutil\n",
        "from tensorflow.keras.callbacks import History\n",
        "import imquality.brisque as brisque\n",
        "import PIL.Image\n",
        "\n",
        "import os, random, json, PIL, shutil, re\n",
        "import numpy as np\n",
        "import pandas as pd\n",
        "import seaborn as sns\n",
        "from tensorflow.keras import Model, losses, optimizers\n",
        "import time\n",
        "import zipfile\n",
        "import tensorflow_datasets as tfds\n",
        "\n",
        "import matplotlib.pyplot as plt\n",
        "import numpy as np"
      ],
      "execution_count": null,
      "outputs": []
    },
    {
      "cell_type": "markdown",
      "metadata": {
        "collapsed": false,
        "id": "3Yn0Ci6XJIOZ"
      },
      "source": [
        "#### Parameters"
      ]
    },
    {
      "cell_type": "code",
      "metadata": {
        "pycharm": {
          "name": "#%%\n"
        },
        "id": "GCilqvD-JIOa"
      },
      "source": [
        "IMAGE_SIZE = [256, 256]\n",
        "CHANNELS = 3\n",
        "WIDTH = 256\n",
        "HEIGHT = 256\n",
        "EPOCHS = 47\n",
        "HEIGHT_RESIZE = 128\n",
        "WIDTH_RESIZE = 128"
      ],
      "execution_count": null,
      "outputs": []
    },
    {
      "cell_type": "markdown",
      "metadata": {
        "collapsed": false,
        "id": "mxJkl8gpJIOb"
      },
      "source": [
        "#### Define Auxiliry Functions"
      ]
    },
    {
      "cell_type": "code",
      "metadata": {
        "pycharm": {
          "name": "#%%\n"
        },
        "id": "K_7cLnZXJIOb"
      },
      "source": [
        "# Decoding an Image\n",
        "def decode_image(image):\n",
        "    image = tf.image.decode_jpeg(image, channels=3)\n",
        "    image = (tf.cast(image, tf.float32) / 127.5) - 1\n",
        "    image = tf.reshape(image, [*IMAGE_SIZE, 3])\n",
        "    return image\n",
        "\n",
        "# Readin Tfrec file\n",
        "def read_tfrecord(example):\n",
        "    tfrecord_format = {\n",
        "        \"image_name\": tf.io.FixedLenFeature([], tf.string),\n",
        "        \"image\": tf.io.FixedLenFeature([], tf.string),\n",
        "        \"target\": tf.io.FixedLenFeature([], tf.string)\n",
        "    }\n",
        "    example = tf.io.parse_single_example(example, tfrecord_format)\n",
        "    image = decode_image(example['image'])\n",
        "    return image\n",
        "\n",
        "# Load A DataSet\n",
        "def load_dataset(filenames, labeled=True, ordered=False):\n",
        "  dataset = tf.data.TFRecordDataset(filenames)\n",
        "  dataset = dataset.map(read_tfrecord, num_parallel_calls=AUTOTUNE)\n",
        "  return dataset\n",
        "\n",
        "\n",
        "# Loss Graph UtilityFunctions\n",
        "def smooth_curve(points, factor=0.8):\n",
        "    smoothed_points = []\n",
        "    for point in points:\n",
        "        if smoothed_points:\n",
        "            previous = smoothed_points[-1]\n",
        "            smoothed_points.append(previous * factor + point * (1 - factor))\n",
        "        else:\n",
        "            smoothed_points.append(point)\n",
        "    return smoothed_points\n",
        "\n",
        "def plot_smoothed_acc_and_loss(epochs, history, factor=0.8):\n",
        "    monet_g = []\n",
        "    photo_g = []\n",
        "    monet_d = []\n",
        "    photo_d = []\n",
        "    for i in range(np.array(history.history[\"monet_gen_loss\"]).shape[0]):\n",
        "        monet_g.append(history.history[\"monet_gen_loss\"][i].squeeze().mean())\n",
        "        photo_g.append(history.history[\"photo_gen_loss\"][i].squeeze().mean())\n",
        "        monet_d.append(history.history[\"monet_disc_loss\"][i].squeeze().mean())\n",
        "        photo_d.append(history.history[\"photo_disc_loss\"][i].squeeze().mean())\n",
        "    fig, axs = plt.subplots(1, 2, figsize=(15, 5))\n",
        "    axs[0].plot(smooth_curve(monet_g, factor=factor),label=\"Monet\")\n",
        "    axs[0].plot(smooth_curve(photo_g, factor=factor),label=\"Photo\")\n",
        "    axs[0].set_title(\"Smoothed generator loss\")\n",
        "    axs[0].legend()\n",
        "    axs[1].plot(smooth_curve(monet_d, factor=factor),label=\"Monet\")\n",
        "    axs[1].plot(smooth_curve(photo_d, factor=factor),label=\"Photo\")\n",
        "    axs[1].set_title(\"Smoothed discriminator loss\")\n",
        "    axs[1].legend()\n",
        "    plt.show()\n",
        "\n",
        "\n",
        "# Converting Images Dir To TFREC Functions\n",
        "def _int64_feature(value):\n",
        "  return tf.train.Feature(int64_list=tf.train.Int64List(value=[value]))\n",
        "\n",
        "def _bytes_feature(value):\n",
        "  return tf.train.Feature(bytes_list=tf.train.BytesList(value=[value]))\n",
        "\n",
        "def get_zip_filenames(filename):\n",
        "    dirname = os.path.splitext(filename)[0]\n",
        "    try:\n",
        "      !rm -r dirname\n",
        "    except:\n",
        "      print(f'can\\'t delete {dirname}')\n",
        "    !unzip {filename} -d {dirname}\n",
        "\n",
        "    monet_images_filenames = []\n",
        "    for file in os.scandir(dirname):\n",
        "      if file.name.endswith('.jpg'):\n",
        "        monet_images_filenames.append(f'{dirname}/{file.name}')\n",
        "    return monet_images_filenames\n",
        "\n",
        "# Create a dictionary with features that may be relevant.\n",
        "def image_encode(image, image_name):\n",
        "  tfrecord_format = {\n",
        "        'image_name': _bytes_feature(image),\n",
        "        'image': _bytes_feature(image),\n",
        "        'target':     _bytes_feature(image)\n",
        "  }\n",
        "  return tf.train.Example(features=tf.train.Features(feature=tfrecord_format))\n",
        "\n",
        "def convert_to_tfrec(images, record_file):\n",
        "    with tf.io.TFRecordWriter(record_file) as writer:\n",
        "      for image_path in images:\n",
        "        image = open(image_path, 'rb').read()\n",
        "        tf_example = image_encode(image, image_path)\n",
        "        writer.write(tf_example.SerializeToString())\n",
        "\n",
        "\n",
        "def display_samples(ds, row, col):\n",
        "    ds_iter = iter(ds)\n",
        "    plt.figure(figsize=(15, int(15*row/col)))\n",
        "    for j in range(row*col):\n",
        "        example_sample = next(ds_iter)\n",
        "        plt.subplot(row,col,j+1)\n",
        "        plt.axis('off')\n",
        "        plt.imshow(example_sample[0] * 0.5 + 0.5)\n",
        "    plt.show()\n"
      ],
      "execution_count": null,
      "outputs": []
    },
    {
      "cell_type": "markdown",
      "metadata": {
        "collapsed": false,
        "id": "OM5xj8FFJIOc"
      },
      "source": [
        "#### TPU Initialization"
      ]
    },
    {
      "cell_type": "code",
      "metadata": {
        "pycharm": {
          "name": "#%%\n"
        },
        "id": "92vxwG0jJIOc"
      },
      "source": [
        "try:\n",
        "    tpu = tf.distribute.cluster_resolver.TPUClusterResolver()\n",
        "    print('Device:', tpu.master())\n",
        "    tf.config.experimental_connect_to_cluster(tpu)\n",
        "    tf.tpu.experimental.initialize_tpu_system(tpu)\n",
        "    strategy = tf.distribute.experimental.TPUStrategy(tpu)\n",
        "except:\n",
        "    strategy = tf.distribute.get_strategy()\n",
        "print('Number of replicas:', strategy.num_replicas_in_sync)\n",
        "\n",
        "AUTOTUNE = tf.data.experimental.AUTOTUNE\n",
        "    \n",
        "print(tf.__version__)"
      ],
      "execution_count": null,
      "outputs": []
    },
    {
      "cell_type": "code",
      "metadata": {
        "pycharm": {
          "name": "#%%\n"
        },
        "id": "4WuUYa4wJIOd"
      },
      "source": [
        ""
      ],
      "execution_count": null,
      "outputs": []
    },
    {
      "cell_type": "markdown",
      "metadata": {
        "collapsed": false,
        "id": "05QaQqDeJIOd"
      },
      "source": [
        "# Data Base"
      ]
    },
    {
      "cell_type": "markdown",
      "metadata": {
        "collapsed": false,
        "id": "6UZYtI_rJIOd"
      },
      "source": [
        "#### Data Path And Filenames Preperations"
      ]
    },
    {
      "cell_type": "code",
      "metadata": {
        "pycharm": {
          "name": "#%%\n"
        },
        "id": "96LamUEmJIOe"
      },
      "source": [
        "GCS_PATH = 'gs://kds-fe07dc19ed486a7fdc7d0a06e0362b4db01fa035a6c107442b99a8f2'"
      ],
      "execution_count": null,
      "outputs": []
    },
    {
      "cell_type": "code",
      "metadata": {
        "pycharm": {
          "name": "#%%\n"
        },
        "id": "j5sMEMeFJIOe"
      },
      "source": [
        "MONET_FILENAMES = tf.io.gfile.glob(str(GCS_PATH + '/monet_tfrec/*.tfrec'))\n",
        "print('Monet TFRecord Files:', len(MONET_FILENAMES))\n",
        "\n",
        "PHOTO_FILENAMES = tf.io.gfile.glob(str(GCS_PATH + '/photo_tfrec/*.tfrec'))\n",
        "print('Photo TFRecord Files:', len(PHOTO_FILENAMES))"
      ],
      "execution_count": null,
      "outputs": []
    },
    {
      "cell_type": "code",
      "metadata": {
        "pycharm": {
          "name": "#%%\n"
        },
        "id": "WPW1-Uv_JIOe"
      },
      "source": [
        "COSHEN_MONET_DS_FILENAMES = tf.io.gfile.glob(str('/content/monet.tfrec'))\n",
        "\n",
        "chosen_ds = load_dataset(COSHEN_MONET_DS_FILENAMES, labeled=True).batch(1)"
      ],
      "execution_count": null,
      "outputs": []
    },
    {
      "cell_type": "markdown",
      "metadata": {
        "collapsed": false,
        "id": "TxXn_xRqJIOe"
      },
      "source": [
        "#### Load Data Sets For Model CycleGan\n"
      ]
    },
    {
      "cell_type": "code",
      "metadata": {
        "pycharm": {
          "name": "#%%\n"
        },
        "id": "mEjYnSYQJIOe"
      },
      "source": [
        "monet_ds = load_dataset(MONET_FILENAMES, labeled=True).batch(1)\n",
        "photo_ds = load_dataset(PHOTO_FILENAMES, labeled=True).batch(1)\n",
        "fid_photo_ds = load_dataset(PHOTO_FILENAMES).take(1024).batch(32*strategy.num_replicas_in_sync).prefetch(32)\n",
        "fid_monet_ds = load_dataset(MONET_FILENAMES).batch(32*strategy.num_replicas_in_sync).prefetch(32)"
      ],
      "execution_count": null,
      "outputs": []
    },
    {
      "cell_type": "markdown",
      "metadata": {
        "collapsed": false,
        "id": "PwW1R2AwJIOf"
      },
      "source": [
        "#### Showing A Taste Of The Data"
      ]
    },
    {
      "cell_type": "code",
      "metadata": {
        "pycharm": {
          "name": "#%%\n"
        },
        "id": "kra0_9LEJIOf"
      },
      "source": [
        "monet_ds_iter = iter(monet_ds)\n",
        "photo_ds_iter = iter(photo_ds)\n",
        "\n",
        "example_monet = next(iter(monet_ds))\n",
        "example_photo = next(iter(photo_ds))\n",
        "\n",
        "plt.subplot(121)\n",
        "plt.title('Photo')\n",
        "plt.imshow(example_photo[0] * 0.5 + 0.5)\n",
        "\n",
        "plt.subplot(122)\n",
        "plt.title('Monet')\n",
        "plt.imshow(example_monet[0] * 0.5 + 0.5)"
      ],
      "execution_count": null,
      "outputs": []
    },
    {
      "cell_type": "markdown",
      "metadata": {
        "collapsed": false,
        "id": "6HrOVrHpJIOf"
      },
      "source": [
        "# CycleGan Model"
      ]
    },
    {
      "cell_type": "markdown",
      "metadata": {
        "collapsed": false,
        "id": "Tds9bxRDJIOf"
      },
      "source": [
        "#### Generator"
      ]
    },
    {
      "cell_type": "code",
      "metadata": {
        "pycharm": {
          "name": "#%%\n"
        },
        "id": "0eDraoUaJIOf"
      },
      "source": [
        "OUTPUT_CHANNELS = 3\n",
        "\n",
        "def downsample(filters, size, apply_instancenorm=True):\n",
        "    initializer = tf.random_normal_initializer(0., 0.02)\n",
        "    gamma_init = keras.initializers.RandomNormal(mean=0.0, stddev=0.02)\n",
        "\n",
        "    result = keras.Sequential()\n",
        "    result.add(layers.Conv2D(filters, size, strides=2, padding='same',\n",
        "                             kernel_initializer=initializer, use_bias=False))\n",
        "\n",
        "    if apply_instancenorm:\n",
        "        result.add(tfa.layers.InstanceNormalization(gamma_initializer=gamma_init))\n",
        "\n",
        "    result.add(layers.LeakyReLU())\n",
        "\n",
        "    return result"
      ],
      "execution_count": null,
      "outputs": []
    },
    {
      "cell_type": "code",
      "metadata": {
        "pycharm": {
          "name": "#%%\n"
        },
        "id": "hZL3s093JIOf"
      },
      "source": [
        "def upsample(filters, size, apply_dropout=False):\n",
        "    initializer = tf.random_normal_initializer(0., 0.02)\n",
        "    gamma_init = keras.initializers.RandomNormal(mean=0.0, stddev=0.02)\n",
        "\n",
        "    result = keras.Sequential()\n",
        "    result.add(layers.Conv2DTranspose(filters, size, strides=2,\n",
        "                                      padding='same',\n",
        "                                      kernel_initializer=initializer,\n",
        "                                      use_bias=False))\n",
        "\n",
        "    result.add(tfa.layers.InstanceNormalization(gamma_initializer=gamma_init))\n",
        "\n",
        "    if apply_dropout:\n",
        "        result.add(layers.Dropout(0.5))\n",
        "\n",
        "    result.add(layers.ReLU())\n",
        "\n",
        "    return result"
      ],
      "execution_count": null,
      "outputs": []
    },
    {
      "cell_type": "code",
      "metadata": {
        "pycharm": {
          "name": "#%%\n"
        },
        "id": "4kEA5V_ZJIOg"
      },
      "source": [
        "def Generator():\n",
        "    inputs = layers.Input(shape=[256,256,3])\n",
        "\n",
        "    # bs = batch size\n",
        "    down_stack = [\n",
        "        downsample(64, 4, apply_instancenorm=False), # (bs, 128, 128, 64)\n",
        "        downsample(128, 4), # (bs, 64, 64, 128)\n",
        "        downsample(256, 4), # (bs, 32, 32, 256)\n",
        "        downsample(512, 4), # (bs, 16, 16, 512)\n",
        "        downsample(512, 4), # (bs, 8, 8, 512)\n",
        "        downsample(512, 4), # (bs, 4, 4, 512)\n",
        "        downsample(512, 4), # (bs, 2, 2, 512)\n",
        "        downsample(512, 4), # (bs, 1, 1, 512)\n",
        "    ]\n",
        "\n",
        "    up_stack = [\n",
        "        upsample(512, 4, apply_dropout=True), # (bs, 2, 2, 1024)\n",
        "        upsample(512, 4, apply_dropout=True), # (bs, 4, 4, 1024)\n",
        "        upsample(512, 4, apply_dropout=True), # (bs, 8, 8, 1024)\n",
        "        upsample(512, 4), # (bs, 16, 16, 1024)\n",
        "        upsample(256, 4), # (bs, 32, 32, 512)\n",
        "        upsample(128, 4), # (bs, 64, 64, 256)\n",
        "        upsample(64, 4), # (bs, 128, 128, 128)\n",
        "    ]\n",
        "\n",
        "    initializer = tf.random_normal_initializer(0., 0.02)\n",
        "    last = layers.Conv2DTranspose(OUTPUT_CHANNELS, 4,\n",
        "                                  strides=2,\n",
        "                                  padding='same',\n",
        "                                  kernel_initializer=initializer,\n",
        "                                  activation='tanh') # (bs, 256, 256, 3)\n",
        "\n",
        "    x = inputs\n",
        "\n",
        "    # Downsampling through the model\n",
        "    skips = []\n",
        "    for down in down_stack:\n",
        "        x = down(x)\n",
        "        skips.append(x)\n",
        "\n",
        "    skips = reversed(skips[:-1])\n",
        "\n",
        "    # Upsampling and establishing the skip connections\n",
        "    for up, skip in zip(up_stack, skips):\n",
        "        x = up(x)\n",
        "        x = layers.Concatenate()([x, skip])\n",
        "\n",
        "    x = last(x)\n",
        "\n",
        "    return keras.Model(inputs=inputs, outputs=x)"
      ],
      "execution_count": null,
      "outputs": []
    },
    {
      "cell_type": "markdown",
      "metadata": {
        "collapsed": false,
        "id": "anvga6Y6JIOg"
      },
      "source": [
        "#### Discriminator"
      ]
    },
    {
      "cell_type": "code",
      "metadata": {
        "pycharm": {
          "name": "#%%\n"
        },
        "id": "SNA-J_z_JIOg"
      },
      "source": [
        "def Discriminator():\n",
        "    initializer = tf.random_normal_initializer(0., 0.02)\n",
        "    gamma_init = keras.initializers.RandomNormal(mean=0.0, stddev=0.02)\n",
        "\n",
        "    inp = layers.Input(shape=[256, 256, 3], name='input_image')\n",
        "\n",
        "    x = inp\n",
        "\n",
        "    down1 = downsample(64, 4, False)(x) # (bs, 128, 128, 64)\n",
        "    down2 = downsample(128, 4)(down1) # (bs, 64, 64, 128)\n",
        "    down3 = downsample(256, 4)(down2) # (bs, 32, 32, 256)\n",
        "\n",
        "    zero_pad1 = layers.ZeroPadding2D()(down3) # (bs, 34, 34, 256)\n",
        "    conv = layers.Conv2D(512, 4, strides=1,\n",
        "                         kernel_initializer=initializer,\n",
        "                         use_bias=False)(zero_pad1) # (bs, 31, 31, 512)\n",
        "\n",
        "    norm1 = tfa.layers.InstanceNormalization(gamma_initializer=gamma_init)(conv)\n",
        "\n",
        "    leaky_relu = layers.LeakyReLU()(norm1)\n",
        "\n",
        "    zero_pad2 = layers.ZeroPadding2D()(leaky_relu) # (bs, 33, 33, 512)\n",
        "\n",
        "    last = layers.Conv2D(1, 4, strides=1,\n",
        "                         kernel_initializer=initializer)(zero_pad2) # (bs, 30, 30, 1)\n",
        "\n",
        "    return tf.keras.Model(inputs=inp, outputs=last)"
      ],
      "execution_count": null,
      "outputs": []
    },
    {
      "cell_type": "markdown",
      "metadata": {
        "collapsed": false,
        "id": "KM9JjYTWJIOg"
      },
      "source": [
        "#### Initialize Generators And Discriminators"
      ]
    },
    {
      "cell_type": "code",
      "metadata": {
        "pycharm": {
          "name": "#%%\n"
        },
        "id": "zCzl7BjrJIOh"
      },
      "source": [
        "\n",
        "with strategy.scope():\n",
        "    monet_generator = Generator() # transforms photos to Monet-esque paintings\n",
        "    photo_generator = Generator() # transforms Monet paintings to be more like photos\n",
        "\n",
        "    monet_discriminator = Discriminator() # differentiates real Monet paintings and generated Monet paintings\n",
        "    photo_discriminator = Discriminator() # differentiates real photos and generated photos"
      ],
      "execution_count": null,
      "outputs": []
    },
    {
      "cell_type": "code",
      "metadata": {
        "pycharm": {
          "name": "#%%\n"
        },
        "id": "hOP8ZHAEJIOh"
      },
      "source": [
        "to_monet = monet_generator(example_photo)\n",
        "\n",
        "plt.subplot(1, 2, 1)\n",
        "plt.title(\"Original Photo\")\n",
        "plt.imshow(example_photo[0] * 0.5 + 0.5)\n",
        "\n",
        "plt.subplot(1, 2, 2)\n",
        "plt.title(\"Monet-esque Photo\")\n",
        "plt.imshow(to_monet[0] * 0.5 + 0.5)\n",
        "plt.show()"
      ],
      "execution_count": null,
      "outputs": []
    },
    {
      "cell_type": "markdown",
      "metadata": {
        "collapsed": false,
        "id": "mccneU7AJIOh"
      },
      "source": [
        "#### Define CycleGan Model"
      ]
    },
    {
      "cell_type": "code",
      "metadata": {
        "pycharm": {
          "name": "#%%\n"
        },
        "id": "HfxYdB22JIOh"
      },
      "source": [
        "# Generate a CallBack function to save\n",
        "# the prediction, for each epoch, of the Photo above \n",
        "class GANMonitor(keras.callbacks.Callback):\n",
        "   \"\"\"A callback to generate and save images after each epoch\"\"\"\n",
        "\n",
        "   def on_epoch_end(self, epoch, logs=None):\n",
        "       prediction = gen_monet(photo, training=False)[num_photo].numpy()\n",
        "       prediction = (prediction * 127.5 + 127.5).astype(np.uint8)\n",
        "       im_to_gif[epoch] = prediction "
      ],
      "execution_count": null,
      "outputs": []
    },
    {
      "cell_type": "code",
      "metadata": {
        "pycharm": {
          "name": "#%%\n"
        },
        "id": "_2SKy-t9JIOh"
      },
      "source": [
        "class CycleGan(keras.Model):\n",
        "    def __init__(\n",
        "        self,\n",
        "        monet_generator,\n",
        "        photo_generator,\n",
        "        monet_discriminator,\n",
        "        photo_discriminator,\n",
        "        lambda_cycle=10,\n",
        "    ):\n",
        "        super(CycleGan, self).__init__()\n",
        "        self.m_gen = monet_generator\n",
        "        self.p_gen = photo_generator\n",
        "        self.m_disc = monet_discriminator\n",
        "        self.p_disc = photo_discriminator\n",
        "        self.lambda_cycle = lambda_cycle\n",
        "        \n",
        "    def compile(\n",
        "        self,\n",
        "        m_gen_optimizer,\n",
        "        p_gen_optimizer,\n",
        "        m_disc_optimizer,\n",
        "        p_disc_optimizer,\n",
        "        gen_loss_fn,\n",
        "        disc_loss_fn,\n",
        "        cycle_loss_fn,\n",
        "        identity_loss_fn\n",
        "    ):\n",
        "        super(CycleGan, self).compile()\n",
        "        self.m_gen_optimizer = m_gen_optimizer\n",
        "        self.p_gen_optimizer = p_gen_optimizer\n",
        "        self.m_disc_optimizer = m_disc_optimizer\n",
        "        self.p_disc_optimizer = p_disc_optimizer\n",
        "        self.gen_loss_fn = gen_loss_fn\n",
        "        self.disc_loss_fn = disc_loss_fn\n",
        "        self.cycle_loss_fn = cycle_loss_fn\n",
        "        self.identity_loss_fn = identity_loss_fn\n",
        "        \n",
        "    def train_step(self, batch_data):\n",
        "        real_monet, real_photo = batch_data\n",
        "        \n",
        "        with tf.GradientTape(persistent=True) as tape:\n",
        "            # photo to monet back to photo\n",
        "            fake_monet = self.m_gen(real_photo, training=True)\n",
        "            cycled_photo = self.p_gen(fake_monet, training=True)\n",
        "\n",
        "            # monet to photo back to monet\n",
        "            fake_photo = self.p_gen(real_monet, training=True)\n",
        "            cycled_monet = self.m_gen(fake_photo, training=True)\n",
        "\n",
        "            # generating itself\n",
        "            same_monet = self.m_gen(real_monet, training=True)\n",
        "            same_photo = self.p_gen(real_photo, training=True)\n",
        "\n",
        "            # discriminator used to check, inputing real images\n",
        "            disc_real_monet = self.m_disc(real_monet, training=True)\n",
        "            disc_real_photo = self.p_disc(real_photo, training=True)\n",
        "\n",
        "            # discriminator used to check, inputing fake images\n",
        "            disc_fake_monet = self.m_disc(fake_monet, training=True)\n",
        "            disc_fake_photo = self.p_disc(fake_photo, training=True)\n",
        "\n",
        "            # evaluates generator loss\n",
        "            monet_gen_loss = self.gen_loss_fn(disc_fake_monet)\n",
        "            photo_gen_loss = self.gen_loss_fn(disc_fake_photo)\n",
        "\n",
        "            # evaluates total cycle consistency loss\n",
        "            total_cycle_loss = self.cycle_loss_fn(real_monet, cycled_monet, self.lambda_cycle) + self.cycle_loss_fn(real_photo, cycled_photo, self.lambda_cycle)\n",
        "\n",
        "            # evaluates total generator loss\n",
        "            total_monet_gen_loss = monet_gen_loss + total_cycle_loss + self.identity_loss_fn(real_monet, same_monet, self.lambda_cycle)\n",
        "            total_photo_gen_loss = photo_gen_loss + total_cycle_loss + self.identity_loss_fn(real_photo, same_photo, self.lambda_cycle)\n",
        "\n",
        "            # evaluates discriminator loss\n",
        "            monet_disc_loss = self.disc_loss_fn(disc_real_monet, disc_fake_monet)\n",
        "            photo_disc_loss = self.disc_loss_fn(disc_real_photo, disc_fake_photo)\n",
        "\n",
        "        # Calculate the gradients for generator and discriminator\n",
        "        monet_generator_gradients = tape.gradient(total_monet_gen_loss,\n",
        "                                                  self.m_gen.trainable_variables)\n",
        "        photo_generator_gradients = tape.gradient(total_photo_gen_loss,\n",
        "                                                  self.p_gen.trainable_variables)\n",
        "\n",
        "        monet_discriminator_gradients = tape.gradient(monet_disc_loss,\n",
        "                                                      self.m_disc.trainable_variables)\n",
        "        photo_discriminator_gradients = tape.gradient(photo_disc_loss,\n",
        "                                                      self.p_disc.trainable_variables)\n",
        "\n",
        "        # Apply the gradients to the optimizer\n",
        "        self.m_gen_optimizer.apply_gradients(zip(monet_generator_gradients,\n",
        "                                                 self.m_gen.trainable_variables))\n",
        "\n",
        "        self.p_gen_optimizer.apply_gradients(zip(photo_generator_gradients,\n",
        "                                                 self.p_gen.trainable_variables))\n",
        "\n",
        "        self.m_disc_optimizer.apply_gradients(zip(monet_discriminator_gradients,\n",
        "                                                  self.m_disc.trainable_variables))\n",
        "\n",
        "        self.p_disc_optimizer.apply_gradients(zip(photo_discriminator_gradients,\n",
        "                                                  self.p_disc.trainable_variables))\n",
        "        \n",
        "        return {\n",
        "            \"monet_gen_loss\": total_monet_gen_loss,\n",
        "            \"photo_gen_loss\": total_photo_gen_loss,\n",
        "            \"monet_disc_loss\": monet_disc_loss,\n",
        "            \"photo_disc_loss\": photo_disc_loss\n",
        "        }"
      ],
      "execution_count": null,
      "outputs": []
    },
    {
      "cell_type": "markdown",
      "metadata": {
        "collapsed": false,
        "id": "wmGiTkiuJIOh"
      },
      "source": [
        "#### Loss"
      ]
    },
    {
      "cell_type": "code",
      "metadata": {
        "pycharm": {
          "name": "#%%\n"
        },
        "id": "flqOMXm3JIOi"
      },
      "source": [
        "with strategy.scope():\n",
        "    def discriminator_loss(real, generated):\n",
        "        real_loss = tf.keras.losses.BinaryCrossentropy(from_logits=True, reduction=tf.keras.losses.Reduction.NONE)(tf.ones_like(real), real)\n",
        "\n",
        "        generated_loss = tf.keras.losses.BinaryCrossentropy(from_logits=True, reduction=tf.keras.losses.Reduction.NONE)(tf.zeros_like(generated), generated)\n",
        "\n",
        "        total_disc_loss = real_loss + generated_loss\n",
        "\n",
        "        return total_disc_loss * 0.5"
      ],
      "execution_count": null,
      "outputs": []
    },
    {
      "cell_type": "code",
      "metadata": {
        "pycharm": {
          "name": "#%%\n"
        },
        "id": "4C9xrrsBJIOi"
      },
      "source": [
        "with strategy.scope():\n",
        "    def generator_loss(generated):\n",
        "        return tf.keras.losses.BinaryCrossentropy(from_logits=True, reduction=tf.keras.losses.Reduction.NONE)(tf.ones_like(generated), generated)"
      ],
      "execution_count": null,
      "outputs": []
    },
    {
      "cell_type": "code",
      "metadata": {
        "pycharm": {
          "name": "#%%\n"
        },
        "id": "r-RUjxynJIOi"
      },
      "source": [
        "with strategy.scope():\n",
        "    def calc_cycle_loss(real_image, cycled_image, LAMBDA):\n",
        "        loss1 = tf.reduce_mean(tf.abs(real_image - cycled_image))\n",
        "\n",
        "        return LAMBDA * loss1"
      ],
      "execution_count": null,
      "outputs": []
    },
    {
      "cell_type": "code",
      "metadata": {
        "pycharm": {
          "name": "#%%\n"
        },
        "id": "DySycx5cJIOi"
      },
      "source": [
        "with strategy.scope():\n",
        "    def identity_loss(real_image, same_image, LAMBDA):\n",
        "        loss = tf.reduce_mean(tf.abs(real_image - same_image))\n",
        "        return LAMBDA * 0.5 * loss"
      ],
      "execution_count": null,
      "outputs": []
    },
    {
      "cell_type": "markdown",
      "metadata": {
        "collapsed": false,
        "id": "sNsREOaIJIOi"
      },
      "source": [
        "#### FID - Frechet Distance"
      ]
    },
    {
      "cell_type": "code",
      "metadata": {
        "pycharm": {
          "name": "#%%\n"
        },
        "id": "-mt0fhmdJIOi"
      },
      "source": [
        "with strategy.scope():\n",
        "\n",
        "    inception_model = tf.keras.applications.InceptionV3(input_shape=(256,256,3),pooling=\"avg\",include_top=False)\n",
        "\n",
        "    mix3  = inception_model.get_layer(\"mixed9\").output\n",
        "    f0 = tf.keras.layers.GlobalAveragePooling2D()(mix3)\n",
        "\n",
        "    inception_model = tf.keras.Model(inputs=inception_model.input, outputs=f0)\n",
        "    inception_model.trainable = False\n",
        "\n",
        "    def calculate_activation_statistics_mod(images,fid_model):\n",
        "\n",
        "            act=tf.cast(fid_model.predict(images), tf.float32)\n",
        "\n",
        "            mu = tf.reduce_mean(act, axis=0)\n",
        "            mean_x = tf.reduce_mean(act, axis=0, keepdims=True)\n",
        "            mx = tf.matmul(tf.transpose(mean_x), mean_x)\n",
        "            vx = tf.matmul(tf.transpose(act), act)/tf.cast(tf.shape(act)[0], tf.float32)\n",
        "            sigma = vx - mx\n",
        "            return mu, sigma\n",
        "    myFID_mu2, myFID_sigma2 = calculate_activation_statistics_mod(fid_monet_ds,inception_model)        \n",
        "    fids=[]"
      ],
      "execution_count": null,
      "outputs": []
    },
    {
      "cell_type": "code",
      "metadata": {
        "pycharm": {
          "name": "#%%\n"
        },
        "id": "_IZZzALtJIOi"
      },
      "source": [
        "with strategy.scope():\n",
        "    def calculate_frechet_distance(mu1,sigma1,mu2,sigma2):\n",
        "        fid_epsilon = 1e-14\n",
        "       \n",
        "        covmean = tf.linalg.sqrtm(tf.cast(tf.matmul(sigma1,sigma2),tf.complex64))\n",
        "#         isgood=tf.cast(tf.math.is_finite(covmean), tf.int32)\n",
        "#         if tf.size(isgood)!=tf.math.reduce_sum(isgood):\n",
        "#             return 0\n",
        "\n",
        "        covmean = tf.cast(tf.math.real(covmean),tf.float32)\n",
        "        tr_covmean = tf.linalg.trace(covmean)\n",
        "\n",
        "        return tf.matmul(tf.expand_dims(mu1 - mu2, axis=0),tf.expand_dims(mu1 - mu2, axis=1)) + tf.linalg.trace(sigma1) + tf.linalg.trace(sigma2) - 2 * tr_covmean\n",
        "\n",
        "    def FID(images,gen_model,inception_model=inception_model,myFID_mu2=myFID_mu2, myFID_sigma2=myFID_sigma2):\n",
        "                inp = layers.Input(shape=[256, 256, 3], name='input_image')\n",
        "                x  = gen_model(inp)\n",
        "                x=inception_model(x)\n",
        "                fid_model = tf.keras.Model(inputs=inp, outputs=x)\n",
        "                mu1, sigma1= calculate_activation_statistics_mod(images,fid_model)\n",
        "                fid_value = calculate_frechet_distance(mu1, sigma1,myFID_mu2, myFID_sigma2)\n",
        "                return fid_value"
      ],
      "execution_count": null,
      "outputs": []
    },
    {
      "cell_type": "markdown",
      "metadata": {
        "collapsed": false,
        "id": "RvZY2oIGJIOj"
      },
      "source": [
        "#### Optimizerrs"
      ]
    },
    {
      "cell_type": "code",
      "metadata": {
        "pycharm": {
          "name": "#%%\n"
        },
        "id": "SzBE5mFZJIOj"
      },
      "source": [
        "with strategy.scope():\n",
        "    monet_generator_optimizer = tf.keras.optimizers.Adam(2e-4, beta_1=0.5)\n",
        "    photo_generator_optimizer = tf.keras.optimizers.Adam(2e-4, beta_1=0.5)\n",
        "\n",
        "    monet_discriminator_optimizer = tf.keras.optimizers.Adam(2e-4, beta_1=0.5)\n",
        "    photo_discriminator_optimizer = tf.keras.optimizers.Adam(2e-4, beta_1=0.5)"
      ],
      "execution_count": null,
      "outputs": []
    },
    {
      "cell_type": "markdown",
      "metadata": {
        "collapsed": false,
        "id": "sx8vynroJIOj"
      },
      "source": [
        "# Steps 1,2 - Base Line Model Evaluation\n",
        "\n"
      ]
    },
    {
      "cell_type": "code",
      "metadata": {
        "pycharm": {
          "name": "#%%\n"
        },
        "id": "kConOmsPJIOj"
      },
      "source": [
        "def create_model(epochs, data):\n",
        "    monet_generator = Generator() # transforms photos to Monet-esque paintings\n",
        "    photo_generator = Generator() # transforms Monet paintings to be more like photos\n",
        "    monet_discriminator = Discriminator() # differentiates real Monet paintings and generated Monet paintings\n",
        "    photo_discriminator = Discriminator() # differentiates real photos and generated photos\n",
        "\n",
        "\n",
        "    monet_generator_fid = Generator() # transforms photos to Monet-esque paintings\n",
        "    photo_generator_fid = Generator() # transforms Monet paintings to be more like photos\n",
        "    monet_discriminator_fid = Discriminator() # differentiates real Monet paintings and generated Monet paintings\n",
        "    photo_discriminator_fid = Discriminator() # differentiates real photos and generated photos\n",
        "\n",
        "    # define model\n",
        "    cycle_gan_model = CycleGan(\n",
        "        monet_generator, photo_generator, monet_discriminator, photo_discriminator\n",
        "    )\n",
        "\n",
        "    return cycle_gan_model\n",
        "\n",
        "\n",
        "def compile(model):\n",
        "    # compile model\n",
        "    model.compile(\n",
        "    m_gen_optimizer = monet_generator_optimizer,\n",
        "    p_gen_optimizer = photo_generator_optimizer,\n",
        "    m_disc_optimizer = monet_discriminator_optimizer,\n",
        "    p_disc_optimizer = photo_discriminator_optimizer,\n",
        "    gen_loss_fn = generator_loss,\n",
        "    disc_loss_fn = discriminator_loss,\n",
        "    cycle_loss_fn = calc_cycle_loss,\n",
        "    identity_loss_fn = identity_loss)\n",
        "\n",
        "\n",
        "def train(model, epochs, data):\n",
        "    plotter = GANMonitor()\n",
        "    hist = model.fit(data, epochs=epochs, callbacks=[History()])\n",
        "    return hist\n",
        "\n",
        "\n",
        "def train_fid(epochs, data):\n",
        "\n",
        "      monet_generator = Generator() # transforms photos to Monet-esque paintings\n",
        "      photo_generator = Generator() # transforms Monet paintings to be more like photos\n",
        "      monet_discriminator = Discriminator() # differentiates real Monet paintings and generated Monet paintings\n",
        "      photo_discriminator = Discriminator() # differentiates real photos and generated photos\n",
        "\n",
        "      # define model\n",
        "      cycle_gan_model = CycleGan(\n",
        "          monet_generator, photo_generator, monet_discriminator, photo_discriminator\n",
        "      )\n",
        "\n",
        "      compile(cycle_gan_model)\n",
        "\n",
        "      fids=[]\n",
        "      best_fid=999999999\n",
        "      best_epoch = 0\n",
        "      for epoch in range(1,epochs):\n",
        "          print(\"Epoch = \",epoch)\n",
        "          cycle_gan_model.fit(data, epochs=1, callbacks=[History()])\n",
        "          if epoch>35:\n",
        "            cur_fid=FID(fid_photo_ds,monet_generator)\n",
        "            fids.append(cur_fid)\n",
        "            print(\"After epoch #{} FID = {}\\n\".format(epoch,cur_fid))\n",
        "            if(cur_fid < best_fid):\n",
        "                best_fid=cur_fid\n",
        "                best_epoch = epoch\n",
        "                monet_generator.save('/content/monet_generator.h5')\n",
        "      print(best_fid)\n",
        "      print(best_epoch)\n",
        "      plt.plot(np.array(fids).reshape(-1,), label='FID')\n",
        "      plt.legend()\n",
        "      plt.show()\n"
      ],
      "execution_count": null,
      "outputs": []
    },
    {
      "cell_type": "markdown",
      "metadata": {
        "collapsed": false,
        "id": "Nn9CZJyYJIOj"
      },
      "source": [
        "#### BaseLineModel - 300 Monets"
      ]
    },
    {
      "cell_type": "code",
      "metadata": {
        "pycharm": {
          "name": "#%%\n"
        },
        "id": "0SxQ28GjJIOj"
      },
      "source": [
        "%%script false \n",
        "\n",
        "%%time\n",
        "with strategy.scope():\n",
        "    data_set = tf.data.Dataset.zip((monet_ds, photo_ds))\n",
        "    history = evaluate_model(EPOCHS, data_set, False)"
      ],
      "execution_count": null,
      "outputs": []
    },
    {
      "cell_type": "code",
      "metadata": {
        "pycharm": {
          "name": "#%%\n"
        },
        "id": "XmtEfY8ZJIOj"
      },
      "source": [
        "%%script false \n",
        "\n",
        "plot_smoothed_acc_and_loss(EPOCHS, history, 0.8 )"
      ],
      "execution_count": null,
      "outputs": []
    },
    {
      "cell_type": "markdown",
      "metadata": {
        "collapsed": false,
        "id": "CC5P37TMJIOj"
      },
      "source": [
        "#### BaseLineModel - 30 Monets"
      ]
    },
    {
      "cell_type": "code",
      "metadata": {
        "pycharm": {
          "name": "#%%\n"
        },
        "id": "u30r5CEPJIOj"
      },
      "source": [
        "%%script false \n",
        "\n",
        "%%time\n",
        "\n",
        "with strategy.scope():\n",
        "    data_set = tf.data.Dataset.zip((monet_ds.take(30), photo_ds))\n",
        "    history = evaluate_model(EPOCHS, data_set, False)"
      ],
      "execution_count": null,
      "outputs": []
    },
    {
      "cell_type": "code",
      "metadata": {
        "pycharm": {
          "name": "#%%\n"
        },
        "id": "mmywHAvkJIOk"
      },
      "source": [
        "%%script false \n",
        "\n",
        "plot_smoothed_acc_and_loss(EPOCHS, history, 0.8 )"
      ],
      "execution_count": null,
      "outputs": []
    },
    {
      "cell_type": "markdown",
      "metadata": {
        "collapsed": false,
        "id": "CDkBCNcxJIOk"
      },
      "source": [
        "# Step 2.5 - Choosing The Right 30 Images"
      ]
    },
    {
      "cell_type": "markdown",
      "metadata": {
        "collapsed": false,
        "id": "nExrdLjMJIOk"
      },
      "source": [
        "#### Grading The Monet Photos With Library Image-Quality"
      ]
    },
    {
      "cell_type": "code",
      "metadata": {
        "pycharm": {
          "name": "#%%\n"
        },
        "id": "BJ_VBVKQJIOk"
      },
      "source": [
        "%%script false \n",
        "\n",
        "\n",
        "dict = {}\n",
        "for i, image in enumerate(monet_ds):\n",
        "    # image = decode_image(image)\n",
        "    score =  brisque.score(image[0])\n",
        "    print(i , \" scor : \" ,score)\n",
        "    dict[i] = score\n",
        "print(dict)\n",
        "sorted(dict.items(), key=lambda item: item[1])\n",
        "print(dict)\n",
        "dict_sorted = sorted((value,key) for (key,value) in dict.items())\n",
        "print()\n",
        "print(dict_sorted)\n",
        "print()\n",
        "#best 100 images:\n",
        "print()\n",
        "for i in range (1,100):\n",
        "    print(dict_sorted[i])"
      ],
      "execution_count": null,
      "outputs": []
    },
    {
      "cell_type": "markdown",
      "metadata": {
        "collapsed": false,
        "id": "6TMHFf_TJIOk"
      },
      "source": [
        "#### Taking The Most 1000 Best Photos"
      ]
    },
    {
      "cell_type": "code",
      "metadata": {
        "pycharm": {
          "name": "#%%\n"
        },
        "id": "g7eKOTfwJIOk"
      },
      "source": [
        "%%script false \n",
        "\n",
        "list = []\n",
        "for i in range(0,30):\n",
        "    list.append(dict_sorted[i][1])\n",
        "! mkdir /content/best30\n",
        "i = 0\n",
        "for  i, image in enumerate(monet_ds):\n",
        "    # print(dict_sorted[i][1], i)\n",
        "    if i in list:\n",
        "        print(\"mathc\")\n",
        "        img = image[0].numpy()\n",
        "        img = (img * 127.5 + 127.5).astype(np.uint8)\n",
        "        im = PIL.Image.fromarray(img)\n",
        "        im.save(\"/content/best30/\" + str(i) + \".jpg\")\n",
        "\n",
        "    i += 1\n",
        "shutil.make_archive(\"/content/bestim\", 'zip', \"/content/best30\")\n"
      ],
      "execution_count": null,
      "outputs": []
    },
    {
      "cell_type": "markdown",
      "metadata": {
        "collapsed": false,
        "id": "pL0JmGjoJIOk"
      },
      "source": [
        "#### Histograming Colors So We Can Choose 30 out of 100"
      ]
    },
    {
      "cell_type": "markdown",
      "metadata": {
        "collapsed": false,
        "id": "BLQYaOsjJIOk"
      },
      "source": [
        "#### Converting 30 Image Files To Tfrec File"
      ]
    },
    {
      "cell_type": "code",
      "metadata": {
        "pycharm": {
          "name": "#%%\n"
        },
        "id": "FrbACIZ4JIOk"
      },
      "source": [
        "%%script false \n",
        "\n",
        "\n",
        "files = get_zip_filenames('/content/bestim.zip')\n",
        "print (files)"
      ],
      "execution_count": null,
      "outputs": []
    },
    {
      "cell_type": "code",
      "metadata": {
        "pycharm": {
          "name": "#%%\n"
        },
        "id": "3UQM4K7GJIOk"
      },
      "source": [
        "%%script false \n",
        "\n",
        "\n",
        "\n",
        "convert_to_tfrec(files, 'monet.tfrec')"
      ],
      "execution_count": null,
      "outputs": []
    },
    {
      "cell_type": "markdown",
      "metadata": {
        "collapsed": false,
        "id": "fG3IbbUaJIOl"
      },
      "source": [
        "#### Prepare The Chosen 30 Data Set (tf.data.dataset format)\n",
        "whwll we loaded it up first"
      ]
    },
    {
      "cell_type": "code",
      "metadata": {
        "pycharm": {
          "name": "#%%\n"
        },
        "id": "lrxQmbO5JIOl"
      },
      "source": [
        "%%script false \n",
        "\n",
        "\n",
        "# COSHEN_MONET_DS_FILENAMES = tf.io.gfile.glob(str('/content/monet.tfrec'))\n",
        "\n",
        "# chosen_ds = load_dataset(COSHEN_MONET_DS_FILENAMES, labeled=True).batch(1)"
      ],
      "execution_count": null,
      "outputs": []
    },
    {
      "cell_type": "markdown",
      "metadata": {
        "collapsed": false,
        "id": "FWpPpxRLJIOl"
      },
      "source": [
        "# Step 3 -  Augmentation Model Check"
      ]
    },
    {
      "cell_type": "markdown",
      "metadata": {
        "collapsed": false,
        "id": "k-7D5tz2JIOl"
      },
      "source": [
        "#### Quick Snap Of Those 30"
      ]
    },
    {
      "cell_type": "code",
      "metadata": {
        "pycharm": {
          "name": "#%%\n"
        },
        "id": "rTUN6rWyJIOl"
      },
      "source": [
        "display_samples(chosen_ds, 6, 5)"
      ],
      "execution_count": null,
      "outputs": []
    },
    {
      "cell_type": "markdown",
      "metadata": {
        "collapsed": false,
        "id": "ZbYwn-vhJIOl"
      },
      "source": [
        "#### Augmentation Definition"
      ]
    },
    {
      "cell_type": "code",
      "metadata": {
        "pycharm": {
          "name": "#%%\n"
        },
        "id": "Sh4SBgZLJIOl"
      },
      "source": [
        "data_augmentation = tf.keras.Sequential([\n",
        "  layers.experimental.preprocessing.RandomFlip(\"horizontal_and_vertical\"),\n",
        "  layers.experimental.preprocessing.RandomRotation(0.3),\n",
        "  #layers.experimental.preprocessing.Resizing(128, 128),\n",
        "  #layers.experimental.preprocessing.Rescaling(1./255)\n",
        "\n",
        "])"
      ],
      "execution_count": null,
      "outputs": []
    },
    {
      "cell_type": "code",
      "metadata": {
        "pycharm": {
          "name": "#%%\n"
        },
        "id": "ff-duCZRJIOl"
      },
      "source": [
        "batch_size = 32\n",
        "AUTOTUNE = tf.data.AUTOTUNE\n",
        "\n",
        "def prepare(ds, shuffle=False, augment=False):\n",
        "  if shuffle:\n",
        "    ds = ds.shuffle(1000)\n",
        "  print(\"after shuffle:\")\n",
        "  print(ds)\n",
        "\n",
        "  # Batch all datasets\n",
        "  # ds = ds.batch(batch_size)\n",
        "\n",
        "  print(\"after batch:\")\n",
        "  print(ds)\n",
        "\n",
        "  # Use data augmentation only on the training set\n",
        "  if augment:\n",
        "    ds = ds.map(lambda x: (data_augmentation(x, training=True)), \n",
        "                num_parallel_calls=AUTOTUNE)\n",
        "    \n",
        "  print(\"after augment:\")\n",
        "  print(ds)\n",
        "  # Use buffered prefecting on all datasets\n",
        "  return ds.prefetch(buffer_size=AUTOTUNE)"
      ],
      "execution_count": null,
      "outputs": []
    },
    {
      "cell_type": "markdown",
      "metadata": {
        "collapsed": false,
        "id": "CpiLOqNDJIOl"
      },
      "source": [
        "#### Perform Augmentation 10 Times to Increase 30 to 300"
      ]
    },
    {
      "cell_type": "code",
      "metadata": {
        "pycharm": {
          "name": "#%%\n"
        },
        "id": "_5__Fc8wJIOl"
      },
      "source": [
        "print(\"original:\")\n",
        "print(chosen_ds)\n",
        "\n",
        "new_chosen_ds_a = prepare(chosen_ds, shuffle=False, augment=True)\n",
        "display_samples(new_chosen_ds_a, 3, 10)\n",
        "\n",
        "new_chosen_ds_b = prepare(chosen_ds, shuffle=False, augment=True)\n",
        "display_samples(new_chosen_ds_b, 3, 10)\n",
        "\n",
        "new_chosen_ds_c = prepare(chosen_ds, shuffle=False, augment=True)\n",
        "display_samples(new_chosen_ds_c, 3, 10)\n",
        "\n",
        "new_chosen_ds_d = prepare(chosen_ds, shuffle=False, augment=True)\n",
        "display_samples(new_chosen_ds_d, 3, 10)\n",
        "\n",
        "new_chosen_ds_e = prepare(chosen_ds, shuffle=False, augment=True)\n",
        "display_samples(new_chosen_ds_e, 3, 10)\n",
        "\n",
        "new_chosen_ds_f = prepare(chosen_ds, shuffle=False, augment=True)\n",
        "display_samples(new_chosen_ds_f, 3, 10)\n",
        "\n",
        "new_chosen_ds_g = prepare(chosen_ds, shuffle=False, augment=True)\n",
        "display_samples(new_chosen_ds_g, 3, 10)\n",
        "\n",
        "new_chosen_ds_h = prepare(chosen_ds, shuffle=False, augment=True)\n",
        "display_samples(new_chosen_ds_h, 3, 10)\n",
        "\n",
        "new_chosen_ds_i = prepare(chosen_ds, shuffle=False, augment=True)\n",
        "display_samples(new_chosen_ds_i, 3, 10)\n",
        "\n",
        "\n"
      ],
      "execution_count": null,
      "outputs": []
    },
    {
      "cell_type": "markdown",
      "metadata": {
        "collapsed": false,
        "id": "w8XuT3G_JIOm"
      },
      "source": [
        "#### Combine All New Augmented Data"
      ]
    },
    {
      "cell_type": "markdown",
      "metadata": {
        "collapsed": false,
        "id": "pREaCQecJIOm"
      },
      "source": [
        "#### step 3.1 - 300 monets with basic augmentation"
      ]
    },
    {
      "cell_type": "code",
      "metadata": {
        "pycharm": {
          "name": "#%%\n"
        },
        "id": "h0CXeu8GJIOm"
      },
      "source": [
        "# save all 10 mini datasets to folder\n",
        "\n",
        "# create zip\n",
        "\n",
        "# use the code above to create tfrec name: augmented_one"
      ],
      "execution_count": null,
      "outputs": []
    },
    {
      "cell_type": "code",
      "metadata": {
        "pycharm": {
          "name": "#%%\n"
        },
        "id": "21qNWWJ7JIOm"
      },
      "source": [
        "def save_image_to_folder(image, path, i):\n",
        "    print(\"saving image to folder\" + path)\n",
        "    img = image[0].numpy()\n",
        "    img = (img * 127.5 + 127.5).astype(np.uint8)\n",
        "    im = PIL.Image.fromarray(img)\n",
        "    im.save(path + str(i) + \".jpg\")\n",
        "\n",
        "def save_bulk_to_folder(ds, path, i):\n",
        "    j=i\n",
        "    for  _, image in enumerate(ds):\n",
        "        save_image_to_folder(image, path, j)\n",
        "        j += 1\n",
        "        print(j)\n",
        "    return j"
      ],
      "execution_count": null,
      "outputs": []
    },
    {
      "cell_type": "code",
      "metadata": {
        "pycharm": {
          "name": "#%%\n"
        },
        "id": "wRLq9TonJIOm"
      },
      "source": [
        "! mkdir /content/augmented_one\n",
        "path = '/content/augmented_one/'\n",
        "i=0\n",
        "i = save_bulk_to_folder(new_chosen_ds_a, path, i)\n",
        "print(i)\n",
        "i = save_bulk_to_folder(new_chosen_ds_b, path, i)\n",
        "print(i)\n",
        "i = save_bulk_to_folder(new_chosen_ds_c, path, i)\n",
        "i = save_bulk_to_folder(new_chosen_ds_d, path, i)\n",
        "i = save_bulk_to_folder(new_chosen_ds_e, path, i)\n",
        "i = save_bulk_to_folder(new_chosen_ds_f, path, i)\n",
        "i = save_bulk_to_folder(new_chosen_ds_g, path, i)\n",
        "i = save_bulk_to_folder(new_chosen_ds_h, path, i)\n",
        "i = save_bulk_to_folder(new_chosen_ds_i, path, i)\n",
        "i = save_bulk_to_folder(chosen_ds, path, i) # the 30 originals :)\n",
        "\n",
        "shutil.make_archive(\"/content/aug_one\", 'zip', \"/content/augmented_one\")\n"
      ],
      "execution_count": null,
      "outputs": []
    },
    {
      "cell_type": "code",
      "metadata": {
        "pycharm": {
          "name": "#%%\n"
        },
        "id": "hF4-BZVLJIOm"
      },
      "source": [
        "files = get_zip_filenames('/content/aug_one.zip')\n",
        "print (files)"
      ],
      "execution_count": null,
      "outputs": []
    },
    {
      "cell_type": "code",
      "metadata": {
        "pycharm": {
          "name": "#%%\n"
        },
        "id": "-SUDzZOZJIOm"
      },
      "source": [
        "convert_to_tfrec(files, 'augmented_one.tfrec')"
      ],
      "execution_count": null,
      "outputs": []
    },
    {
      "cell_type": "code",
      "metadata": {
        "pycharm": {
          "name": "#%%\n"
        },
        "id": "DXF1nviWJIOm"
      },
      "source": [
        "COSHEN_MONET_DS_FILENAMES = tf.io.gfile.glob(str('/content/augmented_one.tfrec'))\n",
        "\n",
        "chosen_ds_augmented = load_dataset(COSHEN_MONET_DS_FILENAMES, labeled=True).batch(1)\n",
        "\n",
        "data_set = tf.data.Dataset.zip((chosen_ds_augmented, photo_ds))\n"
      ],
      "execution_count": null,
      "outputs": []
    },
    {
      "cell_type": "markdown",
      "metadata": {
        "collapsed": false,
        "id": "gb8I_2IhJIOm"
      },
      "source": [
        "run train and display loss graphes"
      ]
    },
    {
      "cell_type": "code",
      "metadata": {
        "pycharm": {
          "name": "#%%\n"
        },
        "id": "y_Af1-ylJIOm"
      },
      "source": [
        "# %%time\n",
        "# with strategy.scope():\n",
        "#     model = create_model(EPOCHS, data_set)\n",
        "#     compile(model)\n",
        "#     history = train(model, EPOCHS, data_set)\n",
        "#     plot_smoothed_acc_and_loss(EPOCHS, history, 0.8 )"
      ],
      "execution_count": null,
      "outputs": []
    },
    {
      "cell_type": "markdown",
      "metadata": {
        "collapsed": false,
        "id": "N39pMeZXJIOm"
      },
      "source": [
        "run it to see fid score and graph"
      ]
    },
    {
      "cell_type": "code",
      "metadata": {
        "pycharm": {
          "name": "#%%\n"
        },
        "id": "m-qylR-dJIOn"
      },
      "source": [
        "%%time\n",
        "with strategy.scope():\n",
        "    train_fid(EPOCHS, data_set)"
      ],
      "execution_count": null,
      "outputs": []
    },
    {
      "cell_type": "code",
      "metadata": {
        "pycharm": {
          "name": "#%%\n"
        },
        "id": "kMxlvNHaJIOn"
      },
      "source": [
        "while True: pass"
      ],
      "execution_count": null,
      "outputs": []
    },
    {
      "cell_type": "markdown",
      "metadata": {
        "collapsed": false,
        "id": "4ZNdemsKJIOn"
      },
      "source": [
        "#### step 3.2 Adding Augmentations to some data (variety)"
      ]
    },
    {
      "cell_type": "markdown",
      "metadata": {
        "id": "ZtIGzp21JRQN"
      },
      "source": [
        "we werent able to do that part unfortunetally"
      ]
    }
  ]
}